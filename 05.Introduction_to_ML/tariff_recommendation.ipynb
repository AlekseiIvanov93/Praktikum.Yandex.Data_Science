{
 "cells": [
  {
   "cell_type": "markdown",
   "metadata": {},
   "source": [
    "<br><center>\n",
    "# Построение первой модели для задачи классификации\n",
    "</center></br>"
   ]
  },
  {
   "cell_type": "markdown",
   "metadata": {},
   "source": [
    "**Цель работы**: Нужно спрогнозировать, уйдёт клиент из банка в ближайшее время или нет. \n",
    "\n",
    "**Цель применния** :Оператор мобильной связи «Мегалайн» хочет построить систему, способную проанализировать поведение клиентов и предложить пользователям новый тариф: «Смарт» или «Ультра».\n",
    "\n",
    "**Исходные данные**:В нашем распоряжении данные о поведении клиентов, которые уже перешли на эти тарифы ( проект курса «Статистический анализ данных»). "
   ]
  },
  {
   "cell_type": "markdown",
   "metadata": {},
   "source": [
    "## 1. Общая информация и импорт библиотек"
   ]
  },
  {
   "cell_type": "markdown",
   "metadata": {},
   "source": [
    "### 1.1. Импорт библиотек"
   ]
  },
  {
   "cell_type": "code",
   "execution_count": 1,
   "metadata": {},
   "outputs": [],
   "source": [
    "import pandas as pd\n",
    "from sklearn.model_selection import train_test_split, GridSearchCV\n",
    "from sklearn.linear_model import LogisticRegression\n",
    "from sklearn.ensemble import RandomForestClassifier\n",
    "from sklearn.tree import DecisionTreeClassifier\n",
    "import warnings\n",
    "warnings.filterwarnings('ignore')\n",
    "from sklearn.dummy import DummyClassifier"
   ]
  },
  {
   "cell_type": "markdown",
   "metadata": {},
   "source": [
    "### 1.2. Импорт данных"
   ]
  },
  {
   "cell_type": "code",
   "execution_count": 2,
   "metadata": {},
   "outputs": [],
   "source": [
    "df= pd.read_csv('users_behavior.csv')"
   ]
  },
  {
   "cell_type": "markdown",
   "metadata": {},
   "source": [
    "## 2. Предобработка данных "
   ]
  },
  {
   "cell_type": "markdown",
   "metadata": {},
   "source": [
    "### 2.1. Изучение данных"
   ]
  },
  {
   "cell_type": "code",
   "execution_count": 3,
   "metadata": {},
   "outputs": [
    {
     "name": "stdout",
     "output_type": "stream",
     "text": [
      "   calls  minutes  messages   mb_used  is_ultra\n",
      "0   40.0   311.90      83.0  19915.42         0\n",
      "1   85.0   516.75      56.0  22696.96         0\n",
      "2   77.0   467.66      86.0  21060.45         0\n",
      "3  106.0   745.53      81.0   8437.39         1\n",
      "4   66.0   418.74       1.0  14502.75         0\n",
      "<class 'pandas.core.frame.DataFrame'>\n",
      "RangeIndex: 3214 entries, 0 to 3213\n",
      "Data columns (total 5 columns):\n",
      " #   Column    Non-Null Count  Dtype  \n",
      "---  ------    --------------  -----  \n",
      " 0   calls     3214 non-null   float64\n",
      " 1   minutes   3214 non-null   float64\n",
      " 2   messages  3214 non-null   float64\n",
      " 3   mb_used   3214 non-null   float64\n",
      " 4   is_ultra  3214 non-null   int64  \n",
      "dtypes: float64(4), int64(1)\n",
      "memory usage: 125.7 KB\n"
     ]
    }
   ],
   "source": [
    "print(df.head())\n",
    "df.info()"
   ]
  },
  {
   "cell_type": "markdown",
   "metadata": {},
   "source": [
    "Данные представлены в виде таблицы, включающей в себя 3214 строк и 5 столбцов.  \n",
    "При этом 1 столбец с целочисленными данными  тип < int64 >, 4 с числовыми данными типа < float64>.  \n",
    "Разберём какие в таблице столбцы и какую информацию они содержат:\n",
    "* calls — количество звонков\n",
    "* minutes — суммарная длительность звонков в минутах\n",
    "* messages — количество sms-сообщений\n",
    "* mb_used — израсходованный интернет-трафик в Мб\n",
    "* is_ultra —  каким тарифом пользовался в течение месяца («Ультра» — 1, «Смарт» — 0) "
   ]
  },
  {
   "cell_type": "markdown",
   "metadata": {},
   "source": [
    "### 2.2. Общая предобработка данных"
   ]
  },
  {
   "cell_type": "markdown",
   "metadata": {},
   "source": [
    "Из условия задания \n",
    ">***Предобработка данных не понадобится*** "
   ]
  },
  {
   "cell_type": "markdown",
   "metadata": {},
   "source": [
    "### 2.3. Деление данных на выборки"
   ]
  },
  {
   "cell_type": "markdown",
   "metadata": {},
   "source": [
    "Создадим две переменные \n",
    "* features — запишем в неё признаки\n",
    "* target —  запишем в нее целевой признак"
   ]
  },
  {
   "cell_type": "code",
   "execution_count": 4,
   "metadata": {},
   "outputs": [],
   "source": [
    "features = df.drop('is_ultra', axis=1)\n",
    "target = df['is_ultra']"
   ]
  },
  {
   "cell_type": "markdown",
   "metadata": {},
   "source": [
    "Делим данные на {обучающий + проверочный набор} и {тестовый набор}"
   ]
  },
  {
   "cell_type": "code",
   "execution_count": 5,
   "metadata": {},
   "outputs": [],
   "source": [
    "features_trainval,features_test,target_trainval, target_test = train_test_split(\n",
    "features, target,test_size=0.2, random_state=4212)"
   ]
  },
  {
   "cell_type": "markdown",
   "metadata": {},
   "source": [
    "Делим обучающий + проверочный набор на {обучающий} и {проверочный} "
   ]
  },
  {
   "cell_type": "code",
   "execution_count": 6,
   "metadata": {},
   "outputs": [],
   "source": [
    "features_train, features_valid, target_train, target_valid = train_test_split(\n",
    "features_trainval,target_trainval,test_size=0.25, random_state=4212)"
   ]
  },
  {
   "cell_type": "code",
   "execution_count": 7,
   "metadata": {},
   "outputs": [
    {
     "name": "stdout",
     "output_type": "stream",
     "text": [
      "Размер обучающего набора: 2571\n",
      "Размер проверочного набора: 643\n",
      "Размер тестового набора: 643\n",
      "\n"
     ]
    }
   ],
   "source": [
    "print(\"Размер обучающего набора: {}\\nРазмер проверочного набора: {}\\nРазмер тестового набора:\"\n",
    "\" {}\\n\".format(features_trainval.shape[0], features_valid.shape[0], features_test.shape[0]))"
   ]
  },
  {
   "cell_type": "markdown",
   "metadata": {},
   "source": [
    "## 3. Рассмотрение  разных моделей"
   ]
  },
  {
   "cell_type": "markdown",
   "metadata": {},
   "source": [
    "Процесс отбора параметров и оценки модели  будем проводить с помощью **GridSearchCV**\n",
    "\n",
    "\n",
    "Вместо разбиения на **обучающий** (набор для построения модели) и **проверочный** ((валидационный) набор для выбора параметров модели),а также\n",
    "**тестовый** набор для оценки качества работы выбранных параметров, для GridSearchCV достаточно разделить данные на\n",
    "обучающий и тестовый наборы"
   ]
  },
  {
   "cell_type": "code",
   "execution_count": 8,
   "metadata": {},
   "outputs": [
    {
     "name": "stdout",
     "output_type": "stream",
     "text": [
      "Размер обучающего набора: 2410\n",
      "Размер тестового набора: 804\n",
      "\n"
     ]
    }
   ],
   "source": [
    "X_train, X_test, y_train, y_test = train_test_split(features, target,test_size=0.25, random_state=42)  \n",
    "\n",
    "print(\"Размер обучающего набора: {}\\nРазмер тестового набора:\"\n",
    " \" {}\\n\".format(X_train.shape[0], X_test.shape[0]))"
   ]
  },
  {
   "cell_type": "markdown",
   "metadata": {},
   "source": [
    "<br><center>\n",
    "<span style=\"color:green; font-weight: bold; font-size:12pt\">Основные гиперпараметры каждого из методов </span>\n",
    " </center></br>"
   ]
  },
  {
   "cell_type": "markdown",
   "metadata": {},
   "source": [
    "1.**Логистическая регрессия**\n",
    "* Константа регуляризации (С)\n",
    "* Вид регулятора (penalty)\n",
    "* Число итерация (max_iter)\n",
    "\n",
    "\n",
    "2.**Случайный лес**\n",
    "* Минимальное число объектов в листе (min_sample_leaf)\n",
    "* Максимальная глубина дерева (max_depth)\n",
    "* Количество деревьев (n_estimators)\n",
    "* Минимальное число объектов, необходимое для того, чтобы узел дерева мог бы расщепиться(min_samples_split)\n",
    "\n",
    "3.**Решающее дерево**\n",
    "* Минимальное число объектов в листе (min_sample_leaf)\n",
    "* Максимальная глубина дерева (max_depth)\n",
    "* Минимальное число объектов, необходимое для того, чтобы узел дерева мог бы расщепиться(min_samples_split)"
   ]
  },
  {
   "cell_type": "markdown",
   "metadata": {},
   "source": [
    "<br><center>\n",
    "## Логистическая регрессия\n",
    " </center></br>"
   ]
  },
  {
   "cell_type": "code",
   "execution_count": 9,
   "metadata": {},
   "outputs": [],
   "source": [
    "parameters_for_LogisticRegression   = {\n",
    "'C': list(range(1,15,1)),\n",
    "'max_iter': list(range(80, 100,2))\n",
    "}    "
   ]
  },
  {
   "cell_type": "code",
   "execution_count": 10,
   "metadata": {},
   "outputs": [
    {
     "data": {
      "text/plain": [
       "GridSearchCV(cv=5, estimator=LogisticRegression(random_state=4212),\n",
       "             param_grid={'C': [1, 2, 3, 4, 5, 6, 7, 8, 9, 10, 11, 12, 13, 14],\n",
       "                         'max_iter': [80, 82, 84, 86, 88, 90, 92, 94, 96, 98]})"
      ]
     },
     "execution_count": 10,
     "metadata": {},
     "output_type": "execute_result"
    }
   ],
   "source": [
    "grid_search_LogisticRegression = GridSearchCV(LogisticRegression(random_state=4212), parameters_for_LogisticRegression, cv=5)\n",
    "grid_search_LogisticRegression.fit(X_train, y_train)"
   ]
  },
  {
   "cell_type": "code",
   "execution_count": 11,
   "metadata": {},
   "outputs": [
    {
     "name": "stdout",
     "output_type": "stream",
     "text": [
      "Наилучшие значения параметров: {'C': 8, 'max_iter': 92}\n",
      "Наилучшее значение кросс-валидац. правильности:0.722\n"
     ]
    }
   ],
   "source": [
    "print(\"Наилучшие значения параметров: {}\".format(grid_search_LogisticRegression.best_params_))\n",
    "print(\"Наилучшее значение кросс-валидац. правильности:{:.3f}\".format(grid_search_LogisticRegression.best_score_))"
   ]
  },
  {
   "cell_type": "markdown",
   "metadata": {},
   "source": [
    "<br><center>\n",
    "## Случайный лес\n",
    " </center></br>"
   ]
  },
  {
   "cell_type": "code",
   "execution_count": 12,
   "metadata": {},
   "outputs": [],
   "source": [
    "parameters_for_RandomForestClassifier  = {\n",
    "'min_samples_leaf': list(range(1, 4, 1)),\n",
    "'max_depth': list(range(6, 9,1)),\n",
    "'n_estimators': list(range(9, 13, 1)),\n",
    "'min_samples_split': list(range(5, 9, 1))\n",
    "}    "
   ]
  },
  {
   "cell_type": "code",
   "execution_count": 13,
   "metadata": {},
   "outputs": [
    {
     "name": "stdout",
     "output_type": "stream",
     "text": [
      "Wall time: 54.7 s\n"
     ]
    },
    {
     "data": {
      "text/plain": [
       "GridSearchCV(cv=5, estimator=RandomForestClassifier(random_state=4212),\n",
       "             param_grid={'max_depth': [6, 7, 8], 'min_samples_leaf': [1, 2, 3],\n",
       "                         'min_samples_split': [5, 6, 7, 8],\n",
       "                         'n_estimators': [9, 10, 11, 12]})"
      ]
     },
     "execution_count": 13,
     "metadata": {},
     "output_type": "execute_result"
    }
   ],
   "source": [
    "%%time\n",
    "grid_search_RandomForestClassifier= GridSearchCV(RandomForestClassifier(random_state=4212), \n",
    "                         parameters_for_RandomForestClassifier, cv=5,) \n",
    "grid_search_RandomForestClassifier.fit(X_train, y_train)"
   ]
  },
  {
   "cell_type": "code",
   "execution_count": 14,
   "metadata": {},
   "outputs": [
    {
     "name": "stdout",
     "output_type": "stream",
     "text": [
      "Наилучшие значения параметров: {'max_depth': 8, 'min_samples_leaf': 1, 'min_samples_split': 5, 'n_estimators': 10}\n",
      "Наилучшее значение кросс-валидац. правильности:0.800\n"
     ]
    }
   ],
   "source": [
    "print(\"Наилучшие значения параметров: {}\".format(grid_search_RandomForestClassifier.best_params_))\n",
    "print(\"Наилучшее значение кросс-валидац. правильности:{:.3f}\".format(grid_search_RandomForestClassifier.best_score_))"
   ]
  },
  {
   "cell_type": "markdown",
   "metadata": {},
   "source": [
    "<br><center>\n",
    "## Решающее дерево\n",
    " </center></br>"
   ]
  },
  {
   "cell_type": "code",
   "execution_count": 15,
   "metadata": {},
   "outputs": [],
   "source": [
    "parameters_for_DecisionTreeClassifier  = {\n",
    "'min_samples_leaf': list(range(9, 16, 1)),\n",
    "'max_depth': list(range(5, 12,1)),\n",
    "'min_samples_split': list(range(2, 7, 1))\n",
    "}    "
   ]
  },
  {
   "cell_type": "code",
   "execution_count": 16,
   "metadata": {},
   "outputs": [
    {
     "data": {
      "text/plain": [
       "GridSearchCV(cv=5, estimator=DecisionTreeClassifier(random_state=4212),\n",
       "             param_grid={'max_depth': [5, 6, 7, 8, 9, 10, 11],\n",
       "                         'min_samples_leaf': [9, 10, 11, 12, 13, 14, 15],\n",
       "                         'min_samples_split': [2, 3, 4, 5, 6]})"
      ]
     },
     "execution_count": 16,
     "metadata": {},
     "output_type": "execute_result"
    }
   ],
   "source": [
    "grid_search_DecisionTreeClassifier = GridSearchCV(DecisionTreeClassifier(random_state=4212), parameters_for_DecisionTreeClassifier, cv=5) \n",
    "grid_search_DecisionTreeClassifier.fit(X_train, y_train)"
   ]
  },
  {
   "cell_type": "code",
   "execution_count": 17,
   "metadata": {},
   "outputs": [
    {
     "name": "stdout",
     "output_type": "stream",
     "text": [
      "Наилучшие значения параметров: {'max_depth': 8, 'min_samples_leaf': 11, 'min_samples_split': 2}\n",
      "Наилучшее значение кросс-валидац. правильности:0.790\n"
     ]
    }
   ],
   "source": [
    "print(\"Наилучшие значения параметров: {}\".format(grid_search_DecisionTreeClassifier.best_params_))\n",
    "print(\"Наилучшее значение кросс-валидац. правильности:{:.3f}\".format(grid_search_DecisionTreeClassifier.best_score_))"
   ]
  },
  {
   "cell_type": "markdown",
   "metadata": {},
   "source": [
    " ### 3.1. Проверка качества моделей"
   ]
  },
  {
   "cell_type": "code",
   "execution_count": 18,
   "metadata": {},
   "outputs": [
    {
     "name": "stdout",
     "output_type": "stream",
     "text": [
      "**Случайный лес** - Правильность на тестовом наборе: 0.82\n",
      "**Решающее дерево** - Правильность на тестовом наборе: 0.81\n",
      "**Логистическая регрессия** - Правильность на тестовом наборе: 0.71\n"
     ]
    }
   ],
   "source": [
    "print(\"**Случайный лес** - Правильность на тестовом наборе: {:.2f}\"\n",
    "      .format(grid_search_RandomForestClassifier.score(X_test, y_test)))\n",
    "\n",
    "print(\"**Решающее дерево** - Правильность на тестовом наборе: {:.2f}\"\n",
    "      .format(grid_search_DecisionTreeClassifier.score(X_test, y_test)))\n",
    "\n",
    "print(\"**Логистическая регрессия** - Правильность на тестовом наборе: {:.2f}\"\n",
    "      .format(grid_search_LogisticRegression.score(X_test, y_test)))"
   ]
  },
  {
   "cell_type": "markdown",
   "metadata": {},
   "source": [
    "## 4. Дополнительное задание"
   ]
  },
  {
   "cell_type": "code",
   "execution_count": 19,
   "metadata": {},
   "outputs": [
    {
     "data": {
      "text/plain": [
       "0.7027363184079602"
      ]
     },
     "execution_count": 19,
     "metadata": {},
     "output_type": "execute_result"
    }
   ],
   "source": [
    "dummy_clf = DummyClassifier(strategy=\"most_frequent\", random_state=4212)\n",
    "\n",
    "dummy_clf.fit(X_test, y_test)\n",
    "\n",
    "dummy_clf.score(X_test, y_test)"
   ]
  },
  {
   "cell_type": "markdown",
   "metadata": {},
   "source": [
    "Мы получили 70%-ную правильностью без какого-либо обучения. Сравним этот результат с результатом, полученным с\n",
    "помощью наших моделей:\n"
   ]
  },
  {
   "cell_type": "markdown",
   "metadata": {},
   "source": [
    "## Вывод\n",
    "Построили 3 разные модели\n",
    ">**Случайный лес** - Правильность на тестовом наборе: 0.82  \n",
    "**Решающее дерево** - Правильность на тестовом наборе: 0.81  \n",
    "**Логистическая регрессия** - Правильность на тестовом наборе: 0.71  \n",
    "\n",
    "Выбрали основные гиперпараметры для каждого способа и подобрали автоматически с помощью  GridSearchCV   \n",
    "Все 3 модели успешно проверили на адекватность"
   ]
  }
 ],
 "metadata": {
  "kernelspec": {
   "display_name": "Python 3",
   "language": "python",
   "name": "python3"
  },
  "language_info": {
   "codemirror_mode": {
    "name": "ipython",
    "version": 3
   },
   "file_extension": ".py",
   "mimetype": "text/x-python",
   "name": "python",
   "nbconvert_exporter": "python",
   "pygments_lexer": "ipython3",
   "version": "3.8.3"
  },
  "toc": {
   "base_numbering": 1,
   "nav_menu": {},
   "number_sections": true,
   "sideBar": true,
   "skip_h1_title": false,
   "title_cell": "Table of Contents",
   "title_sidebar": "Contents",
   "toc_cell": false,
   "toc_position": {},
   "toc_section_display": true,
   "toc_window_display": false
  }
 },
 "nbformat": 4,
 "nbformat_minor": 4
}
