{
 "cells": [
  {
   "cell_type": "markdown",
   "metadata": {},
   "source": [
    "\n",
    "# Спрос на рейсы авиакомпании\n"
   ]
  },
  {
   "cell_type": "markdown",
   "metadata": {},
   "source": [
    "**Цель работы:**  Построить модель со значением метрики качества F1 не меньше 0.75.  \n",
    "\n",
    "**Цель применния** : Определить предпочтения пользователей, покупающих билеты на разные направления.\n",
    "\n",
    "**Исходные данные**:  В распоряжении набор данных с разметкой о токсичности правок."
   ]
  },
  {
   "cell_type": "markdown",
   "metadata": {},
   "source": [
    "### Содержание:\n",
    "* Подготовка\n",
    "* Обучение моделей\n",
    "* Вывод"
   ]
  },
  {
   "cell_type": "markdown",
   "metadata": {},
   "source": [
    "\n",
    "## Подготовка "
   ]
  },
  {
   "cell_type": "code",
   "execution_count": 15,
   "metadata": {},
   "outputs": [],
   "source": [
    "import pandas as pd \n",
    "import numpy as np\n",
    "from sklearn.model_selection import train_test_split, cross_val_score\n",
    "from sklearn.metrics import f1_score,confusion_matrix\n",
    "from sklearn.feature_extraction.text import TfidfVectorizer \n",
    "from sklearn.svm import SVC, LinearSVC \n",
    "from sklearn.linear_model import LogisticRegression \n",
    "from pymystem3 import Mystem\n",
    "m = Mystem() \n",
    "import re\n",
    "import nltk\n",
    "from nltk.corpus import stopwords as nltk_stopwords\n",
    "import matplotlib.pyplot as plt\n",
    "import seaborn as sns\n",
    "import warnings # Параметры предупреждений\n",
    "warnings.simplefilter('ignore')\n"
   ]
  },
  {
   "cell_type": "code",
   "execution_count": 2,
   "metadata": {},
   "outputs": [
    {
     "data": {
      "text/html": [
       "<div>\n",
       "<style scoped>\n",
       "    .dataframe tbody tr th:only-of-type {\n",
       "        vertical-align: middle;\n",
       "    }\n",
       "\n",
       "    .dataframe tbody tr th {\n",
       "        vertical-align: top;\n",
       "    }\n",
       "\n",
       "    .dataframe thead th {\n",
       "        text-align: right;\n",
       "    }\n",
       "</style>\n",
       "<table border=\"1\" class=\"dataframe\">\n",
       "  <thead>\n",
       "    <tr style=\"text-align: right;\">\n",
       "      <th></th>\n",
       "      <th>text</th>\n",
       "      <th>toxic</th>\n",
       "    </tr>\n",
       "  </thead>\n",
       "  <tbody>\n",
       "    <tr>\n",
       "      <td>0</td>\n",
       "      <td>Explanation\\nWhy the edits made under my usern...</td>\n",
       "      <td>0</td>\n",
       "    </tr>\n",
       "    <tr>\n",
       "      <td>1</td>\n",
       "      <td>D'aww! He matches this background colour I'm s...</td>\n",
       "      <td>0</td>\n",
       "    </tr>\n",
       "    <tr>\n",
       "      <td>2</td>\n",
       "      <td>Hey man, I'm really not trying to edit war. It...</td>\n",
       "      <td>0</td>\n",
       "    </tr>\n",
       "    <tr>\n",
       "      <td>3</td>\n",
       "      <td>\"\\nMore\\nI can't make any real suggestions on ...</td>\n",
       "      <td>0</td>\n",
       "    </tr>\n",
       "    <tr>\n",
       "      <td>4</td>\n",
       "      <td>You, sir, are my hero. Any chance you remember...</td>\n",
       "      <td>0</td>\n",
       "    </tr>\n",
       "  </tbody>\n",
       "</table>\n",
       "</div>"
      ],
      "text/plain": [
       "                                                text  toxic\n",
       "0  Explanation\\nWhy the edits made under my usern...      0\n",
       "1  D'aww! He matches this background colour I'm s...      0\n",
       "2  Hey man, I'm really not trying to edit war. It...      0\n",
       "3  \"\\nMore\\nI can't make any real suggestions on ...      0\n",
       "4  You, sir, are my hero. Any chance you remember...      0"
      ]
     },
     "metadata": {},
     "output_type": "display_data"
    },
    {
     "name": "stdout",
     "output_type": "stream",
     "text": [
      "<class 'pandas.core.frame.DataFrame'>\n",
      "RangeIndex: 159571 entries, 0 to 159570\n",
      "Data columns (total 2 columns):\n",
      "text     159571 non-null object\n",
      "toxic    159571 non-null int64\n",
      "dtypes: int64(1), object(1)\n",
      "memory usage: 2.4+ MB\n"
     ]
    },
    {
     "data": {
      "text/plain": [
       "None"
      ]
     },
     "metadata": {},
     "output_type": "display_data"
    }
   ],
   "source": [
    "data= pd.read_csv('toxic_comments.csv')\n",
    "display(data.head())\n",
    "display(data.info())"
   ]
  },
  {
   "cell_type": "markdown",
   "metadata": {},
   "source": [
    "Набор данных из двух столбцов: комментарии и целевой признак."
   ]
  },
  {
   "cell_type": "code",
   "execution_count": 3,
   "metadata": {},
   "outputs": [
    {
     "name": "stdout",
     "output_type": "stream",
     "text": [
      "Кол-во дубликатов 0\n"
     ]
    }
   ],
   "source": [
    "print('Кол-во дубликатов',data.duplicated().sum())"
   ]
  },
  {
   "cell_type": "code",
   "execution_count": 4,
   "metadata": {},
   "outputs": [
    {
     "data": {
      "text/plain": [
       "toxic\n",
       "0    143346\n",
       "1     16225\n",
       "dtype: int64"
      ]
     },
     "execution_count": 4,
     "metadata": {},
     "output_type": "execute_result"
    }
   ],
   "source": [
    "data.groupby('toxic').size()"
   ]
  },
  {
   "cell_type": "markdown",
   "metadata": {},
   "source": [
    "При обучении моделей учтем явный дисбаланс классов"
   ]
  },
  {
   "cell_type": "markdown",
   "metadata": {},
   "source": [
    "Создадим корпус постов. Преобразуем столбец **text** в список текстов. Переведём тексты в стандартный для Python формат: кодировку Unicode (U)."
   ]
  },
  {
   "cell_type": "code",
   "execution_count": 5,
   "metadata": {},
   "outputs": [],
   "source": [
    "corpus = data['text'].values.astype('U')"
   ]
  },
  {
   "cell_type": "markdown",
   "metadata": {},
   "source": [
    "Напишем функцию **lemmatize(text)** для лемматизации комментариев"
   ]
  },
  {
   "cell_type": "code",
   "execution_count": 6,
   "metadata": {},
   "outputs": [],
   "source": [
    "def lemmatize(text):\n",
    "    lemm_list = m.lemmatize(clear_text(text))\n",
    "    lemm_text = \"\".join(lemm_list)\n",
    "    return lemm_text"
   ]
  },
  {
   "cell_type": "markdown",
   "metadata": {},
   "source": [
    "Напишем функцию **clear_text(text)**, которая оставит в тексте только кириллические символы и пробелы."
   ]
  },
  {
   "cell_type": "code",
   "execution_count": 7,
   "metadata": {},
   "outputs": [],
   "source": [
    "def clear_text(text):\n",
    "    return \" \".join(re.sub(r'[^a-zA-Z ]', ' ', text).split())"
   ]
  },
  {
   "cell_type": "code",
   "execution_count": 8,
   "metadata": {},
   "outputs": [
    {
     "name": "stdout",
     "output_type": "stream",
     "text": [
      "Оригинальный комментарий Explanation\n",
      "Why the edits made under my username Hardcore Metallica Fan were reverted? They weren't vandalisms, just closure on some GAs after I voted at New York Dolls FAC. And please don't remove the template from the talk page since I'm retired now.89.205.38.27\n",
      "Очищенный и лемматизированный комментарий: Explanation Why the edits made under my username Hardcore Metallica Fan were reverted They weren t vandalisms just closure on some GAs after I voted at New York Dolls FAC And please don t remove the template from the talk page since I m retired now\n",
      "\n"
     ]
    }
   ],
   "source": [
    "print(\"Оригинальный комментарий\", corpus[0])\n",
    "print(\"Очищенный и лемматизированный комментарий:\", lemmatize(corpus[0]))"
   ]
  },
  {
   "cell_type": "markdown",
   "metadata": {},
   "source": [
    "Применим функции **lemmatize(text)** и **clear_text(text)** ко всему набору данных"
   ]
  },
  {
   "cell_type": "code",
   "execution_count": 9,
   "metadata": {
    "scrolled": true
   },
   "outputs": [
    {
     "data": {
      "text/html": [
       "<div>\n",
       "<style scoped>\n",
       "    .dataframe tbody tr th:only-of-type {\n",
       "        vertical-align: middle;\n",
       "    }\n",
       "\n",
       "    .dataframe tbody tr th {\n",
       "        vertical-align: top;\n",
       "    }\n",
       "\n",
       "    .dataframe thead th {\n",
       "        text-align: right;\n",
       "    }\n",
       "</style>\n",
       "<table border=\"1\" class=\"dataframe\">\n",
       "  <thead>\n",
       "    <tr style=\"text-align: right;\">\n",
       "      <th></th>\n",
       "      <th>text</th>\n",
       "      <th>toxic</th>\n",
       "    </tr>\n",
       "  </thead>\n",
       "  <tbody>\n",
       "    <tr>\n",
       "      <td>0</td>\n",
       "      <td>Explanation Why the edits made under my userna...</td>\n",
       "      <td>0</td>\n",
       "    </tr>\n",
       "    <tr>\n",
       "      <td>1</td>\n",
       "      <td>D aww He matches this background colour I m se...</td>\n",
       "      <td>0</td>\n",
       "    </tr>\n",
       "    <tr>\n",
       "      <td>2</td>\n",
       "      <td>Hey man I m really not trying to edit war It s...</td>\n",
       "      <td>0</td>\n",
       "    </tr>\n",
       "    <tr>\n",
       "      <td>3</td>\n",
       "      <td>More I can t make any real suggestions on impr...</td>\n",
       "      <td>0</td>\n",
       "    </tr>\n",
       "    <tr>\n",
       "      <td>4</td>\n",
       "      <td>You sir are my hero Any chance you remember wh...</td>\n",
       "      <td>0</td>\n",
       "    </tr>\n",
       "  </tbody>\n",
       "</table>\n",
       "</div>"
      ],
      "text/plain": [
       "                                                text  toxic\n",
       "0  Explanation Why the edits made under my userna...      0\n",
       "1  D aww He matches this background colour I m se...      0\n",
       "2  Hey man I m really not trying to edit war It s...      0\n",
       "3  More I can t make any real suggestions on impr...      0\n",
       "4  You sir are my hero Any chance you remember wh...      0"
      ]
     },
     "execution_count": 9,
     "metadata": {},
     "output_type": "execute_result"
    }
   ],
   "source": [
    "data['text'] = data['text'].apply(lemmatize)\n",
    "data.head()"
   ]
  },
  {
   "cell_type": "markdown",
   "metadata": {},
   "source": [
    "\n",
    "## Обучение моделей\n"
   ]
  },
  {
   "cell_type": "code",
   "execution_count": 10,
   "metadata": {},
   "outputs": [
    {
     "data": {
      "text/html": [
       "<div>\n",
       "<style scoped>\n",
       "    .dataframe tbody tr th:only-of-type {\n",
       "        vertical-align: middle;\n",
       "    }\n",
       "\n",
       "    .dataframe tbody tr th {\n",
       "        vertical-align: top;\n",
       "    }\n",
       "\n",
       "    .dataframe thead th {\n",
       "        text-align: right;\n",
       "    }\n",
       "</style>\n",
       "<table border=\"1\" class=\"dataframe\">\n",
       "  <thead>\n",
       "    <tr style=\"text-align: right;\">\n",
       "      <th></th>\n",
       "      <th>text</th>\n",
       "      <th>toxic</th>\n",
       "    </tr>\n",
       "  </thead>\n",
       "  <tbody>\n",
       "    <tr>\n",
       "      <td>0</td>\n",
       "      <td>Explanation Why the edits made under my userna...</td>\n",
       "      <td>0</td>\n",
       "    </tr>\n",
       "    <tr>\n",
       "      <td>1</td>\n",
       "      <td>D aww He matches this background colour I m se...</td>\n",
       "      <td>0</td>\n",
       "    </tr>\n",
       "    <tr>\n",
       "      <td>2</td>\n",
       "      <td>Hey man I m really not trying to edit war It s...</td>\n",
       "      <td>0</td>\n",
       "    </tr>\n",
       "    <tr>\n",
       "      <td>3</td>\n",
       "      <td>More I can t make any real suggestions on impr...</td>\n",
       "      <td>0</td>\n",
       "    </tr>\n",
       "    <tr>\n",
       "      <td>4</td>\n",
       "      <td>You sir are my hero Any chance you remember wh...</td>\n",
       "      <td>0</td>\n",
       "    </tr>\n",
       "  </tbody>\n",
       "</table>\n",
       "</div>"
      ],
      "text/plain": [
       "                                                text  toxic\n",
       "0  Explanation Why the edits made under my userna...      0\n",
       "1  D aww He matches this background colour I m se...      0\n",
       "2  Hey man I m really not trying to edit war It s...      0\n",
       "3  More I can t make any real suggestions on impr...      0\n",
       "4  You sir are my hero Any chance you remember wh...      0"
      ]
     },
     "execution_count": 10,
     "metadata": {},
     "output_type": "execute_result"
    }
   ],
   "source": [
    "data.head()"
   ]
  },
  {
   "cell_type": "markdown",
   "metadata": {},
   "source": [
    "Разбиваем данные на обучающий и тестовый набор"
   ]
  },
  {
   "cell_type": "code",
   "execution_count": 11,
   "metadata": {},
   "outputs": [],
   "source": [
    "features_train, features_test, target_train, target_test = train_test_split(data['text'],data['toxic'],test_size=0.25)"
   ]
  },
  {
   "cell_type": "code",
   "execution_count": 12,
   "metadata": {
    "scrolled": true
   },
   "outputs": [
    {
     "name": "stdout",
     "output_type": "stream",
     "text": [
      "Размер обучающего набора: 119678\n",
      "Размер тестового набора: 39893\n",
      "\n"
     ]
    }
   ],
   "source": [
    "print(\"Размер обучающего набора: {}\\nРазмер тестового набора:\"\n",
    "         \" {}\\n\".format(features_train.shape[0], features_test.shape[0],))"
   ]
  },
  {
   "cell_type": "markdown",
   "metadata": {},
   "source": [
    "Загрузим список стоп-слов"
   ]
  },
  {
   "cell_type": "code",
   "execution_count": 16,
   "metadata": {},
   "outputs": [
    {
     "name": "stderr",
     "output_type": "stream",
     "text": [
      "[nltk_data] Downloading package stopwords to /home/jovyan/nltk_data...\n",
      "[nltk_data]   Package stopwords is already up-to-date!\n"
     ]
    }
   ],
   "source": [
    "nltk.download('stopwords')\n",
    "stopwords = set(nltk_stopwords.words('english'))"
   ]
  },
  {
   "cell_type": "markdown",
   "metadata": {},
   "source": [
    "Создадим счётчик, указав в нём стоп-слова и посчитаем TD-IDF"
   ]
  },
  {
   "cell_type": "code",
   "execution_count": 17,
   "metadata": {},
   "outputs": [
    {
     "data": {
      "text/plain": [
       "TfidfVectorizer(analyzer='word', binary=False, decode_error='strict',\n",
       "                dtype=<class 'numpy.float64'>, encoding='utf-8',\n",
       "                input='content', lowercase=True, max_df=1.0, max_features=None,\n",
       "                min_df=1, ngram_range=(1, 1), norm='l2', preprocessor=None,\n",
       "                smooth_idf=True,\n",
       "                stop_words={'a', 'about', 'above', 'after', 'again', 'against',\n",
       "                            'ain', 'all', 'am', 'an', 'and', 'any', 'are',\n",
       "                            'aren', \"aren't\", 'as', 'at', 'be', 'because',\n",
       "                            'been', 'before', 'being', 'below', 'between',\n",
       "                            'both', 'but', 'by', 'can', 'couldn', \"couldn't\", ...},\n",
       "                strip_accents=None, sublinear_tf=False,\n",
       "                token_pattern='(?u)\\\\b\\\\w\\\\w+\\\\b', tokenizer=None, use_idf=True,\n",
       "                vocabulary=None)"
      ]
     },
     "execution_count": 17,
     "metadata": {},
     "output_type": "execute_result"
    }
   ],
   "source": [
    "count_tf_idf = TfidfVectorizer(stop_words=stopwords)\n",
    "count_tf_idf.fit(features_train)"
   ]
  },
  {
   "cell_type": "markdown",
   "metadata": {},
   "source": [
    "Конвертируем на  обучающий и тестовый набор"
   ]
  },
  {
   "cell_type": "code",
   "execution_count": 18,
   "metadata": {},
   "outputs": [],
   "source": [
    "features_train_tf = count_tf_idf.transform(features_train)\n",
    "features_test_tf = count_tf_idf.transform(features_test)"
   ]
  },
  {
   "cell_type": "markdown",
   "metadata": {},
   "source": [
    "## Обучение LogisticRegression без баланса классов"
   ]
  },
  {
   "cell_type": "code",
   "execution_count": 19,
   "metadata": {},
   "outputs": [],
   "source": [
    "model_lr = LogisticRegression(random_state = 12345)"
   ]
  },
  {
   "cell_type": "code",
   "execution_count": 20,
   "metadata": {
    "scrolled": true
   },
   "outputs": [
    {
     "name": "stdout",
     "output_type": "stream",
     "text": [
      "Качество метрики F1: 0.697981600392477\n"
     ]
    }
   ],
   "source": [
    "print('Качество метрики F1:',(cross_val_score(model_lr,features_train_tf, target_train,cv=3,scoring='f1')).mean())"
   ]
  },
  {
   "cell_type": "markdown",
   "metadata": {},
   "source": [
    "Качество метрики F1 достаточно низкое с учетом дисбаланса классов"
   ]
  },
  {
   "cell_type": "markdown",
   "metadata": {},
   "source": [
    "### Тестирование"
   ]
  },
  {
   "cell_type": "code",
   "execution_count": 21,
   "metadata": {},
   "outputs": [
    {
     "data": {
      "text/plain": [
       "0.7229916897506926"
      ]
     },
     "execution_count": 21,
     "metadata": {},
     "output_type": "execute_result"
    }
   ],
   "source": [
    "model_lr.fit(features_train_tf, target_train)\n",
    "predicted = model_lr.predict(features_test_tf)\n",
    "f1_score(target_test, predicted)"
   ]
  },
  {
   "cell_type": "markdown",
   "metadata": {},
   "source": [
    "Качество метрики F1  нас не удовлетворяет"
   ]
  },
  {
   "cell_type": "markdown",
   "metadata": {},
   "source": [
    "Напишем функцию матрицы ошибок:"
   ]
  },
  {
   "cell_type": "code",
   "execution_count": 22,
   "metadata": {},
   "outputs": [],
   "source": [
    "def conf_matrix(model, features, target):\n",
    "\n",
    "    pred = model.predict(features)\n",
    "    conf_matrix = confusion_matrix(target, pred)\n",
    "    plt.figure(figsize=(4,4))\n",
    "    sns.heatmap(conf_matrix,annot=True,fmt=\"d\")\n",
    "    plt.title('Confusion matrix')"
   ]
  },
  {
   "cell_type": "code",
   "execution_count": 23,
   "metadata": {},
   "outputs": [
    {
     "data": {
      "image/png": "[encoded data removed]",
      "text/plain": [
       "<Figure size 288x288 with 2 Axes>"
      ]
     },
     "metadata": {
      "needs_background": "light"
     },
     "output_type": "display_data"
    }
   ],
   "source": [
    "conf_matrix(model_lr, features_test_tf, target_test)"
   ]
  },
  {
   "cell_type": "markdown",
   "metadata": {},
   "source": [
    "## Обучение LogisticRegression с балансом классов"
   ]
  },
  {
   "cell_type": "code",
   "execution_count": 24,
   "metadata": {},
   "outputs": [],
   "source": [
    "model_lr_balanced = LogisticRegression(class_weight='balanced',random_state = 12345)"
   ]
  },
  {
   "cell_type": "code",
   "execution_count": 25,
   "metadata": {},
   "outputs": [
    {
     "name": "stdout",
     "output_type": "stream",
     "text": [
      "Качество метрики F1 c учетом баланса классов: 0.7510732999213929\n"
     ]
    }
   ],
   "source": [
    "print('Качество метрики F1 c учетом баланса классов:',(cross_val_score(model_lr_balanced,features_train_tf, target_train,cv=3,scoring='f1')).mean())"
   ]
  },
  {
   "cell_type": "markdown",
   "metadata": {},
   "source": [
    "Качество метрики F1 c учетом баланса классов выше требуемого"
   ]
  },
  {
   "cell_type": "markdown",
   "metadata": {},
   "source": [
    "### Тестирование"
   ]
  },
  {
   "cell_type": "code",
   "execution_count": 26,
   "metadata": {},
   "outputs": [
    {
     "data": {
      "text/plain": [
       "0.7470386361120336"
      ]
     },
     "execution_count": 26,
     "metadata": {},
     "output_type": "execute_result"
    }
   ],
   "source": [
    "model_lr_balanced.fit(features_train_tf, target_train)\n",
    "predicted = model_lr_balanced.predict(features_test_tf)\n",
    "f1_score(target_test, predicted)"
   ]
  },
  {
   "cell_type": "markdown",
   "metadata": {},
   "source": [
    "Качество метрики F1  очень близко к 0.75"
   ]
  },
  {
   "cell_type": "code",
   "execution_count": 27,
   "metadata": {},
   "outputs": [
    {
     "data": {
      "image/png": "[encoded data removed]",
      "text/plain": [
       "<Figure size 288x288 with 2 Axes>"
      ]
     },
     "metadata": {
      "needs_background": "light"
     },
     "output_type": "display_data"
    }
   ],
   "source": [
    "conf_matrix(model_lr_balanced, features_test_tf, target_test)"
   ]
  },
  {
   "cell_type": "markdown",
   "metadata": {},
   "source": [
    "## Обучение LinearSVC без баланса классов"
   ]
  },
  {
   "cell_type": "code",
   "execution_count": 28,
   "metadata": {},
   "outputs": [],
   "source": [
    "SVM = LinearSVC(random_state = 12345)"
   ]
  },
  {
   "cell_type": "code",
   "execution_count": 29,
   "metadata": {},
   "outputs": [
    {
     "name": "stdout",
     "output_type": "stream",
     "text": [
      "Качество метрики F1: 0.7686565803482205\n"
     ]
    }
   ],
   "source": [
    "print('Качество метрики F1:',(cross_val_score(SVM,features_train_tf, target_train,cv=3,scoring='f1')).mean())"
   ]
  },
  {
   "cell_type": "markdown",
   "metadata": {},
   "source": [
    "Качество метрики F1 нас устраивает"
   ]
  },
  {
   "cell_type": "markdown",
   "metadata": {},
   "source": [
    "### Тестирование"
   ]
  },
  {
   "cell_type": "code",
   "execution_count": 30,
   "metadata": {},
   "outputs": [
    {
     "data": {
      "text/plain": [
       "0.7792062604807155"
      ]
     },
     "execution_count": 30,
     "metadata": {},
     "output_type": "execute_result"
    }
   ],
   "source": [
    "SVM.fit(features_train_tf, target_train)\n",
    "predicted = SVM.predict(features_test_tf)\n",
    "f1_score(target_test, predicted)"
   ]
  },
  {
   "cell_type": "markdown",
   "metadata": {},
   "source": [
    "Качество метрики F1 нас устраивает"
   ]
  },
  {
   "cell_type": "code",
   "execution_count": 31,
   "metadata": {},
   "outputs": [
    {
     "data": {
      "image/png": "[encoded data removed]",
      "text/plain": [
       "<Figure size 288x288 with 2 Axes>"
      ]
     },
     "metadata": {
      "needs_background": "light"
     },
     "output_type": "display_data"
    }
   ],
   "source": [
    "conf_matrix(SVM, features_test_tf, target_test)"
   ]
  },
  {
   "cell_type": "markdown",
   "metadata": {},
   "source": [
    "## Обучение LinearSVC c балансом классов"
   ]
  },
  {
   "cell_type": "code",
   "execution_count": 32,
   "metadata": {},
   "outputs": [],
   "source": [
    "SVM_balanced = LinearSVC(random_state = 12345,class_weight='balanced')"
   ]
  },
  {
   "cell_type": "code",
   "execution_count": 33,
   "metadata": {},
   "outputs": [
    {
     "name": "stdout",
     "output_type": "stream",
     "text": [
      "Качество метрики F1: 0.7640031594159619\n"
     ]
    }
   ],
   "source": [
    "print('Качество метрики F1:',(cross_val_score(SVM_balanced,features_train_tf, target_train,cv=3,scoring='f1')).mean())"
   ]
  },
  {
   "cell_type": "markdown",
   "metadata": {},
   "source": [
    "Качество метрики F1 нас устраивает"
   ]
  },
  {
   "cell_type": "markdown",
   "metadata": {},
   "source": [
    "### Тестирование"
   ]
  },
  {
   "cell_type": "code",
   "execution_count": 34,
   "metadata": {},
   "outputs": [
    {
     "data": {
      "text/plain": [
       "0.7612660312977997"
      ]
     },
     "execution_count": 34,
     "metadata": {},
     "output_type": "execute_result"
    }
   ],
   "source": [
    "SVM_balanced.fit(features_train_tf, target_train)\n",
    "predicted = SVM_balanced.predict(features_test_tf)\n",
    "f1_score(target_test, predicted)"
   ]
  },
  {
   "cell_type": "markdown",
   "metadata": {},
   "source": [
    "Качество метрики F1 нас устраивает"
   ]
  },
  {
   "cell_type": "code",
   "execution_count": 35,
   "metadata": {
    "scrolled": true
   },
   "outputs": [
    {
     "data": {
      "image/png": "[encoded data removed]",
      "text/plain": [
       "<Figure size 288x288 with 2 Axes>"
      ]
     },
     "metadata": {
      "needs_background": "light"
     },
     "output_type": "display_data"
    }
   ],
   "source": [
    "conf_matrix(SVM_balanced, features_test_tf, target_test)"
   ]
  },
  {
   "cell_type": "markdown",
   "metadata": {},
   "source": [
    "\n",
    "## Вывод \n"
   ]
  },
  {
   "cell_type": "markdown",
   "metadata": {},
   "source": [
    "Рассматривали только эти две модели: они просты и быстрые, другие же модели имеют долгое время обучения. Пользователь ограничен в ресурсе мощностей\n",
    "* LinearSVC на тесте и на трейне показал F1>0.75  \n",
    "* LogisticRegression на тесте <0.75, однако на трейне с учетом баланса классов выше указанного  \n",
    "Стоит заметить, как искусственый баланс классов увеличивает долю ошибочно позитивных комментариев."
   ]
  }
 ],
 "metadata": {
  "ExecuteTimeLog": [
   {
    "duration": 1608,
    "start_time": "2021-07-10T16:48:48.389Z"
   },
   {
    "duration": 7286,
    "start_time": "2021-07-10T16:49:12.283Z"
   },
   {
    "duration": 830,
    "start_time": "2021-07-10T16:49:25.760Z"
   },
   {
    "duration": 2864,
    "start_time": "2021-07-10T16:49:38.367Z"
   },
   {
    "duration": 4,
    "start_time": "2021-07-10T16:49:49.096Z"
   },
   {
    "duration": 1218,
    "start_time": "2021-07-10T16:49:59.536Z"
   },
   {
    "duration": 118347,
    "start_time": "2021-07-10T16:50:11.382Z"
   },
   {
    "duration": 9,
    "start_time": "2021-07-10T16:52:09.732Z"
   },
   {
    "duration": 230,
    "start_time": "2021-07-10T16:53:01.695Z"
   },
   {
    "duration": 35,
    "start_time": "2021-07-10T17:26:17.639Z"
   },
   {
    "duration": 5,
    "start_time": "2021-07-10T17:26:18.791Z"
   },
   {
    "duration": 302,
    "start_time": "2021-07-10T17:27:49.999Z"
   },
   {
    "duration": 243,
    "start_time": "2021-07-10T17:28:03.202Z"
   },
   {
    "duration": 239,
    "start_time": "2021-07-10T17:28:08.637Z"
   },
   {
    "duration": 1615,
    "start_time": "2021-07-10T17:28:15.347Z"
   },
   {
    "duration": 6794,
    "start_time": "2021-07-10T17:28:16.964Z"
   },
   {
    "duration": 2829,
    "start_time": "2021-07-10T17:28:23.762Z"
   },
   {
    "duration": 6,
    "start_time": "2021-07-10T17:28:26.594Z"
   },
   {
    "duration": 1057,
    "start_time": "2021-07-10T17:28:26.602Z"
   },
   {
    "duration": 117883,
    "start_time": "2021-07-10T17:28:27.661Z"
   },
   {
    "duration": 14,
    "start_time": "2021-07-10T17:30:25.547Z"
   },
   {
    "duration": 234,
    "start_time": "2021-07-10T17:30:25.564Z"
   },
   {
    "duration": 34,
    "start_time": "2021-07-10T17:30:25.800Z"
   },
   {
    "duration": 5,
    "start_time": "2021-07-10T17:30:25.836Z"
   },
   {
    "duration": 298,
    "start_time": "2021-07-10T17:31:12.463Z"
   },
   {
    "duration": 1697,
    "start_time": "2021-07-10T17:31:21.944Z"
   },
   {
    "duration": 6623,
    "start_time": "2021-07-10T17:31:23.644Z"
   },
   {
    "duration": 2818,
    "start_time": "2021-07-10T17:31:30.271Z"
   },
   {
    "duration": 23,
    "start_time": "2021-07-10T17:31:33.093Z"
   },
   {
    "duration": 1140,
    "start_time": "2021-07-10T17:31:33.118Z"
   },
   {
    "duration": 117940,
    "start_time": "2021-07-10T17:31:34.262Z"
   },
   {
    "duration": 10,
    "start_time": "2021-07-10T17:33:32.204Z"
   },
   {
    "duration": 346,
    "start_time": "2021-07-10T17:33:32.216Z"
   },
   {
    "duration": 35,
    "start_time": "2021-07-10T17:33:32.566Z"
   },
   {
    "duration": 5,
    "start_time": "2021-07-10T17:33:32.604Z"
   },
   {
    "duration": 341,
    "start_time": "2021-07-10T17:34:23.038Z"
   },
   {
    "duration": 263,
    "start_time": "2021-07-10T17:34:25.748Z"
   },
   {
    "duration": 1556,
    "start_time": "2021-07-10T17:34:33.874Z"
   },
   {
    "duration": 5098,
    "start_time": "2021-07-10T17:34:35.433Z"
   },
   {
    "duration": 2925,
    "start_time": "2021-07-10T17:34:40.534Z"
   },
   {
    "duration": 11,
    "start_time": "2021-07-10T17:34:43.462Z"
   },
   {
    "duration": 1202,
    "start_time": "2021-07-10T17:34:43.475Z"
   },
   {
    "duration": 118113,
    "start_time": "2021-07-10T17:34:44.680Z"
   },
   {
    "duration": 9,
    "start_time": "2021-07-10T17:36:42.796Z"
   },
   {
    "duration": 234,
    "start_time": "2021-07-10T17:36:48.462Z"
   },
   {
    "duration": 34,
    "start_time": "2021-07-10T17:36:50.166Z"
   },
   {
    "duration": 5,
    "start_time": "2021-07-10T17:36:51.308Z"
   },
   {
    "duration": 300,
    "start_time": "2021-07-10T17:39:10.951Z"
   },
   {
    "duration": 243,
    "start_time": "2021-07-10T17:39:12.552Z"
   },
   {
    "duration": 1595,
    "start_time": "2021-07-10T17:39:29.252Z"
   },
   {
    "duration": 6871,
    "start_time": "2021-07-10T17:39:30.850Z"
   },
   {
    "duration": 2922,
    "start_time": "2021-07-10T17:39:37.725Z"
   },
   {
    "duration": 5,
    "start_time": "2021-07-10T17:39:40.651Z"
   },
   {
    "duration": 1074,
    "start_time": "2021-07-10T17:39:40.658Z"
   },
   {
    "duration": 117577,
    "start_time": "2021-07-10T17:39:41.734Z"
   },
   {
    "duration": 10,
    "start_time": "2021-07-10T17:41:39.313Z"
   },
   {
    "duration": 254,
    "start_time": "2021-07-10T17:41:39.326Z"
   },
   {
    "duration": 33,
    "start_time": "2021-07-10T17:41:39.583Z"
   },
   {
    "duration": 4,
    "start_time": "2021-07-10T17:41:39.619Z"
   },
   {
    "duration": 1703,
    "start_time": "2021-07-10T17:43:12.019Z"
   },
   {
    "duration": 6766,
    "start_time": "2021-07-10T17:43:13.725Z"
   },
   {
    "duration": 2794,
    "start_time": "2021-07-10T17:43:20.495Z"
   },
   {
    "duration": 6,
    "start_time": "2021-07-10T17:43:23.292Z"
   },
   {
    "duration": 1137,
    "start_time": "2021-07-10T17:43:23.300Z"
   },
   {
    "duration": 118003,
    "start_time": "2021-07-10T17:43:24.441Z"
   },
   {
    "duration": 13,
    "start_time": "2021-07-10T17:45:22.447Z"
   },
   {
    "duration": 278,
    "start_time": "2021-07-10T17:45:22.463Z"
   },
   {
    "duration": 32,
    "start_time": "2021-07-10T17:45:22.744Z"
   },
   {
    "duration": 6,
    "start_time": "2021-07-10T17:45:22.778Z"
   },
   {
    "duration": 317,
    "start_time": "2021-07-10T17:45:43.365Z"
   },
   {
    "duration": 459,
    "start_time": "2021-07-10T17:45:57.820Z"
   },
   {
    "duration": 1540,
    "start_time": "2021-07-10T17:46:24.688Z"
   },
   {
    "duration": 6936,
    "start_time": "2021-07-10T17:46:26.231Z"
   },
   {
    "duration": 2807,
    "start_time": "2021-07-10T17:46:33.171Z"
   },
   {
    "duration": 11,
    "start_time": "2021-07-10T17:46:35.982Z"
   },
   {
    "duration": 1163,
    "start_time": "2021-07-10T17:46:35.996Z"
   },
   {
    "duration": 117975,
    "start_time": "2021-07-10T17:46:37.163Z"
   },
   {
    "duration": 14,
    "start_time": "2021-07-10T17:48:35.140Z"
   },
   {
    "duration": 250,
    "start_time": "2021-07-10T17:48:35.158Z"
   },
   {
    "duration": 35,
    "start_time": "2021-07-10T17:48:35.410Z"
   },
   {
    "duration": 5,
    "start_time": "2021-07-10T17:48:35.447Z"
   },
   {
    "duration": 309,
    "start_time": "2021-07-10T17:50:52.271Z"
   },
   {
    "duration": 241,
    "start_time": "2021-07-10T17:50:58.906Z"
   },
   {
    "duration": 285,
    "start_time": "2021-07-10T17:51:00.585Z"
   },
   {
    "duration": 251,
    "start_time": "2021-07-10T17:51:08.950Z"
   },
   {
    "duration": 242,
    "start_time": "2021-07-10T17:51:11.540Z"
   },
   {
    "duration": 1599,
    "start_time": "2021-07-10T17:55:14.128Z"
   },
   {
    "duration": 6389,
    "start_time": "2021-07-10T17:55:15.730Z"
   },
   {
    "duration": 2771,
    "start_time": "2021-07-10T17:55:22.122Z"
   },
   {
    "duration": 8,
    "start_time": "2021-07-10T17:55:24.895Z"
   },
   {
    "duration": 1069,
    "start_time": "2021-07-10T17:55:24.905Z"
   },
   {
    "duration": 119567,
    "start_time": "2021-07-10T17:55:25.977Z"
   },
   {
    "duration": 15,
    "start_time": "2021-07-10T17:57:25.546Z"
   },
   {
    "duration": 249,
    "start_time": "2021-07-10T17:57:25.564Z"
   },
   {
    "duration": 35,
    "start_time": "2021-07-10T17:57:25.815Z"
   },
   {
    "duration": 4,
    "start_time": "2021-07-10T17:57:25.853Z"
   },
   {
    "duration": 1593,
    "start_time": "2021-07-10T18:12:43.931Z"
   },
   {
    "duration": 6809,
    "start_time": "2021-07-10T18:12:45.527Z"
   },
   {
    "duration": 2806,
    "start_time": "2021-07-10T18:12:52.340Z"
   },
   {
    "duration": 6,
    "start_time": "2021-07-10T18:12:55.155Z"
   },
   {
    "duration": 1059,
    "start_time": "2021-07-10T18:12:55.164Z"
   },
   {
    "duration": 118040,
    "start_time": "2021-07-10T18:12:56.226Z"
   },
   {
    "duration": 10,
    "start_time": "2021-07-10T18:14:54.268Z"
   },
   {
    "duration": 241,
    "start_time": "2021-07-10T18:14:54.281Z"
   },
   {
    "duration": 34,
    "start_time": "2021-07-10T18:14:54.526Z"
   },
   {
    "duration": 5,
    "start_time": "2021-07-10T18:14:54.563Z"
   },
   {
    "duration": 322,
    "start_time": "2021-07-10T18:15:28.371Z"
   },
   {
    "duration": 1590,
    "start_time": "2021-07-10T18:15:43.350Z"
   },
   {
    "duration": 6457,
    "start_time": "2021-07-10T18:15:44.942Z"
   },
   {
    "duration": 2793,
    "start_time": "2021-07-10T18:15:51.402Z"
   },
   {
    "duration": 8,
    "start_time": "2021-07-10T18:15:54.198Z"
   },
   {
    "duration": 1075,
    "start_time": "2021-07-10T18:15:54.209Z"
   },
   {
    "duration": 118783,
    "start_time": "2021-07-10T18:15:55.287Z"
   },
   {
    "duration": 9,
    "start_time": "2021-07-10T18:17:54.073Z"
   },
   {
    "duration": 276,
    "start_time": "2021-07-10T18:17:54.085Z"
   },
   {
    "duration": 37,
    "start_time": "2021-07-10T18:17:54.363Z"
   },
   {
    "duration": 5,
    "start_time": "2021-07-10T18:17:54.403Z"
   },
   {
    "duration": 303,
    "start_time": "2021-07-10T18:19:20.617Z"
   },
   {
    "duration": 1584,
    "start_time": "2021-07-10T18:23:51.049Z"
   },
   {
    "duration": 6545,
    "start_time": "2021-07-10T18:23:52.635Z"
   },
   {
    "duration": 2787,
    "start_time": "2021-07-10T18:23:59.184Z"
   },
   {
    "duration": 14,
    "start_time": "2021-07-10T18:24:01.974Z"
   },
   {
    "duration": 1058,
    "start_time": "2021-07-10T18:24:01.991Z"
   },
   {
    "duration": 117862,
    "start_time": "2021-07-10T18:24:03.055Z"
   },
   {
    "duration": 11,
    "start_time": "2021-07-10T18:26:00.920Z"
   },
   {
    "duration": 263,
    "start_time": "2021-07-10T18:26:00.936Z"
   },
   {
    "duration": 34,
    "start_time": "2021-07-10T18:26:01.202Z"
   },
   {
    "duration": 6,
    "start_time": "2021-07-10T18:26:01.239Z"
   },
   {
    "duration": 306,
    "start_time": "2021-07-10T18:26:17.602Z"
   },
   {
    "duration": 1665,
    "start_time": "2021-07-10T18:27:15.694Z"
   },
   {
    "duration": 6639,
    "start_time": "2021-07-10T18:27:17.362Z"
   },
   {
    "duration": 2841,
    "start_time": "2021-07-10T18:27:24.004Z"
   },
   {
    "duration": 6,
    "start_time": "2021-07-10T18:27:26.854Z"
   },
   {
    "duration": 1161,
    "start_time": "2021-07-10T18:27:26.863Z"
   },
   {
    "duration": 122639,
    "start_time": "2021-07-10T18:27:28.027Z"
   },
   {
    "duration": 11,
    "start_time": "2021-07-10T18:29:30.668Z"
   },
   {
    "duration": 234,
    "start_time": "2021-07-10T18:29:30.683Z"
   },
   {
    "duration": 36,
    "start_time": "2021-07-10T18:29:30.920Z"
   },
   {
    "duration": 5,
    "start_time": "2021-07-10T18:29:30.959Z"
   },
   {
    "duration": 296,
    "start_time": "2021-07-10T18:33:42.053Z"
   },
   {
    "duration": 244,
    "start_time": "2021-07-10T18:35:30.314Z"
   },
   {
    "duration": 1552,
    "start_time": "2021-07-10T18:43:19.495Z"
   },
   {
    "duration": 6615,
    "start_time": "2021-07-10T18:43:21.050Z"
   },
   {
    "duration": 2765,
    "start_time": "2021-07-10T18:43:27.668Z"
   },
   {
    "duration": 19,
    "start_time": "2021-07-10T18:43:30.436Z"
   },
   {
    "duration": 1078,
    "start_time": "2021-07-10T18:43:30.458Z"
   },
   {
    "duration": 118688,
    "start_time": "2021-07-10T18:43:31.539Z"
   },
   {
    "duration": 11,
    "start_time": "2021-07-10T18:45:30.229Z"
   },
   {
    "duration": 264,
    "start_time": "2021-07-10T18:45:30.243Z"
   },
   {
    "duration": 39,
    "start_time": "2021-07-10T18:45:30.511Z"
   },
   {
    "duration": 6,
    "start_time": "2021-07-10T18:45:30.553Z"
   },
   {
    "duration": 1721,
    "start_time": "2021-07-10T18:47:50.466Z"
   },
   {
    "duration": 6488,
    "start_time": "2021-07-10T18:47:52.190Z"
   },
   {
    "duration": 2846,
    "start_time": "2021-07-10T18:47:58.681Z"
   },
   {
    "duration": 25,
    "start_time": "2021-07-10T18:48:01.530Z"
   },
   {
    "duration": 1079,
    "start_time": "2021-07-10T18:48:01.558Z"
   },
   {
    "duration": 118294,
    "start_time": "2021-07-10T18:48:02.640Z"
   },
   {
    "duration": 21,
    "start_time": "2021-07-10T18:50:00.937Z"
   },
   {
    "duration": 287,
    "start_time": "2021-07-10T18:50:00.964Z"
   },
   {
    "duration": 35,
    "start_time": "2021-07-10T18:50:01.254Z"
   },
   {
    "duration": 4,
    "start_time": "2021-07-10T18:50:01.292Z"
   },
   {
    "duration": 6,
    "start_time": "2021-07-10T18:50:39.833Z"
   },
   {
    "duration": 1687,
    "start_time": "2021-07-10T18:50:45.894Z"
   },
   {
    "duration": 6580,
    "start_time": "2021-07-10T18:50:47.584Z"
   },
   {
    "duration": 2873,
    "start_time": "2021-07-10T18:50:54.168Z"
   },
   {
    "duration": 15,
    "start_time": "2021-07-10T18:50:57.045Z"
   },
   {
    "duration": 1073,
    "start_time": "2021-07-10T18:50:57.062Z"
   },
   {
    "duration": 118966,
    "start_time": "2021-07-10T18:50:58.138Z"
   },
   {
    "duration": 10,
    "start_time": "2021-07-10T18:52:57.107Z"
   },
   {
    "duration": 265,
    "start_time": "2021-07-10T18:52:57.120Z"
   },
   {
    "duration": 38,
    "start_time": "2021-07-10T18:52:57.388Z"
   },
   {
    "duration": 6,
    "start_time": "2021-07-10T18:52:57.429Z"
   },
   {
    "duration": 20,
    "start_time": "2021-07-10T18:52:57.438Z"
   },
   {
    "duration": 8247,
    "start_time": "2021-07-10T18:56:06.139Z"
   },
   {
    "duration": 3,
    "start_time": "2021-07-10T18:58:35.362Z"
   },
   {
    "duration": 10943,
    "start_time": "2021-07-10T18:58:58.277Z"
   },
   {
    "duration": 307,
    "start_time": "2021-07-10T19:15:18.378Z"
   },
   {
    "duration": 1568,
    "start_time": "2021-07-10T19:15:32.167Z"
   },
   {
    "duration": 376,
    "start_time": "2021-07-10T19:15:38.853Z"
   },
   {
    "duration": 1538,
    "start_time": "2021-07-10T19:15:55.584Z"
   },
   {
    "duration": 6656,
    "start_time": "2021-07-10T19:15:57.125Z"
   },
   {
    "duration": 2922,
    "start_time": "2021-07-10T19:16:03.787Z"
   },
   {
    "duration": 17,
    "start_time": "2021-07-10T19:16:06.712Z"
   },
   {
    "duration": 1073,
    "start_time": "2021-07-10T19:16:06.731Z"
   },
   {
    "duration": 118176,
    "start_time": "2021-07-10T19:16:07.807Z"
   },
   {
    "duration": 10,
    "start_time": "2021-07-10T19:18:05.986Z"
   },
   {
    "duration": 254,
    "start_time": "2021-07-10T19:18:05.998Z"
   },
   {
    "duration": 39,
    "start_time": "2021-07-10T19:18:06.255Z"
   },
   {
    "duration": 6,
    "start_time": "2021-07-10T19:18:06.297Z"
   },
   {
    "duration": 11,
    "start_time": "2021-07-10T19:18:06.306Z"
   },
   {
    "duration": 392,
    "start_time": "2021-07-10T19:19:06.747Z"
   },
   {
    "duration": 7718,
    "start_time": "2021-07-10T19:19:16.884Z"
   },
   {
    "duration": 8248,
    "start_time": "2021-07-10T19:20:41.244Z"
   },
   {
    "duration": 8,
    "start_time": "2021-07-10T19:21:54.144Z"
   },
   {
    "duration": 299,
    "start_time": "2021-07-10T19:25:29.001Z"
   },
   {
    "duration": 1540,
    "start_time": "2021-07-10T19:25:35.685Z"
   },
   {
    "duration": 6618,
    "start_time": "2021-07-10T19:25:37.227Z"
   },
   {
    "duration": 2931,
    "start_time": "2021-07-10T19:25:43.857Z"
   },
   {
    "duration": 8,
    "start_time": "2021-07-10T19:25:46.790Z"
   },
   {
    "duration": 1115,
    "start_time": "2021-07-10T19:25:46.800Z"
   },
   {
    "duration": 1138,
    "start_time": "2021-07-11T16:13:52.931Z"
   },
   {
    "duration": 3299,
    "start_time": "2021-07-11T16:13:54.071Z"
   },
   {
    "duration": 1953,
    "start_time": "2021-07-11T16:13:58.452Z"
   },
   {
    "duration": 3,
    "start_time": "2021-07-11T16:14:02.778Z"
   },
   {
    "duration": 877,
    "start_time": "2021-07-11T16:14:04.148Z"
   },
   {
    "duration": 72947,
    "start_time": "2021-07-11T16:14:09.372Z"
   },
   {
    "duration": 7,
    "start_time": "2021-07-11T16:15:29.182Z"
   },
   {
    "duration": 309,
    "start_time": "2021-07-11T16:16:13.790Z"
   },
   {
    "duration": 3,
    "start_time": "2021-07-11T16:16:28.421Z"
   },
   {
    "duration": 244,
    "start_time": "2021-07-11T16:17:09.489Z"
   },
   {
    "duration": 32,
    "start_time": "2021-07-11T16:18:02.882Z"
   },
   {
    "duration": 348,
    "start_time": "2021-07-11T18:25:31.478Z"
   },
   {
    "duration": 1578,
    "start_time": "2021-07-11T18:25:39.500Z"
   },
   {
    "duration": 793,
    "start_time": "2021-07-11T18:25:41.080Z"
   },
   {
    "duration": 2766,
    "start_time": "2021-07-11T18:25:41.876Z"
   },
   {
    "duration": 18,
    "start_time": "2021-07-11T18:25:44.646Z"
   },
   {
    "duration": 1124,
    "start_time": "2021-07-11T18:25:44.667Z"
   },
   {
    "duration": 119558,
    "start_time": "2021-07-11T18:25:45.802Z"
   },
   {
    "duration": 9,
    "start_time": "2021-07-11T18:27:45.363Z"
   },
   {
    "duration": 11,
    "start_time": "2021-07-11T18:27:45.376Z"
   },
   {
    "duration": 49,
    "start_time": "2021-07-11T18:27:45.389Z"
   },
   {
    "duration": 3,
    "start_time": "2021-07-11T18:27:45.440Z"
   },
   {
    "duration": 452,
    "start_time": "2021-07-11T18:27:45.446Z"
   },
   {
    "duration": 5,
    "start_time": "2021-07-11T18:34:20.468Z"
   },
   {
    "duration": 5,
    "start_time": "2021-07-11T18:35:16.788Z"
   },
   {
    "duration": 1607,
    "start_time": "2021-07-11T18:35:29.138Z"
   },
   {
    "duration": 525,
    "start_time": "2021-07-11T18:35:38.060Z"
   },
   {
    "duration": 4,
    "start_time": "2021-07-11T18:35:50.930Z"
   },
   {
    "duration": 252,
    "start_time": "2021-07-11T18:52:11.996Z"
   },
   {
    "duration": 8662,
    "start_time": "2021-07-11T18:52:49.916Z"
   },
   {
    "duration": 14197,
    "start_time": "2021-07-11T18:53:09.087Z"
   },
   {
    "duration": 10379,
    "start_time": "2021-07-11T18:54:17.346Z"
   },
   {
    "duration": 4,
    "start_time": "2021-07-11T18:54:30.464Z"
   },
   {
    "duration": 4,
    "start_time": "2021-07-11T18:54:31.016Z"
   },
   {
    "duration": 6,
    "start_time": "2021-07-11T18:54:31.636Z"
   },
   {
    "duration": 4,
    "start_time": "2021-07-11T18:54:32.327Z"
   },
   {
    "duration": 341,
    "start_time": "2021-07-11T18:54:33.403Z"
   },
   {
    "duration": 610,
    "start_time": "2021-07-11T18:54:55.874Z"
   },
   {
    "duration": 5,
    "start_time": "2021-07-11T18:55:31.533Z"
   },
   {
    "duration": 70432,
    "start_time": "2021-07-11T18:55:36.495Z"
   },
   {
    "duration": -1976,
    "start_time": "2021-07-11T18:56:48.906Z"
   },
   {
    "duration": 4,
    "start_time": "2021-07-11T18:56:53.996Z"
   },
   {
    "duration": 6,
    "start_time": "2021-07-11T18:56:54.647Z"
   },
   {
    "duration": 3,
    "start_time": "2021-07-11T18:56:55.575Z"
   },
   {
    "duration": 176306,
    "start_time": "2021-07-11T18:56:56.351Z"
   },
   {
    "duration": 1736,
    "start_time": "2021-07-12T16:46:30.085Z"
   },
   {
    "duration": 813,
    "start_time": "2021-07-12T16:46:31.823Z"
   },
   {
    "duration": 2778,
    "start_time": "2021-07-12T16:46:32.639Z"
   },
   {
    "duration": 6,
    "start_time": "2021-07-12T16:46:35.422Z"
   },
   {
    "duration": 1081,
    "start_time": "2021-07-12T16:46:35.431Z"
   },
   {
    "duration": 120462,
    "start_time": "2021-07-12T16:46:36.515Z"
   },
   {
    "duration": 10,
    "start_time": "2021-07-12T16:48:36.979Z"
   },
   {
    "duration": 16,
    "start_time": "2021-07-12T16:48:36.993Z"
   },
   {
    "duration": 44,
    "start_time": "2021-07-12T16:48:37.012Z"
   },
   {
    "duration": 112,
    "start_time": "2021-07-12T16:48:37.058Z"
   },
   {
    "duration": 8476,
    "start_time": "2021-07-12T16:48:37.172Z"
   },
   {
    "duration": 10731,
    "start_time": "2021-07-12T16:48:45.650Z"
   },
   {
    "duration": 3,
    "start_time": "2021-07-12T16:48:56.383Z"
   },
   {
    "duration": 26,
    "start_time": "2021-07-12T16:48:56.388Z"
   },
   {
    "duration": 30,
    "start_time": "2021-07-12T16:48:56.416Z"
   },
   {
    "duration": 20,
    "start_time": "2021-07-12T16:48:56.448Z"
   },
   {
    "duration": 179282,
    "start_time": "2021-07-12T16:48:56.470Z"
   },
   {
    "duration": 490,
    "start_time": "2021-07-12T16:53:45.618Z"
   },
   {
    "duration": 1143,
    "start_time": "2021-07-12T17:04:55.715Z"
   },
   {
    "duration": 587,
    "start_time": "2021-07-12T17:04:56.859Z"
   },
   {
    "duration": 2079,
    "start_time": "2021-07-12T17:04:57.448Z"
   },
   {
    "duration": 4,
    "start_time": "2021-07-12T17:04:59.530Z"
   },
   {
    "duration": 735,
    "start_time": "2021-07-12T17:04:59.535Z"
   },
   {
    "duration": 66471,
    "start_time": "2021-07-12T17:05:00.272Z"
   },
   {
    "duration": 6,
    "start_time": "2021-07-12T17:06:06.745Z"
   },
   {
    "duration": 5,
    "start_time": "2021-07-12T17:06:06.753Z"
   },
   {
    "duration": 40,
    "start_time": "2021-07-12T17:06:06.759Z"
   },
   {
    "duration": 223,
    "start_time": "2021-07-12T17:06:06.801Z"
   },
   {
    "duration": 4794,
    "start_time": "2021-07-12T17:06:07.026Z"
   },
   {
    "duration": 5871,
    "start_time": "2021-07-12T17:06:11.822Z"
   },
   {
    "duration": 3,
    "start_time": "2021-07-12T17:06:17.694Z"
   },
   {
    "duration": 15,
    "start_time": "2021-07-12T17:06:17.699Z"
   },
   {
    "duration": 7,
    "start_time": "2021-07-12T17:06:17.715Z"
   },
   {
    "duration": 4,
    "start_time": "2021-07-12T17:06:17.724Z"
   },
   {
    "duration": 175599,
    "start_time": "2021-07-12T17:06:17.730Z"
   },
   {
    "duration": 1151,
    "start_time": "2021-07-12T17:13:49.701Z"
   },
   {
    "duration": 3184,
    "start_time": "2021-07-12T17:13:50.854Z"
   },
   {
    "duration": 221,
    "start_time": "2021-07-12T17:13:54.040Z"
   },
   {
    "duration": 2246,
    "start_time": "2021-07-12T17:13:54.263Z"
   },
   {
    "duration": 5,
    "start_time": "2021-07-12T17:13:56.511Z"
   },
   {
    "duration": 875,
    "start_time": "2021-07-12T17:13:56.517Z"
   },
   {
    "duration": 66164,
    "start_time": "2021-07-12T17:13:57.395Z"
   },
   {
    "duration": 6,
    "start_time": "2021-07-12T17:15:03.561Z"
   },
   {
    "duration": 5,
    "start_time": "2021-07-12T17:15:03.569Z"
   },
   {
    "duration": 41,
    "start_time": "2021-07-12T17:15:03.575Z"
   },
   {
    "duration": 265,
    "start_time": "2021-07-12T17:15:03.617Z"
   },
   {
    "duration": 4925,
    "start_time": "2021-07-12T17:15:03.884Z"
   },
   {
    "duration": 5945,
    "start_time": "2021-07-12T17:15:08.811Z"
   },
   {
    "duration": 2,
    "start_time": "2021-07-12T17:15:14.758Z"
   },
   {
    "duration": 10,
    "start_time": "2021-07-12T17:15:14.762Z"
   },
   {
    "duration": 13,
    "start_time": "2021-07-12T17:15:14.774Z"
   },
   {
    "duration": 8,
    "start_time": "2021-07-12T17:15:14.789Z"
   },
   {
    "duration": 220241,
    "start_time": "2021-07-12T17:15:14.798Z"
   },
   {
    "duration": 365,
    "start_time": "2021-07-12T17:18:55.040Z"
   },
   {
    "duration": -1979,
    "start_time": "2021-07-12T17:18:57.385Z"
   },
   {
    "duration": -2033,
    "start_time": "2021-07-12T17:18:57.440Z"
   },
   {
    "duration": 3,
    "start_time": "2021-07-12T17:22:10.068Z"
   },
   {
    "duration": 253,
    "start_time": "2021-07-12T17:22:10.719Z"
   },
   {
    "duration": 194,
    "start_time": "2021-07-12T17:22:33.909Z"
   },
   {
    "duration": 3,
    "start_time": "2021-07-12T17:26:05.848Z"
   },
   {
    "duration": 250055,
    "start_time": "2021-07-12T17:26:07.288Z"
   },
   {
    "duration": -2332,
    "start_time": "2021-07-12T17:30:19.677Z"
   },
   {
    "duration": -2389,
    "start_time": "2021-07-12T17:30:19.737Z"
   },
   {
    "duration": 3,
    "start_time": "2021-07-12T17:31:15.799Z"
   },
   {
    "duration": 2,
    "start_time": "2021-07-12T17:31:19.268Z"
   },
   {
    "duration": 471,
    "start_time": "2021-07-12T17:31:24.929Z"
   },
   {
    "duration": 240,
    "start_time": "2021-07-12T17:33:30.637Z"
   },
   {
    "duration": 3,
    "start_time": "2021-07-12T17:33:44.677Z"
   },
   {
    "duration": 3,
    "start_time": "2021-07-12T17:34:58.348Z"
   },
   {
    "duration": 77,
    "start_time": "2021-07-12T17:34:59.039Z"
   },
   {
    "duration": 1148,
    "start_time": "2021-07-12T17:38:27.902Z"
   },
   {
    "duration": 3203,
    "start_time": "2021-07-12T17:38:29.052Z"
   },
   {
    "duration": 212,
    "start_time": "2021-07-12T17:38:32.258Z"
   },
   {
    "duration": 2149,
    "start_time": "2021-07-12T17:38:32.472Z"
   },
   {
    "duration": 4,
    "start_time": "2021-07-12T17:38:34.623Z"
   },
   {
    "duration": 792,
    "start_time": "2021-07-12T17:38:34.629Z"
   },
   {
    "duration": 69628,
    "start_time": "2021-07-12T17:38:35.423Z"
   },
   {
    "duration": 7,
    "start_time": "2021-07-12T17:39:45.052Z"
   },
   {
    "duration": 4,
    "start_time": "2021-07-12T17:39:45.061Z"
   },
   {
    "duration": 46,
    "start_time": "2021-07-12T17:39:45.067Z"
   },
   {
    "duration": 227,
    "start_time": "2021-07-12T17:39:45.114Z"
   },
   {
    "duration": 5061,
    "start_time": "2021-07-12T17:39:45.342Z"
   },
   {
    "duration": 6208,
    "start_time": "2021-07-12T17:39:50.404Z"
   },
   {
    "duration": 4,
    "start_time": "2021-07-12T17:39:56.614Z"
   },
   {
    "duration": 6,
    "start_time": "2021-07-12T17:39:56.620Z"
   },
   {
    "duration": 4,
    "start_time": "2021-07-12T17:39:56.627Z"
   },
   {
    "duration": 4,
    "start_time": "2021-07-12T17:39:56.633Z"
   },
   {
    "duration": 6,
    "start_time": "2021-07-12T17:39:56.638Z"
   },
   {
    "duration": 5,
    "start_time": "2021-07-12T17:39:56.645Z"
   },
   {
    "duration": 8,
    "start_time": "2021-07-12T17:39:56.651Z"
   },
   {
    "duration": 9,
    "start_time": "2021-07-12T17:39:56.661Z"
   },
   {
    "duration": 23859,
    "start_time": "2021-07-12T17:39:56.671Z"
   },
   {
    "duration": 4,
    "start_time": "2021-07-12T17:41:17.874Z"
   },
   {
    "duration": 23520,
    "start_time": "2021-07-12T17:41:52.422Z"
   },
   {
    "duration": 72,
    "start_time": "2021-07-12T17:43:08.367Z"
   },
   {
    "duration": 82,
    "start_time": "2021-07-12T17:43:17.855Z"
   },
   {
    "duration": 24116,
    "start_time": "2021-07-12T17:43:22.026Z"
   },
   {
    "duration": 23796,
    "start_time": "2021-07-12T17:45:26.638Z"
   },
   {
    "duration": 1158,
    "start_time": "2021-07-12T18:02:57.305Z"
   },
   {
    "duration": 3227,
    "start_time": "2021-07-12T18:02:58.465Z"
   },
   {
    "duration": 218,
    "start_time": "2021-07-12T18:03:01.694Z"
   },
   {
    "duration": 2178,
    "start_time": "2021-07-12T18:03:01.914Z"
   },
   {
    "duration": 3,
    "start_time": "2021-07-12T18:03:04.093Z"
   },
   {
    "duration": 798,
    "start_time": "2021-07-12T18:03:04.098Z"
   },
   {
    "duration": 67675,
    "start_time": "2021-07-12T18:03:04.898Z"
   },
   {
    "duration": 7,
    "start_time": "2021-07-12T18:04:12.574Z"
   },
   {
    "duration": 11,
    "start_time": "2021-07-12T18:04:12.583Z"
   },
   {
    "duration": 45,
    "start_time": "2021-07-12T18:04:12.596Z"
   },
   {
    "duration": 253,
    "start_time": "2021-07-12T18:04:12.642Z"
   },
   {
    "duration": 4882,
    "start_time": "2021-07-12T18:04:12.898Z"
   },
   {
    "duration": 5983,
    "start_time": "2021-07-12T18:04:17.782Z"
   },
   {
    "duration": 3,
    "start_time": "2021-07-12T18:04:23.767Z"
   },
   {
    "duration": 23858,
    "start_time": "2021-07-12T18:04:23.772Z"
   },
   {
    "duration": 23688,
    "start_time": "2021-07-12T18:36:00.548Z"
   },
   {
    "duration": 3,
    "start_time": "2021-07-12T18:37:33.355Z"
   },
   {
    "duration": 23849,
    "start_time": "2021-07-12T18:37:34.186Z"
   },
   {
    "duration": 34164,
    "start_time": "2021-07-12T18:40:25.471Z"
   },
   {
    "duration": 488,
    "start_time": "2021-07-12T18:44:21.341Z"
   },
   {
    "duration": 6,
    "start_time": "2021-07-12T18:44:41.493Z"
   },
   {
    "duration": 8,
    "start_time": "2021-07-12T18:44:57.743Z"
   },
   {
    "duration": 8,
    "start_time": "2021-07-12T18:45:08.663Z"
   },
   {
    "duration": 326,
    "start_time": "2021-07-12T18:50:17.872Z"
   },
   {
    "duration": 2,
    "start_time": "2021-07-12T18:50:52.192Z"
   },
   {
    "duration": 18136,
    "start_time": "2021-07-12T18:50:53.004Z"
   },
   {
    "duration": 83,
    "start_time": "2021-07-12T18:52:32.683Z"
   },
   {
    "duration": 19976,
    "start_time": "2021-07-12T18:52:54.988Z"
   },
   {
    "duration": 281,
    "start_time": "2021-07-12T18:55:43.316Z"
   },
   {
    "duration": 1140,
    "start_time": "2021-07-12T18:56:37.509Z"
   },
   {
    "duration": 3155,
    "start_time": "2021-07-12T18:56:38.651Z"
   },
   {
    "duration": 205,
    "start_time": "2021-07-12T18:56:41.808Z"
   },
   {
    "duration": 6,
    "start_time": "2021-07-12T18:56:42.015Z"
   },
   {
    "duration": 2,
    "start_time": "2021-07-12T18:56:42.023Z"
   },
   {
    "duration": 301,
    "start_time": "2021-07-12T18:56:42.027Z"
   },
   {
    "duration": -1016,
    "start_time": "2021-07-12T18:56:43.346Z"
   },
   {
    "duration": -1030,
    "start_time": "2021-07-12T18:56:43.361Z"
   },
   {
    "duration": -1033,
    "start_time": "2021-07-12T18:56:43.365Z"
   },
   {
    "duration": -1043,
    "start_time": "2021-07-12T18:56:43.376Z"
   },
   {
    "duration": -1046,
    "start_time": "2021-07-12T18:56:43.379Z"
   },
   {
    "duration": -1058,
    "start_time": "2021-07-12T18:56:43.392Z"
   },
   {
    "duration": -1062,
    "start_time": "2021-07-12T18:56:43.397Z"
   },
   {
    "duration": -1073,
    "start_time": "2021-07-12T18:56:43.409Z"
   },
   {
    "duration": -1078,
    "start_time": "2021-07-12T18:56:43.415Z"
   },
   {
    "duration": -1087,
    "start_time": "2021-07-12T18:56:43.425Z"
   },
   {
    "duration": -1090,
    "start_time": "2021-07-12T18:56:43.429Z"
   },
   {
    "duration": -1100,
    "start_time": "2021-07-12T18:56:43.439Z"
   },
   {
    "duration": -1222,
    "start_time": "2021-07-12T18:56:43.562Z"
   },
   {
    "duration": -1231,
    "start_time": "2021-07-12T18:56:43.572Z"
   },
   {
    "duration": 1112,
    "start_time": "2021-07-12T18:57:25.656Z"
   },
   {
    "duration": 607,
    "start_time": "2021-07-12T18:57:26.770Z"
   },
   {
    "duration": 206,
    "start_time": "2021-07-12T18:57:27.379Z"
   },
   {
    "duration": 7,
    "start_time": "2021-07-12T18:57:27.591Z"
   },
   {
    "duration": 3,
    "start_time": "2021-07-12T18:57:27.599Z"
   },
   {
    "duration": 324,
    "start_time": "2021-07-12T18:57:27.603Z"
   },
   {
    "duration": -253,
    "start_time": "2021-07-12T18:57:28.182Z"
   },
   {
    "duration": -258,
    "start_time": "2021-07-12T18:57:28.188Z"
   },
   {
    "duration": -280,
    "start_time": "2021-07-12T18:57:28.211Z"
   },
   {
    "duration": -287,
    "start_time": "2021-07-12T18:57:28.219Z"
   },
   {
    "duration": -295,
    "start_time": "2021-07-12T18:57:28.228Z"
   },
   {
    "duration": -356,
    "start_time": "2021-07-12T18:57:28.290Z"
   },
   {
    "duration": -358,
    "start_time": "2021-07-12T18:57:28.292Z"
   },
   {
    "duration": -360,
    "start_time": "2021-07-12T18:57:28.295Z"
   },
   {
    "duration": -361,
    "start_time": "2021-07-12T18:57:28.297Z"
   },
   {
    "duration": -364,
    "start_time": "2021-07-12T18:57:28.301Z"
   },
   {
    "duration": -365,
    "start_time": "2021-07-12T18:57:28.303Z"
   },
   {
    "duration": -366,
    "start_time": "2021-07-12T18:57:28.305Z"
   },
   {
    "duration": -368,
    "start_time": "2021-07-12T18:57:28.308Z"
   },
   {
    "duration": -370,
    "start_time": "2021-07-12T18:57:28.310Z"
   },
   {
    "duration": 1188,
    "start_time": "2021-07-12T18:58:54.455Z"
   },
   {
    "duration": 628,
    "start_time": "2021-07-12T18:58:55.645Z"
   },
   {
    "duration": 234,
    "start_time": "2021-07-12T18:58:56.275Z"
   },
   {
    "duration": 13,
    "start_time": "2021-07-12T18:58:56.510Z"
   },
   {
    "duration": 2199,
    "start_time": "2021-07-12T18:58:56.525Z"
   },
   {
    "duration": 5,
    "start_time": "2021-07-12T18:58:58.726Z"
   },
   {
    "duration": 527,
    "start_time": "2021-07-12T18:58:58.733Z"
   },
   {
    "duration": -94,
    "start_time": "2021-07-12T18:58:59.356Z"
   },
   {
    "duration": -97,
    "start_time": "2021-07-12T18:58:59.360Z"
   },
   {
    "duration": -101,
    "start_time": "2021-07-12T18:58:59.365Z"
   },
   {
    "duration": -102,
    "start_time": "2021-07-12T18:58:59.367Z"
   },
   {
    "duration": -104,
    "start_time": "2021-07-12T18:58:59.370Z"
   },
   {
    "duration": -105,
    "start_time": "2021-07-12T18:58:59.372Z"
   },
   {
    "duration": -174,
    "start_time": "2021-07-12T18:58:59.442Z"
   },
   {
    "duration": -180,
    "start_time": "2021-07-12T18:58:59.449Z"
   },
   {
    "duration": -181,
    "start_time": "2021-07-12T18:58:59.451Z"
   },
   {
    "duration": -182,
    "start_time": "2021-07-12T18:58:59.453Z"
   },
   {
    "duration": -184,
    "start_time": "2021-07-12T18:58:59.456Z"
   },
   {
    "duration": -186,
    "start_time": "2021-07-12T18:58:59.459Z"
   },
   {
    "duration": -188,
    "start_time": "2021-07-12T18:58:59.462Z"
   },
   {
    "duration": -189,
    "start_time": "2021-07-12T18:58:59.464Z"
   },
   {
    "duration": 1144,
    "start_time": "2021-07-12T18:59:55.350Z"
   },
   {
    "duration": 602,
    "start_time": "2021-07-12T18:59:56.496Z"
   },
   {
    "duration": 200,
    "start_time": "2021-07-12T18:59:57.099Z"
   },
   {
    "duration": 7,
    "start_time": "2021-07-12T18:59:57.301Z"
   },
   {
    "duration": 2239,
    "start_time": "2021-07-12T18:59:57.309Z"
   },
   {
    "duration": 7,
    "start_time": "2021-07-12T18:59:59.550Z"
   },
   {
    "duration": 790,
    "start_time": "2021-07-12T18:59:59.558Z"
   },
   {
    "duration": 67101,
    "start_time": "2021-07-12T19:00:00.350Z"
   },
   {
    "duration": 6,
    "start_time": "2021-07-12T19:01:07.454Z"
   },
   {
    "duration": 12,
    "start_time": "2021-07-12T19:01:07.462Z"
   },
   {
    "duration": 48,
    "start_time": "2021-07-12T19:01:07.475Z"
   },
   {
    "duration": 282,
    "start_time": "2021-07-12T19:01:07.524Z"
   },
   {
    "duration": 4809,
    "start_time": "2021-07-12T19:01:07.808Z"
   },
   {
    "duration": 5839,
    "start_time": "2021-07-12T19:01:12.619Z"
   },
   {
    "duration": 3,
    "start_time": "2021-07-12T19:01:18.459Z"
   },
   {
    "duration": 24173,
    "start_time": "2021-07-12T19:01:18.463Z"
   },
   {
    "duration": 3,
    "start_time": "2021-07-12T19:01:42.637Z"
   },
   {
    "duration": 36497,
    "start_time": "2021-07-12T19:01:42.641Z"
   },
   {
    "duration": 2,
    "start_time": "2021-07-12T19:02:19.140Z"
   },
   {
    "duration": 72,
    "start_time": "2021-07-12T19:02:19.143Z"
   },
   {
    "duration": -126,
    "start_time": "2021-07-12T19:02:19.343Z"
   },
   {
    "duration": 121320,
    "start_time": "2021-07-12T19:03:12.436Z"
   },
   {
    "duration": 229,
    "start_time": "2021-07-12T19:07:14.424Z"
   },
   {
    "duration": 235,
    "start_time": "2021-07-12T19:07:22.974Z"
   },
   {
    "duration": 106,
    "start_time": "2021-07-12T19:07:55.415Z"
   },
   {
    "duration": 3,
    "start_time": "2021-07-12T19:07:58.497Z"
   },
   {
    "duration": 268,
    "start_time": "2021-07-12T19:08:00.359Z"
   },
   {
    "duration": 1079,
    "start_time": "2021-07-12T19:08:27.663Z"
   },
   {
    "duration": 75,
    "start_time": "2021-07-12T19:08:35.707Z"
   },
   {
    "duration": 1673,
    "start_time": "2021-07-12T19:08:38.491Z"
   },
   {
    "duration": 3,
    "start_time": "2021-07-12T19:08:44.030Z"
   },
   {
    "duration": 272,
    "start_time": "2021-07-12T19:08:45.014Z"
   },
   {
    "duration": 75,
    "start_time": "2021-07-12T19:09:02.441Z"
   },
   {
    "duration": 258,
    "start_time": "2021-07-12T19:09:11.670Z"
   },
   {
    "duration": 256,
    "start_time": "2021-07-12T19:10:46.517Z"
   },
   {
    "duration": 71,
    "start_time": "2021-07-12T19:10:58.054Z"
   },
   {
    "duration": 257,
    "start_time": "2021-07-12T19:11:11.715Z"
   },
   {
    "duration": 259,
    "start_time": "2021-07-12T19:11:23.717Z"
   },
   {
    "duration": 220,
    "start_time": "2021-07-12T19:14:02.141Z"
   },
   {
    "duration": 2,
    "start_time": "2021-07-12T19:14:10.925Z"
   },
   {
    "duration": 41988,
    "start_time": "2021-07-12T19:14:28.272Z"
   },
   {
    "duration": 176,
    "start_time": "2021-07-12T19:15:19.319Z"
   },
   {
    "duration": 1168,
    "start_time": "2021-07-12T19:15:25.889Z"
   },
   {
    "duration": 3205,
    "start_time": "2021-07-12T19:15:27.059Z"
   },
   {
    "duration": 229,
    "start_time": "2021-07-12T19:15:30.266Z"
   },
   {
    "duration": 6,
    "start_time": "2021-07-12T19:15:30.497Z"
   },
   {
    "duration": 2179,
    "start_time": "2021-07-12T19:15:30.505Z"
   },
   {
    "duration": 14,
    "start_time": "2021-07-12T19:15:32.685Z"
   },
   {
    "duration": 780,
    "start_time": "2021-07-12T19:15:32.701Z"
   },
   {
    "duration": 66921,
    "start_time": "2021-07-12T19:15:33.484Z"
   },
   {
    "duration": 7,
    "start_time": "2021-07-12T19:16:40.407Z"
   },
   {
    "duration": 11,
    "start_time": "2021-07-12T19:16:40.415Z"
   },
   {
    "duration": 41,
    "start_time": "2021-07-12T19:16:40.427Z"
   },
   {
    "duration": 283,
    "start_time": "2021-07-12T19:16:40.469Z"
   },
   {
    "duration": 4906,
    "start_time": "2021-07-12T19:16:40.754Z"
   },
   {
    "duration": 5910,
    "start_time": "2021-07-12T19:16:45.661Z"
   },
   {
    "duration": 2,
    "start_time": "2021-07-12T19:16:51.573Z"
   },
   {
    "duration": 23759,
    "start_time": "2021-07-12T19:16:51.576Z"
   },
   {
    "duration": 3,
    "start_time": "2021-07-12T19:17:15.337Z"
   },
   {
    "duration": 33499,
    "start_time": "2021-07-12T19:17:15.341Z"
   },
   {
    "duration": 2,
    "start_time": "2021-07-12T19:17:48.842Z"
   },
   {
    "duration": 86,
    "start_time": "2021-07-12T19:17:48.845Z"
   },
   {
    "duration": -296,
    "start_time": "2021-07-12T19:17:49.229Z"
   },
   {
    "duration": -298,
    "start_time": "2021-07-12T19:17:49.232Z"
   },
   {
    "duration": 2,
    "start_time": "2021-07-12T19:18:05.779Z"
   },
   {
    "duration": 212,
    "start_time": "2021-07-12T19:18:24.274Z"
   },
   {
    "duration": 1136,
    "start_time": "2021-07-12T19:19:43.617Z"
   },
   {
    "duration": 3164,
    "start_time": "2021-07-12T19:19:44.755Z"
   },
   {
    "duration": 210,
    "start_time": "2021-07-12T19:19:47.920Z"
   },
   {
    "duration": 7,
    "start_time": "2021-07-12T19:19:48.131Z"
   },
   {
    "duration": 2219,
    "start_time": "2021-07-12T19:19:48.140Z"
   },
   {
    "duration": 6,
    "start_time": "2021-07-12T19:19:50.361Z"
   },
   {
    "duration": 816,
    "start_time": "2021-07-12T19:19:50.368Z"
   },
   {
    "duration": 67022,
    "start_time": "2021-07-12T19:19:51.187Z"
   },
   {
    "duration": 6,
    "start_time": "2021-07-12T19:20:58.211Z"
   },
   {
    "duration": 5,
    "start_time": "2021-07-12T19:20:58.218Z"
   },
   {
    "duration": 30,
    "start_time": "2021-07-12T19:20:58.224Z"
   },
   {
    "duration": 217,
    "start_time": "2021-07-12T19:20:58.256Z"
   },
   {
    "duration": 4908,
    "start_time": "2021-07-12T19:20:58.475Z"
   },
   {
    "duration": 5836,
    "start_time": "2021-07-12T19:21:03.385Z"
   },
   {
    "duration": 2,
    "start_time": "2021-07-12T19:21:09.222Z"
   },
   {
    "duration": 23904,
    "start_time": "2021-07-12T19:21:09.226Z"
   },
   {
    "duration": 3,
    "start_time": "2021-07-12T19:21:33.132Z"
   },
   {
    "duration": 38898,
    "start_time": "2021-07-12T19:21:33.136Z"
   },
   {
    "duration": 3,
    "start_time": "2021-07-12T19:22:12.035Z"
   },
   {
    "duration": 79,
    "start_time": "2021-07-12T19:22:12.039Z"
   },
   {
    "duration": 300,
    "start_time": "2021-07-12T19:23:57.704Z"
   },
   {
    "duration": 3,
    "start_time": "2021-07-12T19:24:28.492Z"
   },
   {
    "duration": 3,
    "start_time": "2021-07-12T19:24:29.323Z"
   },
   {
    "duration": 1698,
    "start_time": "2021-07-12T19:24:51.047Z"
   },
   {
    "duration": 4,
    "start_time": "2021-07-12T19:25:25.093Z"
   },
   {
    "duration": 3,
    "start_time": "2021-07-12T19:25:51.363Z"
   },
   {
    "duration": 5276,
    "start_time": "2021-07-12T19:25:52.265Z"
   }
  ],
  "kernelspec": {
   "display_name": "Python 3",
   "language": "python",
   "name": "python3"
  },
  "language_info": {
   "codemirror_mode": {
    "name": "ipython",
    "version": 3
   },
   "file_extension": ".py",
   "mimetype": "text/x-python",
   "name": "python",
   "nbconvert_exporter": "python",
   "pygments_lexer": "ipython3",
   "version": "3.8.3"
  },
  "toc": {
   "base_numbering": 1,
   "nav_menu": {},
   "number_sections": false,
   "sideBar": false,
   "skip_h1_title": false,
   "title_cell": "Содержание",
   "title_sidebar": "Contents",
   "toc_cell": false,
   "toc_position": {
    "height": "calc(100% - 180px)",
    "left": "10px",
    "top": "150px",
    "width": "302.378px"
   },
   "toc_section_display": false,
   "toc_window_display": false
  }
 },
 "nbformat": 4,
 "nbformat_minor": 2
}
