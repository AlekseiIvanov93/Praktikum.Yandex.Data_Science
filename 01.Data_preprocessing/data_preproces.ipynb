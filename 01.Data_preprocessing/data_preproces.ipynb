{
 "cells": [
  {
   "cell_type": "markdown",
   "metadata": {},
   "source": [
    "# Исследование надёжности заёмщиков #  \n",
    "### Описание проекта ###\n",
    "Заказчик — кредитный отдел банка. Нужно разобраться, влияет ли семейное положение и количество детей клиента на факт погашения кредита в срок. Входные данные от банка — статистика о платёжеспособности клиентов.\n",
    "Результаты исследования будут учтены при построении модели кредитного скоринга — специальной системы, которая оценивает способность потенциального заёмщика вернуть кредит банку."
   ]
  },
  {
   "cell_type": "markdown",
   "metadata": {},
   "source": [
    "### Этап 1. Открытие таблицы и изучение общей информации о данных ###"
   ]
  },
  {
   "cell_type": "markdown",
   "metadata": {},
   "source": [
    "#### Импорт библиотек ####"
   ]
  },
  {
   "cell_type": "code",
   "execution_count": 1,
   "metadata": {},
   "outputs": [],
   "source": [
    "import pandas as pd\n",
    "\n",
    "from nltk.stem import SnowballStemmer \n",
    "russian_stemmer = SnowballStemmer('russian')\n",
    "\n",
    "from pymystem3 import Mystem\n",
    "m = Mystem()\n"
   ]
  },
  {
   "cell_type": "markdown",
   "metadata": {},
   "source": [
    "Прочитаем файл *data.csv* и сохраним его в переменной *data*. "
   ]
  },
  {
   "cell_type": "code",
   "execution_count": 2,
   "metadata": {},
   "outputs": [],
   "source": [
    "data = pd.read_csv('data.csv')"
   ]
  },
  {
   "cell_type": "markdown",
   "metadata": {},
   "source": [
    "Получение первых 10 строк таблицы"
   ]
  },
  {
   "cell_type": "code",
   "execution_count": 3,
   "metadata": {},
   "outputs": [
    {
     "data": {
      "text/html": [
       "<div>\n",
       "<style scoped>\n",
       "    .dataframe tbody tr th:only-of-type {\n",
       "        vertical-align: middle;\n",
       "    }\n",
       "\n",
       "    .dataframe tbody tr th {\n",
       "        vertical-align: top;\n",
       "    }\n",
       "\n",
       "    .dataframe thead th {\n",
       "        text-align: right;\n",
       "    }\n",
       "</style>\n",
       "<table border=\"1\" class=\"dataframe\">\n",
       "  <thead>\n",
       "    <tr style=\"text-align: right;\">\n",
       "      <th></th>\n",
       "      <th>children</th>\n",
       "      <th>days_employed</th>\n",
       "      <th>dob_years</th>\n",
       "      <th>education</th>\n",
       "      <th>education_id</th>\n",
       "      <th>family_status</th>\n",
       "      <th>family_status_id</th>\n",
       "      <th>gender</th>\n",
       "      <th>income_type</th>\n",
       "      <th>debt</th>\n",
       "      <th>total_income</th>\n",
       "      <th>purpose</th>\n",
       "    </tr>\n",
       "  </thead>\n",
       "  <tbody>\n",
       "    <tr>\n",
       "      <td>0</td>\n",
       "      <td>1</td>\n",
       "      <td>-8437.673028</td>\n",
       "      <td>42</td>\n",
       "      <td>высшее</td>\n",
       "      <td>0</td>\n",
       "      <td>женат / замужем</td>\n",
       "      <td>0</td>\n",
       "      <td>F</td>\n",
       "      <td>сотрудник</td>\n",
       "      <td>0</td>\n",
       "      <td>253875.639453</td>\n",
       "      <td>покупка жилья</td>\n",
       "    </tr>\n",
       "    <tr>\n",
       "      <td>1</td>\n",
       "      <td>1</td>\n",
       "      <td>-4024.803754</td>\n",
       "      <td>36</td>\n",
       "      <td>среднее</td>\n",
       "      <td>1</td>\n",
       "      <td>женат / замужем</td>\n",
       "      <td>0</td>\n",
       "      <td>F</td>\n",
       "      <td>сотрудник</td>\n",
       "      <td>0</td>\n",
       "      <td>112080.014102</td>\n",
       "      <td>приобретение автомобиля</td>\n",
       "    </tr>\n",
       "    <tr>\n",
       "      <td>2</td>\n",
       "      <td>0</td>\n",
       "      <td>-5623.422610</td>\n",
       "      <td>33</td>\n",
       "      <td>Среднее</td>\n",
       "      <td>1</td>\n",
       "      <td>женат / замужем</td>\n",
       "      <td>0</td>\n",
       "      <td>M</td>\n",
       "      <td>сотрудник</td>\n",
       "      <td>0</td>\n",
       "      <td>145885.952297</td>\n",
       "      <td>покупка жилья</td>\n",
       "    </tr>\n",
       "    <tr>\n",
       "      <td>3</td>\n",
       "      <td>3</td>\n",
       "      <td>-4124.747207</td>\n",
       "      <td>32</td>\n",
       "      <td>среднее</td>\n",
       "      <td>1</td>\n",
       "      <td>женат / замужем</td>\n",
       "      <td>0</td>\n",
       "      <td>M</td>\n",
       "      <td>сотрудник</td>\n",
       "      <td>0</td>\n",
       "      <td>267628.550329</td>\n",
       "      <td>дополнительное образование</td>\n",
       "    </tr>\n",
       "    <tr>\n",
       "      <td>4</td>\n",
       "      <td>0</td>\n",
       "      <td>340266.072047</td>\n",
       "      <td>53</td>\n",
       "      <td>среднее</td>\n",
       "      <td>1</td>\n",
       "      <td>гражданский брак</td>\n",
       "      <td>1</td>\n",
       "      <td>F</td>\n",
       "      <td>пенсионер</td>\n",
       "      <td>0</td>\n",
       "      <td>158616.077870</td>\n",
       "      <td>сыграть свадьбу</td>\n",
       "    </tr>\n",
       "    <tr>\n",
       "      <td>5</td>\n",
       "      <td>0</td>\n",
       "      <td>-926.185831</td>\n",
       "      <td>27</td>\n",
       "      <td>высшее</td>\n",
       "      <td>0</td>\n",
       "      <td>гражданский брак</td>\n",
       "      <td>1</td>\n",
       "      <td>M</td>\n",
       "      <td>компаньон</td>\n",
       "      <td>0</td>\n",
       "      <td>255763.565419</td>\n",
       "      <td>покупка жилья</td>\n",
       "    </tr>\n",
       "    <tr>\n",
       "      <td>6</td>\n",
       "      <td>0</td>\n",
       "      <td>-2879.202052</td>\n",
       "      <td>43</td>\n",
       "      <td>высшее</td>\n",
       "      <td>0</td>\n",
       "      <td>женат / замужем</td>\n",
       "      <td>0</td>\n",
       "      <td>F</td>\n",
       "      <td>компаньон</td>\n",
       "      <td>0</td>\n",
       "      <td>240525.971920</td>\n",
       "      <td>операции с жильем</td>\n",
       "    </tr>\n",
       "    <tr>\n",
       "      <td>7</td>\n",
       "      <td>0</td>\n",
       "      <td>-152.779569</td>\n",
       "      <td>50</td>\n",
       "      <td>СРЕДНЕЕ</td>\n",
       "      <td>1</td>\n",
       "      <td>женат / замужем</td>\n",
       "      <td>0</td>\n",
       "      <td>M</td>\n",
       "      <td>сотрудник</td>\n",
       "      <td>0</td>\n",
       "      <td>135823.934197</td>\n",
       "      <td>образование</td>\n",
       "    </tr>\n",
       "    <tr>\n",
       "      <td>8</td>\n",
       "      <td>2</td>\n",
       "      <td>-6929.865299</td>\n",
       "      <td>35</td>\n",
       "      <td>ВЫСШЕЕ</td>\n",
       "      <td>0</td>\n",
       "      <td>гражданский брак</td>\n",
       "      <td>1</td>\n",
       "      <td>F</td>\n",
       "      <td>сотрудник</td>\n",
       "      <td>0</td>\n",
       "      <td>95856.832424</td>\n",
       "      <td>на проведение свадьбы</td>\n",
       "    </tr>\n",
       "    <tr>\n",
       "      <td>9</td>\n",
       "      <td>0</td>\n",
       "      <td>-2188.756445</td>\n",
       "      <td>41</td>\n",
       "      <td>среднее</td>\n",
       "      <td>1</td>\n",
       "      <td>женат / замужем</td>\n",
       "      <td>0</td>\n",
       "      <td>M</td>\n",
       "      <td>сотрудник</td>\n",
       "      <td>0</td>\n",
       "      <td>144425.938277</td>\n",
       "      <td>покупка жилья для семьи</td>\n",
       "    </tr>\n",
       "  </tbody>\n",
       "</table>\n",
       "</div>"
      ],
      "text/plain": [
       "   children  days_employed  dob_years education  education_id  \\\n",
       "0         1   -8437.673028         42    высшее             0   \n",
       "1         1   -4024.803754         36   среднее             1   \n",
       "2         0   -5623.422610         33   Среднее             1   \n",
       "3         3   -4124.747207         32   среднее             1   \n",
       "4         0  340266.072047         53   среднее             1   \n",
       "5         0    -926.185831         27    высшее             0   \n",
       "6         0   -2879.202052         43    высшее             0   \n",
       "7         0    -152.779569         50   СРЕДНЕЕ             1   \n",
       "8         2   -6929.865299         35    ВЫСШЕЕ             0   \n",
       "9         0   -2188.756445         41   среднее             1   \n",
       "\n",
       "      family_status  family_status_id gender income_type  debt   total_income  \\\n",
       "0   женат / замужем                 0      F   сотрудник     0  253875.639453   \n",
       "1   женат / замужем                 0      F   сотрудник     0  112080.014102   \n",
       "2   женат / замужем                 0      M   сотрудник     0  145885.952297   \n",
       "3   женат / замужем                 0      M   сотрудник     0  267628.550329   \n",
       "4  гражданский брак                 1      F   пенсионер     0  158616.077870   \n",
       "5  гражданский брак                 1      M   компаньон     0  255763.565419   \n",
       "6   женат / замужем                 0      F   компаньон     0  240525.971920   \n",
       "7   женат / замужем                 0      M   сотрудник     0  135823.934197   \n",
       "8  гражданский брак                 1      F   сотрудник     0   95856.832424   \n",
       "9   женат / замужем                 0      M   сотрудник     0  144425.938277   \n",
       "\n",
       "                      purpose  \n",
       "0               покупка жилья  \n",
       "1     приобретение автомобиля  \n",
       "2               покупка жилья  \n",
       "3  дополнительное образование  \n",
       "4             сыграть свадьбу  \n",
       "5               покупка жилья  \n",
       "6           операции с жильем  \n",
       "7                 образование  \n",
       "8       на проведение свадьбы  \n",
       "9     покупка жилья для семьи  "
      ]
     },
     "execution_count": 3,
     "metadata": {},
     "output_type": "execute_result"
    }
   ],
   "source": [
    "data.head(10)"
   ]
  },
  {
   "cell_type": "markdown",
   "metadata": {},
   "source": [
    "Общая информация о данных таблицы *df*."
   ]
  },
  {
   "cell_type": "code",
   "execution_count": 4,
   "metadata": {},
   "outputs": [
    {
     "name": "stdout",
     "output_type": "stream",
     "text": [
      "<class 'pandas.core.frame.DataFrame'>\n",
      "RangeIndex: 21525 entries, 0 to 21524\n",
      "Data columns (total 12 columns):\n",
      "children            21525 non-null int64\n",
      "days_employed       19351 non-null float64\n",
      "dob_years           21525 non-null int64\n",
      "education           21525 non-null object\n",
      "education_id        21525 non-null int64\n",
      "family_status       21525 non-null object\n",
      "family_status_id    21525 non-null int64\n",
      "gender              21525 non-null object\n",
      "income_type         21525 non-null object\n",
      "debt                21525 non-null int64\n",
      "total_income        19351 non-null float64\n",
      "purpose             21525 non-null object\n",
      "dtypes: float64(2), int64(5), object(5)\n",
      "memory usage: 2.0+ MB\n"
     ]
    }
   ],
   "source": [
    "data.info()"
   ]
  },
  {
   "cell_type": "markdown",
   "metadata": {},
   "source": [
    "Рассмотрим полученную информацию подробнее.\n",
    "\n",
    "Имеется 12 столбцов и 21525 строк. Здесь присутствует 7 столбцов с числовыми данными и 5 столбцов с объектами, при этом в столбцах *days_employed* и *total_income* есть NaN объекты.\n",
    "\n",
    "Подробно разберём, какие в *data* столбцы и какую информацию они содержат:\n",
    "\n",
    "* children — количество детей в семье\n",
    "* days_employed — общий трудовой стаж в днях\n",
    "* dob_years — возраст клиента в годах\n",
    "* education — уровень образования клиента\n",
    "* education_id — идентификатор уровня образования\n",
    "* family_status — семейное положение\n",
    "* family_status_id — идентификатор семейного положения\n",
    "* gender — пол клиента\n",
    "* income_type — тип занятости\n",
    "* debt — имел ли задолженность по возврату кредитов\n",
    "* total_income — ежемесячный доход\n",
    "* purpose — цель получения кредита"
   ]
  },
  {
   "cell_type": "markdown",
   "metadata": {},
   "source": [
    "#### Вывод ####"
   ]
  },
  {
   "cell_type": "markdown",
   "metadata": {},
   "source": [
    "Необходимо выяснить причину отсуствия значений. Проверить достоверность данных в каждом столбце"
   ]
  },
  {
   "cell_type": "markdown",
   "metadata": {},
   "source": [
    "### Этап 2. Предобработка данных ###"
   ]
  },
  {
   "cell_type": "markdown",
   "metadata": {},
   "source": [
    "#### Определим и заполним пропущенные значения####"
   ]
  },
  {
   "cell_type": "markdown",
   "metadata": {},
   "source": [
    "Выведем все уникальные значения столбца *income_type*"
   ]
  },
  {
   "cell_type": "code",
   "execution_count": 5,
   "metadata": {},
   "outputs": [
    {
     "name": "stdout",
     "output_type": "stream",
     "text": [
      "Уникальные значения в столбце \"income_type\":\n",
      "сотрудник, пенсионер, компаньон, госслужащий, безработный, предприниматель, студент, в декрете\n"
     ]
    }
   ],
   "source": [
    "print('Уникальные значения в столбце \"income_type\":',sep = '\\n')\n",
    "print(*data['income_type'].unique(), sep=\", \")"
   ]
  },
  {
   "cell_type": "markdown",
   "metadata": {},
   "source": [
    "Из представленных значений особое внимание заслуживают студенты. Быть может NaN значения относятся к студентам (как правило люди без опыта работы) и тогда мы легко сделаем замену NaN на 0.\n",
    "  \n",
    "  \n",
    "Выведем сгруппированную таблицу по типу занятости  только с NaN объектами в столбце *days_employed*"
   ]
  },
  {
   "cell_type": "code",
   "execution_count": 6,
   "metadata": {},
   "outputs": [
    {
     "data": {
      "text/html": [
       "<div>\n",
       "<style scoped>\n",
       "    .dataframe tbody tr th:only-of-type {\n",
       "        vertical-align: middle;\n",
       "    }\n",
       "\n",
       "    .dataframe tbody tr th {\n",
       "        vertical-align: top;\n",
       "    }\n",
       "\n",
       "    .dataframe thead th {\n",
       "        text-align: right;\n",
       "    }\n",
       "</style>\n",
       "<table border=\"1\" class=\"dataframe\">\n",
       "  <thead>\n",
       "    <tr style=\"text-align: right;\">\n",
       "      <th></th>\n",
       "      <th>children</th>\n",
       "      <th>days_employed</th>\n",
       "      <th>dob_years</th>\n",
       "      <th>education</th>\n",
       "      <th>education_id</th>\n",
       "      <th>family_status</th>\n",
       "      <th>family_status_id</th>\n",
       "      <th>gender</th>\n",
       "      <th>debt</th>\n",
       "      <th>total_income</th>\n",
       "      <th>purpose</th>\n",
       "    </tr>\n",
       "    <tr>\n",
       "      <th>income_type</th>\n",
       "      <th></th>\n",
       "      <th></th>\n",
       "      <th></th>\n",
       "      <th></th>\n",
       "      <th></th>\n",
       "      <th></th>\n",
       "      <th></th>\n",
       "      <th></th>\n",
       "      <th></th>\n",
       "      <th></th>\n",
       "      <th></th>\n",
       "    </tr>\n",
       "  </thead>\n",
       "  <tbody>\n",
       "    <tr>\n",
       "      <td>госслужащий</td>\n",
       "      <td>147</td>\n",
       "      <td>0</td>\n",
       "      <td>147</td>\n",
       "      <td>147</td>\n",
       "      <td>147</td>\n",
       "      <td>147</td>\n",
       "      <td>147</td>\n",
       "      <td>147</td>\n",
       "      <td>147</td>\n",
       "      <td>0</td>\n",
       "      <td>147</td>\n",
       "    </tr>\n",
       "    <tr>\n",
       "      <td>компаньон</td>\n",
       "      <td>508</td>\n",
       "      <td>0</td>\n",
       "      <td>508</td>\n",
       "      <td>508</td>\n",
       "      <td>508</td>\n",
       "      <td>508</td>\n",
       "      <td>508</td>\n",
       "      <td>508</td>\n",
       "      <td>508</td>\n",
       "      <td>0</td>\n",
       "      <td>508</td>\n",
       "    </tr>\n",
       "    <tr>\n",
       "      <td>пенсионер</td>\n",
       "      <td>413</td>\n",
       "      <td>0</td>\n",
       "      <td>413</td>\n",
       "      <td>413</td>\n",
       "      <td>413</td>\n",
       "      <td>413</td>\n",
       "      <td>413</td>\n",
       "      <td>413</td>\n",
       "      <td>413</td>\n",
       "      <td>0</td>\n",
       "      <td>413</td>\n",
       "    </tr>\n",
       "    <tr>\n",
       "      <td>предприниматель</td>\n",
       "      <td>1</td>\n",
       "      <td>0</td>\n",
       "      <td>1</td>\n",
       "      <td>1</td>\n",
       "      <td>1</td>\n",
       "      <td>1</td>\n",
       "      <td>1</td>\n",
       "      <td>1</td>\n",
       "      <td>1</td>\n",
       "      <td>0</td>\n",
       "      <td>1</td>\n",
       "    </tr>\n",
       "    <tr>\n",
       "      <td>сотрудник</td>\n",
       "      <td>1105</td>\n",
       "      <td>0</td>\n",
       "      <td>1105</td>\n",
       "      <td>1105</td>\n",
       "      <td>1105</td>\n",
       "      <td>1105</td>\n",
       "      <td>1105</td>\n",
       "      <td>1105</td>\n",
       "      <td>1105</td>\n",
       "      <td>0</td>\n",
       "      <td>1105</td>\n",
       "    </tr>\n",
       "  </tbody>\n",
       "</table>\n",
       "</div>"
      ],
      "text/plain": [
       "                 children  days_employed  dob_years  education  education_id  \\\n",
       "income_type                                                                    \n",
       "госслужащий           147              0        147        147           147   \n",
       "компаньон             508              0        508        508           508   \n",
       "пенсионер             413              0        413        413           413   \n",
       "предприниматель         1              0          1          1             1   \n",
       "сотрудник            1105              0       1105       1105          1105   \n",
       "\n",
       "                 family_status  family_status_id  gender  debt  total_income  \\\n",
       "income_type                                                                    \n",
       "госслужащий                147               147     147   147             0   \n",
       "компаньон                  508               508     508   508             0   \n",
       "пенсионер                  413               413     413   413             0   \n",
       "предприниматель              1                 1       1     1             0   \n",
       "сотрудник                 1105              1105    1105  1105             0   \n",
       "\n",
       "                 purpose  \n",
       "income_type               \n",
       "госслужащий          147  \n",
       "компаньон            508  \n",
       "пенсионер            413  \n",
       "предприниматель        1  \n",
       "сотрудник           1105  "
      ]
     },
     "execution_count": 6,
     "metadata": {},
     "output_type": "execute_result"
    }
   ],
   "source": [
    "(data[data['days_employed'].isnull()]).groupby('income_type').count()"
   ]
  },
  {
   "cell_type": "markdown",
   "metadata": {},
   "source": [
    "Студентов среди них нет. Предположим, что кто-то только устраивается на работу, где-то человеческая ошибка в занесение данных, кто-то работает неофициально и не может принести, подтверждающий документ. Мы можем посчитать среднее *days_employed* для пенсионеров (учитывая пол и период с 18 и до 60/65лет).  \n",
    "Все же заполним эти пробелы 0 так мы отрабатываем применение инструментов."
   ]
  },
  {
   "cell_type": "markdown",
   "metadata": {},
   "source": [
    " Но перед этим выполним небольшую проверку, проверим соотвествует ли все NaN значения в столбце *days_employed* всем NaN значениям столбца *total_income*"
   ]
  },
  {
   "cell_type": "code",
   "execution_count": 7,
   "metadata": {},
   "outputs": [
    {
     "name": "stdout",
     "output_type": "stream",
     "text": [
      "Все NaN значения в столбце \"days_employed\" соответствуют всем NaN значениям столбца \"total_income\" \n"
     ]
    }
   ],
   "source": [
    "count_nan_data=data.isnull().sum()\n",
    "\n",
    "## цикл для сверки двух строк\n",
    "count_nan = 0\n",
    "for i in range(data.shape[0]): \n",
    "    if (pd.isna(data.loc[i,'days_employed']))& pd.isna(data.loc[i,'total_income']):\n",
    "        count_nan += 1\n",
    "\n",
    "if count_nan_data['days_employed'] == count_nan:\n",
    "    print('Все NaN значения в столбце \"days_employed\" соответствуют всем NaN значениям столбца \"total_income\" ')\n",
    "else:\n",
    "    print('Не все NaN значения в столбце \"days_employed\" соответствуют всем NaN значениям столбца \"total_income\" ')"
   ]
  },
  {
   "cell_type": "markdown",
   "metadata": {},
   "source": [
    "Проверка подтвердила соотвествие.Заменим пропущенные значения NaN значения нулями"
   ]
  },
  {
   "cell_type": "code",
   "execution_count": 8,
   "metadata": {},
   "outputs": [],
   "source": [
    "data = data.fillna(0)"
   ]
  },
  {
   "cell_type": "markdown",
   "metadata": {},
   "source": [
    "После этой операции нужно убедиться, что таблица больше не содержит пропусков."
   ]
  },
  {
   "cell_type": "code",
   "execution_count": 9,
   "metadata": {},
   "outputs": [
    {
     "name": "stdout",
     "output_type": "stream",
     "text": [
      "<class 'pandas.core.frame.DataFrame'>\n",
      "RangeIndex: 21525 entries, 0 to 21524\n",
      "Data columns (total 12 columns):\n",
      "children            21525 non-null int64\n",
      "days_employed       21525 non-null float64\n",
      "dob_years           21525 non-null int64\n",
      "education           21525 non-null object\n",
      "education_id        21525 non-null int64\n",
      "family_status       21525 non-null object\n",
      "family_status_id    21525 non-null int64\n",
      "gender              21525 non-null object\n",
      "income_type         21525 non-null object\n",
      "debt                21525 non-null int64\n",
      "total_income        21525 non-null float64\n",
      "purpose             21525 non-null object\n",
      "dtypes: float64(2), int64(5), object(5)\n",
      "memory usage: 2.0+ MB\n"
     ]
    }
   ],
   "source": [
    "data.info()"
   ]
  },
  {
   "cell_type": "markdown",
   "metadata": {},
   "source": [
    "#### Заменим вещественный тип данных на целочисленный####"
   ]
  },
  {
   "cell_type": "markdown",
   "metadata": {},
   "source": [
    "В столбцах *days_employed* и *total_income* выполним замену типа данных с float64 на int64 методом *astype()*"
   ]
  },
  {
   "cell_type": "code",
   "execution_count": 10,
   "metadata": {},
   "outputs": [],
   "source": [
    "data['days_employed'] = data['days_employed'].astype('int')\n",
    "data['total_income'] = data['total_income'].astype('int')\n"
   ]
  },
  {
   "cell_type": "markdown",
   "metadata": {},
   "source": [
    "Убедимся в замене типа данных"
   ]
  },
  {
   "cell_type": "code",
   "execution_count": 11,
   "metadata": {},
   "outputs": [
    {
     "name": "stdout",
     "output_type": "stream",
     "text": [
      "<class 'pandas.core.frame.DataFrame'>\n",
      "RangeIndex: 21525 entries, 0 to 21524\n",
      "Data columns (total 12 columns):\n",
      "children            21525 non-null int64\n",
      "days_employed       21525 non-null int64\n",
      "dob_years           21525 non-null int64\n",
      "education           21525 non-null object\n",
      "education_id        21525 non-null int64\n",
      "family_status       21525 non-null object\n",
      "family_status_id    21525 non-null int64\n",
      "gender              21525 non-null object\n",
      "income_type         21525 non-null object\n",
      "debt                21525 non-null int64\n",
      "total_income        21525 non-null int64\n",
      "purpose             21525 non-null object\n",
      "dtypes: int64(7), object(5)\n",
      "memory usage: 2.0+ MB\n"
     ]
    }
   ],
   "source": [
    "data.info()"
   ]
  },
  {
   "cell_type": "markdown",
   "metadata": {},
   "source": [
    "#### Выполним проверку достоверности значений в каждом столбце. Удалим дубликаты ####"
   ]
  },
  {
   "cell_type": "markdown",
   "metadata": {},
   "source": [
    "Рассмотрим  столбец *days_employed* "
   ]
  },
  {
   "cell_type": "code",
   "execution_count": 12,
   "metadata": {},
   "outputs": [
    {
     "data": {
      "text/plain": [
       "0      -8437\n",
       "1      -4024\n",
       "2      -5623\n",
       "3      -4124\n",
       "4     340266\n",
       "5       -926\n",
       "6      -2879\n",
       "7       -152\n",
       "8      -6929\n",
       "9      -2188\n",
       "10     -4171\n",
       "11      -792\n",
       "12         0\n",
       "13     -1846\n",
       "14     -1844\n",
       "Name: days_employed, dtype: int64"
      ]
     },
     "execution_count": 12,
     "metadata": {},
     "output_type": "execute_result"
    }
   ],
   "source": [
    "data['days_employed'].head(15)"
   ]
  },
  {
   "cell_type": "markdown",
   "metadata": {},
   "source": [
    " В столбце как \"+\" так и \"-\" значения. Так же надо оценить адекватность значений. Рассмотрим   \"+\" и \"-\" значения отдельно друг от друга\n",
    " "
   ]
  },
  {
   "cell_type": "code",
   "execution_count": 13,
   "metadata": {},
   "outputs": [
    {
     "name": "stdout",
     "output_type": "stream",
     "text": [
      "Максимальное положительное значение  в столбце \"days_employed\": 401755\n",
      "Минимальное положительное значение  в столбце \"days_employed\": 328728\n"
     ]
    }
   ],
   "source": [
    "print('Максимальное положительное значение  в столбце \"days_employed\":',data.loc[data.loc[:,'days_employed'] >0]['days_employed'].max())\n",
    "print('Минимальное положительное значение  в столбце \"days_employed\":',data.loc[data.loc[:,'days_employed'] >0]['days_employed'].min())"
   ]
  },
  {
   "cell_type": "markdown",
   "metadata": {},
   "source": [
    "Положительные данные некорректные, человек не может столько работать. "
   ]
  },
  {
   "cell_type": "code",
   "execution_count": 14,
   "metadata": {},
   "outputs": [
    {
     "name": "stdout",
     "output_type": "stream",
     "text": [
      "Максимальное отрицательное значение  в столбце \"days_employed\": -24\n",
      "Минимальное отрицательное значение  в столбце \"days_employed\": -18388\n"
     ]
    }
   ],
   "source": [
    "print('Максимальное отрицательное значение  в столбце \"days_employed\":',data.loc[data.loc[:,'days_employed']<0]['days_employed'].max())\n",
    "print('Минимальное отрицательное значение  в столбце \"days_employed\":',data.loc[data.loc[:,'days_employed'] <0]['days_employed'].min())"
   ]
  },
  {
   "cell_type": "markdown",
   "metadata": {},
   "source": [
    "Отрицательные данные  выглядят приличнее *(abs(-18388.9 /365 )= примерно 51 год)*"
   ]
  },
  {
   "cell_type": "markdown",
   "metadata": {},
   "source": [
    "С положительными данными работать нет возможности, отрицательные имеют хоть какую-то логичность. Позже проверю кому  принадлежит максимальное значение в столбце *days_employed*."
   ]
  },
  {
   "cell_type": "markdown",
   "metadata": {},
   "source": [
    "Оценим объем данных, которые занимают данные с положительными значениями в столбце *days_employed*."
   ]
  },
  {
   "cell_type": "code",
   "execution_count": 15,
   "metadata": {},
   "outputs": [
    {
     "name": "stdout",
     "output_type": "stream",
     "text": [
      "Кол-во отрицательных значений в столбце \"days_employed\": 15906\n",
      "Кол-во положительных значений в столбце \"days_employed\": 3445\n",
      "Кол-во нулевых значений в столбце \"days_employed\": 2174\n"
     ]
    }
   ],
   "source": [
    "print('Кол-во отрицательных значений в столбце \"days_employed\":', data.loc[data.loc[:,'days_employed'] <0]['days_employed'].count())\n",
    "print('Кол-во положительных значений в столбце \"days_employed\":', data.loc[data.loc[:,'days_employed'] >0]['days_employed'].count())\n",
    "print('Кол-во нулевых значений в столбце \"days_employed\":', data.loc[data.loc[:,'days_employed'] == 0]['days_employed'].count())"
   ]
  },
  {
   "cell_type": "markdown",
   "metadata": {},
   "source": [
    "Положительные значения занимают около 16%-это большой процент, но необходимо удалить строки с необъективными значениями в данном стобце."
   ]
  },
  {
   "cell_type": "code",
   "execution_count": 16,
   "metadata": {},
   "outputs": [],
   "source": [
    "data = data[data['days_employed'] <= 0]\n",
    "data['days_employed']=abs(data['days_employed'])"
   ]
  },
  {
   "cell_type": "markdown",
   "metadata": {},
   "source": [
    "Рассмотрим столбец *children*"
   ]
  },
  {
   "cell_type": "code",
   "execution_count": 17,
   "metadata": {},
   "outputs": [
    {
     "name": "stdout",
     "output_type": "stream",
     "text": [
      "Минимальное значение детей в столбце \"children\": -1\n",
      "Максимальное значение детей в столбце \"children\": 20\n"
     ]
    }
   ],
   "source": [
    "print('Минимальное значение детей в столбце \"children\":', data['children'].min())\n",
    "print('Максимальное значение детей в столбце \"children\":', data['children'].max())"
   ]
  },
  {
   "cell_type": "markdown",
   "metadata": {},
   "source": [
    "Определим кол-во детей  со значением \"-1\" и \"20\""
   ]
  },
  {
   "cell_type": "code",
   "execution_count": 18,
   "metadata": {},
   "outputs": [
    {
     "name": "stdout",
     "output_type": "stream",
     "text": [
      "Количество детей в столбце \"children\" со значением \"-1\": 40\n",
      "Количество детей в столбце \"children\" со значением \"20\": 69\n"
     ]
    }
   ],
   "source": [
    "print('Количество детей в столбце \"children\" со значением \"-1\":',(data.loc[data.loc[:,'children'] == -1]['children']).count())\n",
    "print('Количество детей в столбце \"children\" со значением \"20\":',(data.loc[data.loc[:,'children'] == 20]['children']).count())"
   ]
  },
  {
   "cell_type": "markdown",
   "metadata": {},
   "source": [
    " В столбце 'children' встретились некорректные значения \"-1\" и аномальные \"20\".\n",
    " * \"-1\" можно было превратить в 0\n",
    " * \"20\" следует удалить - это аномальный выброс."
   ]
  },
  {
   "cell_type": "markdown",
   "metadata": {},
   "source": [
    "Избавимся от таких значений:"
   ]
  },
  {
   "cell_type": "code",
   "execution_count": 19,
   "metadata": {},
   "outputs": [],
   "source": [
    "data = data[data['children'] >= 0]\n",
    "data = data[data['children'] < 20]"
   ]
  },
  {
   "cell_type": "markdown",
   "metadata": {},
   "source": [
    "Проверю остальные значения "
   ]
  },
  {
   "cell_type": "code",
   "execution_count": 20,
   "metadata": {},
   "outputs": [
    {
     "name": "stdout",
     "output_type": "stream",
     "text": [
      "Оставшиеся уникальные значения в столбце \"children\": [1 0 3 2 4 5]\n"
     ]
    }
   ],
   "source": [
    "print('Оставшиеся уникальные значения в столбце \"children\":', data['children'].unique())"
   ]
  },
  {
   "cell_type": "markdown",
   "metadata": {},
   "source": [
    "Чтобы учесть дубликаты, все символы в строках приводят к нижнему регистру вызовом метода lower():\n"
   ]
  },
  {
   "cell_type": "code",
   "execution_count": 22,
   "metadata": {},
   "outputs": [],
   "source": [
    "data['education'] = data['education'].str.lower()\n",
    "data['family_status'] = data['family_status'].str.lower()\n",
    "data['gender'] = data['gender'].str.lower()\n",
    "data['income_type'] = data['income_type'].str.lower()\n",
    "data['purpose'] = data['purpose'].str.lower()"
   ]
  },
  {
   "cell_type": "markdown",
   "metadata": {},
   "source": [
    "Рассмотрим столбец *education*"
   ]
  },
  {
   "cell_type": "code",
   "execution_count": 23,
   "metadata": {},
   "outputs": [
    {
     "data": {
      "text/plain": [
       "array(['высшее', 'среднее', 'неоконченное высшее', 'начальное',\n",
       "       'ученая степень'], dtype=object)"
      ]
     },
     "execution_count": 23,
     "metadata": {},
     "output_type": "execute_result"
    }
   ],
   "source": [
    "data['education'].unique()"
   ]
  },
  {
   "cell_type": "markdown",
   "metadata": {},
   "source": [
    "Столбец  *education* без замечаний"
   ]
  },
  {
   "cell_type": "markdown",
   "metadata": {},
   "source": [
    "Рассмотрим столбец *family_status*"
   ]
  },
  {
   "cell_type": "code",
   "execution_count": 24,
   "metadata": {},
   "outputs": [
    {
     "data": {
      "text/plain": [
       "array(['женат / замужем', 'гражданский брак', 'в разводе',\n",
       "       'не женат / не замужем', 'вдовец / вдова'], dtype=object)"
      ]
     },
     "execution_count": 24,
     "metadata": {},
     "output_type": "execute_result"
    }
   ],
   "source": [
    "data['family_status'].unique()"
   ]
  },
  {
   "cell_type": "markdown",
   "metadata": {},
   "source": [
    "Столбец  *family_status* без замечаний"
   ]
  },
  {
   "cell_type": "markdown",
   "metadata": {},
   "source": [
    "Рассмотрим столбец *gender*"
   ]
  },
  {
   "cell_type": "code",
   "execution_count": 25,
   "metadata": {},
   "outputs": [
    {
     "data": {
      "text/plain": [
       "array(['f', 'm', 'xna'], dtype=object)"
      ]
     },
     "execution_count": 25,
     "metadata": {},
     "output_type": "execute_result"
    }
   ],
   "source": [
    "data['gender'].unique()"
   ]
  },
  {
   "cell_type": "markdown",
   "metadata": {},
   "source": [
    "Столбец 'gender' имеет неизвестное значение *'xna'*. Выясним номер строки "
   ]
  },
  {
   "cell_type": "code",
   "execution_count": 26,
   "metadata": {},
   "outputs": [
    {
     "name": "stdout",
     "output_type": "stream",
     "text": [
      "10701    xna\n",
      "Name: gender, dtype: object\n"
     ]
    }
   ],
   "source": [
    "print(data.loc[data.loc[:,'gender'] == 'xna']['gender'])"
   ]
  },
  {
   "cell_type": "markdown",
   "metadata": {},
   "source": [
    "Строку с полом \"xna\" можно как удалить, так и придать любое значение из F or M"
   ]
  },
  {
   "cell_type": "code",
   "execution_count": 27,
   "metadata": {},
   "outputs": [
    {
     "name": "stdout",
     "output_type": "stream",
     "text": [
      "children                               0\n",
      "days_employed                       2358\n",
      "dob_years                             24\n",
      "education            неоконченное высшее\n",
      "education_id                           2\n",
      "family_status           гражданский брак\n",
      "family_status_id                       1\n",
      "gender                                 f\n",
      "income_type                    компаньон\n",
      "debt                                   0\n",
      "total_income                      203905\n",
      "purpose             покупка недвижимости\n",
      "Name: 10701, dtype: object\n"
     ]
    }
   ],
   "source": [
    "data.loc[data['gender'] == 'xna', 'gender'] = 'f' \n",
    "print(data.loc[10701])"
   ]
  },
  {
   "cell_type": "markdown",
   "metadata": {},
   "source": [
    "Строка *10701* имеет адекватные все остальные параметры."
   ]
  },
  {
   "cell_type": "markdown",
   "metadata": {},
   "source": [
    "Рассмотрим столбец *income_type*"
   ]
  },
  {
   "cell_type": "code",
   "execution_count": 28,
   "metadata": {},
   "outputs": [
    {
     "data": {
      "text/plain": [
       "array(['сотрудник', 'компаньон', 'пенсионер', 'госслужащий',\n",
       "       'предприниматель', 'студент', 'в декрете'], dtype=object)"
      ]
     },
     "execution_count": 28,
     "metadata": {},
     "output_type": "execute_result"
    }
   ],
   "source": [
    "data['income_type'].unique()"
   ]
  },
  {
   "cell_type": "markdown",
   "metadata": {},
   "source": [
    "Столбец *income_type* без замечаний"
   ]
  },
  {
   "cell_type": "markdown",
   "metadata": {},
   "source": [
    "Рассмотрим столбец *purpose*"
   ]
  },
  {
   "cell_type": "code",
   "execution_count": 29,
   "metadata": {},
   "outputs": [
    {
     "data": {
      "text/plain": [
       "array(['покупка жилья', 'приобретение автомобиля',\n",
       "       'дополнительное образование', 'операции с жильем', 'образование',\n",
       "       'на проведение свадьбы', 'покупка жилья для семьи',\n",
       "       'покупка недвижимости', 'покупка коммерческой недвижимости',\n",
       "       'сыграть свадьбу', 'покупка жилой недвижимости',\n",
       "       'строительство собственной недвижимости', 'недвижимость',\n",
       "       'строительство недвижимости', 'на покупку своего автомобиля',\n",
       "       'на покупку подержанного автомобиля',\n",
       "       'строительство жилой недвижимости', 'жилье',\n",
       "       'операции со своей недвижимостью', 'автомобили',\n",
       "       'заняться образованием', 'сделка с подержанным автомобилем',\n",
       "       'получение образования', 'автомобиль', 'свадьба',\n",
       "       'получение дополнительного образования', 'покупка своего жилья',\n",
       "       'операции с недвижимостью', 'получение высшего образования',\n",
       "       'операции с коммерческой недвижимостью', 'свой автомобиль',\n",
       "       'сделка с автомобилем', 'профильное образование',\n",
       "       'высшее образование', 'на покупку автомобиля',\n",
       "       'покупка жилья для сдачи', 'ремонт жилью',\n",
       "       'заняться высшим образованием'], dtype=object)"
      ]
     },
     "execution_count": 29,
     "metadata": {},
     "output_type": "execute_result"
    }
   ],
   "source": [
    "data['purpose'].unique()"
   ]
  },
  {
   "cell_type": "markdown",
   "metadata": {},
   "source": [
    "Столбец  *purpose* имеет много схожих целей."
   ]
  },
  {
   "cell_type": "markdown",
   "metadata": {},
   "source": [
    "Избавимся от дубликатов"
   ]
  },
  {
   "cell_type": "code",
   "execution_count": 30,
   "metadata": {},
   "outputs": [
    {
     "name": "stdout",
     "output_type": "stream",
     "text": [
      "71\n"
     ]
    }
   ],
   "source": [
    "print(data.duplicated().sum()) \n",
    "data.drop_duplicates(inplace = True)  "
   ]
  },
  {
   "cell_type": "markdown",
   "metadata": {},
   "source": [
    "Приведем индексы в порядок после удаления"
   ]
  },
  {
   "cell_type": "code",
   "execution_count": 31,
   "metadata": {},
   "outputs": [],
   "source": [
    "data.reset_index(drop=True, inplace=True)"
   ]
  },
  {
   "cell_type": "markdown",
   "metadata": {},
   "source": [
    "#### Выполним выделение лемм в значениях столбца *purpose* ####"
   ]
  },
  {
   "cell_type": "markdown",
   "metadata": {},
   "source": [
    "Создадим функцию для создания лемм"
   ]
  },
  {
   "cell_type": "code",
   "execution_count": 32,
   "metadata": {},
   "outputs": [],
   "source": [
    "def funk_lemma(row):\n",
    "    lemma = m.lemmatize(row)\n",
    "    return lemma"
   ]
  },
  {
   "cell_type": "markdown",
   "metadata": {},
   "source": [
    "Добавим столбец *purpose_lemma*,  куда определим цели из столбца *purpose*, после применения функции *funk_lemma*"
   ]
  },
  {
   "cell_type": "code",
   "execution_count": 33,
   "metadata": {},
   "outputs": [],
   "source": [
    "data['purpose_lemma'] = data['purpose'].apply(funk_lemma)"
   ]
  },
  {
   "cell_type": "markdown",
   "metadata": {},
   "source": [
    "Преобразуем все значения из столбца *purpose_lemma* в удобный вариант для расчета. Преобразуем  в единный список с разбивкой по словам."
   ]
  },
  {
   "cell_type": "code",
   "execution_count": 34,
   "metadata": {},
   "outputs": [
    {
     "data": {
      "text/plain": [
       "['покупка',\n",
       " ' ',\n",
       " 'жилье',\n",
       " '\\n',\n",
       " 'приобретение',\n",
       " ' ',\n",
       " 'автомобиль',\n",
       " '\\n',\n",
       " 'покупка',\n",
       " ' ',\n",
       " 'жилье',\n",
       " '\\n',\n",
       " 'дополнительный',\n",
       " ' ',\n",
       " 'образование',\n",
       " '\\n',\n",
       " 'покупка',\n",
       " ' ',\n",
       " 'жилье',\n",
       " '\\n',\n",
       " 'операция',\n",
       " ' ',\n",
       " 'с',\n",
       " ' ',\n",
       " 'жилье',\n",
       " '\\n',\n",
       " 'образование',\n",
       " '\\n',\n",
       " 'на',\n",
       " ' ',\n",
       " 'проведение',\n",
       " ' ',\n",
       " 'свадьба',\n",
       " '\\n',\n",
       " 'покупка',\n",
       " ' ',\n",
       " 'жилье',\n",
       " ' ',\n",
       " 'для',\n",
       " ' ',\n",
       " 'семья',\n",
       " '\\n',\n",
       " 'покупка',\n",
       " ' ',\n",
       " 'недвижимость',\n",
       " '\\n',\n",
       " 'покупка',\n",
       " ' ',\n",
       " 'коммерческий',\n",
       " ' ',\n",
       " 'недвижимость',\n",
       " '\\n',\n",
       " 'сыграть',\n",
       " ' ',\n",
       " 'свадьба',\n",
       " '\\n',\n",
       " 'приобретение',\n",
       " ' ',\n",
       " 'автомобиль',\n",
       " '\\n',\n",
       " 'покупка',\n",
       " ' ',\n",
       " 'жилой',\n",
       " ' ',\n",
       " 'недвижимость',\n",
       " '\\n',\n",
       " 'строительство',\n",
       " ' ',\n",
       " 'собственный',\n",
       " ' ',\n",
       " 'недвижимость',\n",
       " '\\n',\n",
       " 'недвижимость',\n",
       " '\\n',\n",
       " 'строительство',\n",
       " ' ',\n",
       " 'недвижимость',\n",
       " '\\n',\n",
       " 'на',\n",
       " ' ',\n",
       " 'покупка',\n",
       " ' ',\n",
       " 'свой',\n",
       " ' ',\n",
       " 'автомобиль',\n",
       " '\\n',\n",
       " 'недвижимость',\n",
       " '\\n',\n",
       " 'приобретение',\n",
       " ' ',\n",
       " 'автомобиль',\n",
       " '\\n',\n",
       " 'на',\n",
       " ' ',\n",
       " 'покупка',\n",
       " ' ',\n",
       " 'подержать',\n",
       " ' ',\n",
       " 'автомобиль',\n",
       " '\\n',\n",
       " 'сыграть',\n",
       " ' ',\n",
       " 'свадьба',\n",
       " '\\n',\n",
       " 'образование',\n",
       " '\\n',\n",
       " 'строительство',\n",
       " ' ',\n",
       " 'собственный',\n",
       " ' ',\n",
       " 'недвижимость',\n",
       " '\\n',\n",
       " 'строительство',\n",
       " ' ',\n",
       " 'собственный',\n",
       " ' ',\n",
       " 'недвижимость',\n",
       " '\\n',\n",
       " 'строительство',\n",
       " ' ',\n",
       " 'жилой',\n",
       " ' ',\n",
       " 'недвижимость',\n",
       " '\\n',\n",
       " 'жилье',\n",
       " '\\n',\n",
       " 'на',\n",
       " ' ',\n",
       " 'проведение',\n",
       " ' ',\n",
       " 'свадьба',\n",
       " '\\n',\n",
       " 'покупка',\n",
       " ' ',\n",
       " 'жилье',\n",
       " '\\n',\n",
       " 'операция',\n",
       " ' ',\n",
       " 'со',\n",
       " ' ',\n",
       " 'свой',\n",
       " ' ',\n",
       " 'недвижимость',\n",
       " '\\n',\n",
       " 'автомобиль',\n",
       " '\\n',\n",
       " 'приобретение',\n",
       " ' ',\n",
       " 'автомобиль',\n",
       " '\\n',\n",
       " 'образование',\n",
       " '\\n',\n",
       " 'заниматься',\n",
       " ' ',\n",
       " 'образование',\n",
       " '\\n',\n",
       " 'покупка',\n",
       " ' ',\n",
       " 'недвижимость',\n",
       " '\\n',\n",
       " 'сделка',\n",
       " ' ',\n",
       " 'с',\n",
       " ' ',\n",
       " 'подержанный',\n",
       " ' ',\n",
       " 'автомобиль',\n",
       " '\\n',\n",
       " 'получение',\n",
       " ' ',\n",
       " 'образование',\n",
       " '\\n',\n",
       " 'приобретение',\n",
       " ' ',\n",
       " 'автомобиль',\n",
       " '\\n',\n",
       " 'на',\n",
       " ' ',\n",
       " 'покупка',\n",
       " ' ',\n",
       " 'свой',\n",
       " ' ',\n",
       " 'автомобиль',\n",
       " '\\n',\n",
       " 'заниматься',\n",
       " ' ',\n",
       " 'образование',\n",
       " '\\n',\n",
       " 'сделка',\n",
       " ' ',\n",
       " 'с',\n",
       " ' ',\n",
       " 'подержанный',\n",
       " ' ',\n",
       " 'автомобиль',\n",
       " '\\n',\n",
       " 'на',\n",
       " ' ',\n",
       " 'проведение',\n",
       " ' ',\n",
       " 'свадьба',\n",
       " '\\n',\n",
       " 'строительство',\n",
       " ' ',\n",
       " 'собственный',\n",
       " ' ',\n",
       " 'недвижимость',\n",
       " '\\n',\n",
       " 'автомобиль',\n",
       " '\\n',\n",
       " 'свадьба',\n",
       " '\\n',\n",
       " 'получение',\n",
       " ' ',\n",
       " 'дополнительный',\n",
       " ' ',\n",
       " 'образование',\n",
       " '\\n',\n",
       " 'покупка',\n",
       " ' ',\n",
       " 'свой',\n",
       " ' ',\n",
       " 'жилье',\n",
       " '\\n',\n",
       " 'автомобиль',\n",
       " '\\n',\n",
       " 'сыграть',\n",
       " ' ',\n",
       " 'свадьба',\n",
       " '\\n',\n",
       " 'образование',\n",
       " '\\n',\n",
       " 'недвижимость',\n",
       " '\\n',\n",
       " 'операция',\n",
       " ' ',\n",
       " 'с',\n",
       " ' ',\n",
       " 'недвижимость',\n",
       " '\\n',\n",
       " 'заниматься',\n",
       " ' ',\n",
       " 'образование',\n",
       " '\\n',\n",
       " 'покупка',\n",
       " ' ',\n",
       " 'недвижимость',\n",
       " '\\n',\n",
       " 'получение',\n",
       " ' ',\n",
       " 'высокий',\n",
       " ' ',\n",
       " 'образование',\n",
       " '\\n',\n",
       " 'операция',\n",
       " ' ',\n",
       " 'с',\n",
       " ' ',\n",
       " 'жилье',\n",
       " '\\n',\n",
       " 'сделка',\n",
       " ' ',\n",
       " 'с',\n",
       " ' ',\n",
       " 'подержанный',\n",
       " ' ',\n",
       " 'автомобиль',\n",
       " '\\n',\n",
       " 'операция',\n",
       " ' ',\n",
       " 'с',\n",
       " ' ',\n",
       " 'коммерческий',\n",
       " ' ',\n",
       " 'недвижимость',\n",
       " '\\n',\n",
       " 'заниматься',\n",
       " ' ',\n",
       " 'образование',\n",
       " '\\n',\n",
       " 'покупка',\n",
       " ' ',\n",
       " 'жилье',\n",
       " ' ',\n",
       " 'для',\n",
       " ' ',\n",
       " 'семья',\n",
       " '\\n',\n",
       " 'операция',\n",
       " ' ',\n",
       " 'с',\n",
       " ' ',\n",
       " 'коммерческий',\n",
       " ' ',\n",
       " 'недвижимость',\n",
       " '\\n',\n",
       " 'покупка',\n",
       " ' ',\n",
       " 'свой',\n",
       " ' ',\n",
       " 'жилье',\n",
       " '\\n',\n",
       " 'покупка',\n",
       " ' ',\n",
       " 'коммерческий',\n",
       " ' ',\n",
       " 'недвижимость',\n",
       " '\\n',\n",
       " 'операция',\n",
       " ' ',\n",
       " 'с',\n",
       " ' ',\n",
       " 'коммерческий',\n",
       " ' ',\n",
       " 'недвижимость',\n",
       " '\\n',\n",
       " 'заниматься',\n",
       " ' ',\n",
       " 'образование',\n",
       " '\\n',\n",
       " 'покупка',\n",
       " ' ',\n",
       " 'жилье',\n",
       " ' ',\n",
       " 'для',\n",
       " ' ',\n",
       " 'семья',\n",
       " '\\n',\n",
       " 'операция',\n",
       " ' ',\n",
       " 'с',\n",
       " ' ',\n",
       " 'недвижимость',\n",
       " '\\n',\n",
       " 'на',\n",
       " ' ',\n",
       " 'покупка',\n",
       " ' ',\n",
       " 'подержать',\n",
       " ' ',\n",
       " 'автомобиль',\n",
       " '\\n',\n",
       " 'свой',\n",
       " ' ',\n",
       " 'автомобиль',\n",
       " '\\n',\n",
       " 'автомобиль',\n",
       " '\\n',\n",
       " 'сделка',\n",
       " ' ',\n",
       " 'с',\n",
       " ' ',\n",
       " 'автомобиль',\n",
       " '\\n',\n",
       " 'профильный',\n",
       " ' ',\n",
       " 'образование',\n",
       " '\\n',\n",
       " 'жилье',\n",
       " '\\n',\n",
       " 'жилье',\n",
       " '\\n',\n",
       " 'операция',\n",
       " ' ',\n",
       " 'со',\n",
       " ' ',\n",
       " 'свой',\n",
       " ' ',\n",
       " 'недвижимость',\n",
       " '\\n',\n",
       " 'высокий',\n",
       " ' ',\n",
       " 'образование',\n",
       " '\\n',\n",
       " 'сделка',\n",
       " ' ',\n",
       " 'с',\n",
       " ' ',\n",
       " 'подержанный',\n",
       " ' ',\n",
       " 'автомобиль',\n",
       " '\\n',\n",
       " 'операция',\n",
       " ' ',\n",
       " 'с',\n",
       " ' ',\n",
       " 'жилье',\n",
       " '\\n',\n",
       " 'покупка',\n",
       " ' ',\n",
       " 'недвижимость',\n",
       " '\\n',\n",
       " 'сыграть',\n",
       " ' ',\n",
       " 'свадьба',\n",
       " '\\n',\n",
       " 'сделка',\n",
       " ' ',\n",
       " 'с',\n",
       " ' ',\n",
       " 'автомобиль',\n",
       " '\\n',\n",
       " 'на',\n",
       " ' ',\n",
       " 'проведение',\n",
       " ' ',\n",
       " 'свадьба',\n",
       " '\\n',\n",
       " 'автомобиль',\n",
       " '\\n',\n",
       " 'покупка',\n",
       " ' ',\n",
       " 'жилой',\n",
       " ' ',\n",
       " 'недвижимость',\n",
       " '\\n',\n",
       " 'профильный',\n",
       " ' ',\n",
       " 'образование',\n",
       " '\\n',\n",
       " 'операция',\n",
       " ' ',\n",
       " 'с',\n",
       " ' ',\n",
       " 'недвижимость',\n",
       " '\\n',\n",
       " 'на',\n",
       " ' ',\n",
       " 'покупка',\n",
       " ' ',\n",
       " 'подержать',\n",
       " ' ',\n",
       " 'автомобиль',\n",
       " '\\n',\n",
       " 'строительство',\n",
       " ' ',\n",
       " 'недвижимость',\n",
       " '\\n',\n",
       " 'строительство',\n",
       " ' ',\n",
       " 'собственный',\n",
       " ' ',\n",
       " 'недвижимость',\n",
       " '\\n',\n",
       " 'образование',\n",
       " '\\n',\n",
       " 'строительство',\n",
       " ' ',\n",
       " 'собственный',\n",
       " ' ',\n",
       " 'недвижимость',\n",
       " '\\n',\n",
       " 'сделка',\n",
       " ' ',\n",
       " 'с',\n",
       " ' ',\n",
       " 'подержанный',\n",
       " ' ',\n",
       " 'автомобиль',\n",
       " '\\n',\n",
       " 'образование',\n",
       " '\\n',\n",
       " 'покупка',\n",
       " ' ',\n",
       " 'жилье',\n",
       " '\\n',\n",
       " 'недвижимость',\n",
       " '\\n',\n",
       " 'недвижимость',\n",
       " '\\n',\n",
       " 'образование',\n",
       " '\\n',\n",
       " 'операция',\n",
       " ' ',\n",
       " 'со',\n",
       " ' ',\n",
       " 'свой',\n",
       " ' ',\n",
       " 'недвижимость',\n",
       " '\\n',\n",
       " 'операция',\n",
       " ' ',\n",
       " 'с',\n",
       " ' ',\n",
       " 'коммерческий',\n",
       " ' ',\n",
       " 'недвижимость',\n",
       " '\\n',\n",
       " 'покупка',\n",
       " ' ',\n",
       " 'жилой',\n",
       " ' ',\n",
       " 'недвижимость',\n",
       " '\\n',\n",
       " 'на',\n",
       " ' ',\n",
       " 'покупка',\n",
       " ' ',\n",
       " 'автомобиль',\n",
       " '\\n',\n",
       " 'на',\n",
       " ' ',\n",
       " 'проведение',\n",
       " ' ',\n",
       " 'свадьба',\n",
       " '\\n',\n",
       " 'высокий',\n",
       " ' ',\n",
       " 'образование',\n",
       " '\\n',\n",
       " 'автомобиль',\n",
       " '\\n',\n",
       " 'автомобиль',\n",
       " '\\n',\n",
       " 'покупка',\n",
       " ' ',\n",
       " 'жилье',\n",
       " ' ',\n",
       " 'для',\n",
       " ' ',\n",
       " 'сдача',\n",
       " '\\n',\n",
       " 'операция',\n",
       " ' ',\n",
       " 'с',\n",
       " ' ',\n",
       " 'коммерческий',\n",
       " ' ',\n",
       " 'недвижимость',\n",
       " '\\n',\n",
       " 'свадьба',\n",
       " '\\n',\n",
       " 'строительство',\n",
       " ' ',\n",
       " 'собственный',\n",
       " ' ',\n",
       " 'недвижимость',\n",
       " '\\n',\n",
       " 'строительство',\n",
       " ' ',\n",
       " 'жилой',\n",
       " ' ',\n",
       " 'недвижимость',\n",
       " '\\n',\n",
       " 'операция',\n",
       " ' ',\n",
       " 'со',\n",
       " ' ',\n",
       " 'свой',\n",
       " ' ',\n",
       " 'недвижимость',\n",
       " '\\n',\n",
       " 'получение',\n",
       " ' ',\n",
       " 'дополнительный',\n",
       " ' ',\n",
       " 'образование',\n",
       " '\\n',\n",
       " 'автомобиль',\n",
       " '\\n',\n",
       " 'покупка',\n",
       " ' ',\n",
       " 'жилой',\n",
       " ' ',\n",
       " 'недвижимость',\n",
       " '\\n',\n",
       " 'жилье',\n",
       " '\\n',\n",
       " 'сыграть',\n",
       " ' ',\n",
       " 'свадьба',\n",
       " '\\n',\n",
       " 'покупка',\n",
       " ' ',\n",
       " 'свой',\n",
       " ' ',\n",
       " 'жилье',\n",
       " '\\n',\n",
       " 'ремонт',\n",
       " ' ',\n",
       " 'жилье',\n",
       " '\\n',\n",
       " 'покупка',\n",
       " ' ',\n",
       " 'коммерческий',\n",
       " ' ',\n",
       " 'недвижимость',\n",
       " '\\n',\n",
       " 'свадьба',\n",
       " '\\n',\n",
       " 'строительство',\n",
       " ' ',\n",
       " 'собственный',\n",
       " ' ',\n",
       " 'недвижимость',\n",
       " '\\n',\n",
       " 'свой',\n",
       " ' ',\n",
       " 'автомобиль',\n",
       " '\\n',\n",
       " 'строительство',\n",
       " ' ',\n",
       " 'недвижимость',\n",
       " '\\n',\n",
       " 'покупка',\n",
       " ' ',\n",
       " 'жилье',\n",
       " '\\n',\n",
       " 'операция',\n",
       " ' ',\n",
       " 'с',\n",
       " ' ',\n",
       " 'недвижимость',\n",
       " '\\n',\n",
       " 'на',\n",
       " ' ',\n",
       " 'покупка',\n",
       " ' ',\n",
       " 'свой',\n",
       " ' ',\n",
       " 'автомобиль',\n",
       " '\\n',\n",
       " 'операция',\n",
       " ' ',\n",
       " 'с',\n",
       " ' ',\n",
       " 'жилье',\n",
       " '\\n',\n",
       " 'сыграть',\n",
       " ' ',\n",
       " 'свадьба',\n",
       " '\\n',\n",
       " 'покупка',\n",
       " ' ',\n",
       " 'свой',\n",
       " ' ',\n",
       " 'жилье',\n",
       " '\\n',\n",
       " 'жилье',\n",
       " '\\n',\n",
       " 'операция',\n",
       " ' ',\n",
       " 'с',\n",
       " ' ',\n",
       " 'коммерческий',\n",
       " ' ',\n",
       " 'недвижимость',\n",
       " '\\n',\n",
       " 'дополнительный',\n",
       " ' ',\n",
       " 'образование',\n",
       " '\\n',\n",
       " 'образование',\n",
       " '\\n',\n",
       " 'покупка',\n",
       " ' ',\n",
       " 'жилье',\n",
       " ' ',\n",
       " 'для',\n",
       " ' ',\n",
       " 'сдача',\n",
       " '\\n',\n",
       " 'приобретение',\n",
       " ' ',\n",
       " 'автомобиль',\n",
       " '\\n',\n",
       " 'получение',\n",
       " ' ',\n",
       " 'дополнительный',\n",
       " ' ',\n",
       " 'образование',\n",
       " '\\n',\n",
       " 'ремонт',\n",
       " ' ',\n",
       " 'жилье',\n",
       " '\\n',\n",
       " 'на',\n",
       " ' ',\n",
       " 'покупка',\n",
       " ' ',\n",
       " 'свой',\n",
       " ' ',\n",
       " 'автомобиль',\n",
       " '\\n',\n",
       " 'покупка',\n",
       " ' ',\n",
       " 'жилье',\n",
       " '\\n',\n",
       " 'операция',\n",
       " ' ',\n",
       " 'с',\n",
       " ' ',\n",
       " 'жилье',\n",
       " '\\n',\n",
       " 'на',\n",
       " ' ',\n",
       " 'проведение',\n",
       " ' ',\n",
       " 'свадьба',\n",
       " '\\n',\n",
       " 'жилье',\n",
       " '\\n',\n",
       " 'на',\n",
       " ' ',\n",
       " 'проведение',\n",
       " ' ',\n",
       " 'свадьба',\n",
       " '\\n',\n",
       " 'строительство',\n",
       " ' ',\n",
       " 'недвижимость',\n",
       " '\\n',\n",
       " 'покупка',\n",
       " ' ',\n",
       " 'коммерческий',\n",
       " ' ',\n",
       " 'недвижимость',\n",
       " '\\n',\n",
       " 'свой',\n",
       " ' ',\n",
       " 'автомобиль',\n",
       " '\\n',\n",
       " 'строительство',\n",
       " ' ',\n",
       " 'недвижимость',\n",
       " '\\n',\n",
       " 'сделка',\n",
       " ' ',\n",
       " 'с',\n",
       " ' ',\n",
       " 'подержанный',\n",
       " ' ',\n",
       " 'автомобиль',\n",
       " '\\n',\n",
       " 'покупка',\n",
       " ' ',\n",
       " 'свой',\n",
       " ' ',\n",
       " 'жилье',\n",
       " '\\n',\n",
       " 'сыграть',\n",
       " ' ',\n",
       " 'свадьба',\n",
       " '\\n',\n",
       " 'покупка',\n",
       " ' ',\n",
       " 'жилье',\n",
       " ' ',\n",
       " 'для',\n",
       " ' ',\n",
       " 'семья',\n",
       " '\\n',\n",
       " 'свадьба',\n",
       " '\\n',\n",
       " 'получение',\n",
       " ' ',\n",
       " 'дополнительный',\n",
       " ' ',\n",
       " 'образование',\n",
       " '\\n',\n",
       " 'получение',\n",
       " ' ',\n",
       " 'дополнительный',\n",
       " ' ',\n",
       " 'образование',\n",
       " '\\n',\n",
       " 'операция',\n",
       " ' ',\n",
       " 'с',\n",
       " ' ',\n",
       " 'коммерческий',\n",
       " ' ',\n",
       " 'недвижимость',\n",
       " '\\n',\n",
       " 'высокий',\n",
       " ' ',\n",
       " 'образование',\n",
       " '\\n',\n",
       " 'покупка',\n",
       " ' ',\n",
       " 'свой',\n",
       " ' ',\n",
       " 'жилье',\n",
       " '\\n',\n",
       " 'свой',\n",
       " ' ',\n",
       " 'автомобиль',\n",
       " '\\n',\n",
       " 'на',\n",
       " ' ',\n",
       " 'проведение',\n",
       " ' ',\n",
       " 'свадьба',\n",
       " '\\n',\n",
       " 'свой',\n",
       " ' ',\n",
       " 'автомобиль',\n",
       " '\\n',\n",
       " 'получение',\n",
       " ' ',\n",
       " 'образование',\n",
       " '\\n',\n",
       " 'дополнительный',\n",
       " ' ',\n",
       " 'образование',\n",
       " '\\n',\n",
       " 'покупка',\n",
       " ' ',\n",
       " 'свой',\n",
       " ' ',\n",
       " 'жилье',\n",
       " '\\n',\n",
       " 'покупка',\n",
       " ' ',\n",
       " 'недвижимость',\n",
       " '\\n',\n",
       " 'на',\n",
       " ' ',\n",
       " 'покупка',\n",
       " ' ',\n",
       " 'свой',\n",
       " ' ',\n",
       " 'автомобиль',\n",
       " '\\n',\n",
       " 'сделка',\n",
       " ' ',\n",
       " 'с',\n",
       " ' ',\n",
       " 'подержанный',\n",
       " ' ',\n",
       " 'автомобиль',\n",
       " '\\n',\n",
       " 'строительство',\n",
       " ' ',\n",
       " 'недвижимость',\n",
       " '\\n',\n",
       " 'покупка',\n",
       " ' ',\n",
       " 'жилой',\n",
       " ' ',\n",
       " 'недвижимость',\n",
       " '\\n',\n",
       " 'покупка',\n",
       " ' ',\n",
       " 'жилой',\n",
       " ' ',\n",
       " 'недвижимость',\n",
       " '\\n',\n",
       " 'строительство',\n",
       " ' ',\n",
       " 'собственный',\n",
       " ' ',\n",
       " 'недвижимость',\n",
       " '\\n',\n",
       " 'на',\n",
       " ' ',\n",
       " 'покупка',\n",
       " ' ',\n",
       " 'подержать',\n",
       " ' ',\n",
       " 'автомобиль',\n",
       " '\\n',\n",
       " 'покупка',\n",
       " ' ',\n",
       " 'свой',\n",
       " ' ',\n",
       " 'жилье',\n",
       " '\\n',\n",
       " 'профильный',\n",
       " ' ',\n",
       " 'образование',\n",
       " '\\n',\n",
       " 'операция',\n",
       " ' ',\n",
       " 'с',\n",
       " ' ',\n",
       " 'коммерческий',\n",
       " ' ',\n",
       " 'недвижимость',\n",
       " '\\n',\n",
       " 'сделка',\n",
       " ' ',\n",
       " 'с',\n",
       " ' ',\n",
       " 'подержанный',\n",
       " ' ',\n",
       " 'автомобиль',\n",
       " '\\n',\n",
       " 'приобретение',\n",
       " ' ',\n",
       " 'автомобиль',\n",
       " '\\n',\n",
       " 'на',\n",
       " ' ',\n",
       " 'покупка',\n",
       " ' ',\n",
       " 'автомобиль',\n",
       " '\\n',\n",
       " 'покупка',\n",
       " ' ',\n",
       " 'жилье',\n",
       " ' ',\n",
       " 'для',\n",
       " ' ',\n",
       " 'семья',\n",
       " '\\n',\n",
       " 'операция',\n",
       " ' ',\n",
       " 'с',\n",
       " ' ',\n",
       " 'недвижимость',\n",
       " '\\n',\n",
       " 'образование',\n",
       " '\\n',\n",
       " 'на',\n",
       " ' ',\n",
       " 'покупка',\n",
       " ' ',\n",
       " 'свой',\n",
       " ' ',\n",
       " 'автомобиль',\n",
       " '\\n',\n",
       " 'операция',\n",
       " ' ',\n",
       " 'с',\n",
       " ' ',\n",
       " 'коммерческий',\n",
       " ' ',\n",
       " 'недвижимость',\n",
       " '\\n',\n",
       " 'сыграть',\n",
       " ' ',\n",
       " 'свадьба',\n",
       " '\\n',\n",
       " 'покупка',\n",
       " ' ',\n",
       " 'жилой',\n",
       " ' ',\n",
       " 'недвижимость',\n",
       " '\\n',\n",
       " 'покупка',\n",
       " ' ',\n",
       " 'свой',\n",
       " ' ',\n",
       " 'жилье',\n",
       " '\\n',\n",
       " 'строительство',\n",
       " ' ',\n",
       " 'недвижимость',\n",
       " '\\n',\n",
       " 'получение',\n",
       " ' ',\n",
       " 'высокий',\n",
       " ' ',\n",
       " 'образование',\n",
       " '\\n',\n",
       " 'жилье',\n",
       " '\\n',\n",
       " 'свадьба',\n",
       " '\\n',\n",
       " 'покупка',\n",
       " ' ',\n",
       " 'жилье',\n",
       " ' ',\n",
       " 'для',\n",
       " ' ',\n",
       " 'семья',\n",
       " '\\n',\n",
       " 'свадьба',\n",
       " '\\n',\n",
       " 'на',\n",
       " ' ',\n",
       " 'покупка',\n",
       " ' ',\n",
       " 'автомобиль',\n",
       " '\\n',\n",
       " 'профильный',\n",
       " ' ',\n",
       " 'образование',\n",
       " '\\n',\n",
       " 'жилье',\n",
       " '\\n',\n",
       " 'покупка',\n",
       " ' ',\n",
       " 'недвижимость',\n",
       " '\\n',\n",
       " 'на',\n",
       " ' ',\n",
       " 'проведение',\n",
       " ' ',\n",
       " 'свадьба',\n",
       " '\\n',\n",
       " 'операция',\n",
       " ' ',\n",
       " 'с',\n",
       " ' ',\n",
       " 'недвижимость',\n",
       " '\\n',\n",
       " 'покупка',\n",
       " ' ',\n",
       " ...]"
      ]
     },
     "execution_count": 34,
     "metadata": {},
     "output_type": "execute_result"
    }
   ],
   "source": [
    "# добавим в список все леммы\n",
    "lemma_list = data['purpose_lemma']\n",
    "lemma_list_out = []\n",
    "for i in lemma_list:\n",
    "    for j in i:\n",
    "        lemma_list_out.append(j)\n",
    "lemma_list_out"
   ]
  },
  {
   "cell_type": "markdown",
   "metadata": {},
   "source": [
    "Посчитаем самые популярные слова, чтобы обобщить цели кредитов."
   ]
  },
  {
   "cell_type": "code",
   "execution_count": 35,
   "metadata": {},
   "outputs": [
    {
     "data": {
      "text/plain": [
       "Counter({'покупка': 4934,\n",
       "         ' ': 28021,\n",
       "         'жилье': 3748,\n",
       "         '\\n': 17900,\n",
       "         'приобретение': 382,\n",
       "         'автомобиль': 3567,\n",
       "         'дополнительный': 738,\n",
       "         'образование': 3336,\n",
       "         'операция': 2178,\n",
       "         'с': 2436,\n",
       "         'на': 1842,\n",
       "         'проведение': 637,\n",
       "         'свадьба': 1939,\n",
       "         'для': 1077,\n",
       "         'семья': 530,\n",
       "         'недвижимость': 5310,\n",
       "         'коммерческий': 1092,\n",
       "         'сыграть': 633,\n",
       "         'жилой': 1026,\n",
       "         'строительство': 1560,\n",
       "         'собственный': 528,\n",
       "         'свой': 1897,\n",
       "         'подержать': 387,\n",
       "         'со': 526,\n",
       "         'заниматься': 769,\n",
       "         'сделка': 784,\n",
       "         'подержанный': 403,\n",
       "         'получение': 1087,\n",
       "         'высокий': 1153,\n",
       "         'профильный': 362,\n",
       "         'сдача': 547,\n",
       "         'ремонт': 513})"
      ]
     },
     "execution_count": 35,
     "metadata": {},
     "output_type": "execute_result"
    }
   ],
   "source": [
    "from collections import Counter\n",
    "Counter(lemma_list_out)"
   ]
  },
  {
   "cell_type": "markdown",
   "metadata": {},
   "source": [
    "Добавлю в словарь самые популярные обобщенные цели"
   ]
  },
  {
   "cell_type": "code",
   "execution_count": 36,
   "metadata": {},
   "outputs": [
    {
     "data": {
      "text/plain": [
       "['недвижимость', 'жилье', 'автомобиль', 'образование', 'свадьба']"
      ]
     },
     "execution_count": 36,
     "metadata": {},
     "output_type": "execute_result"
    }
   ],
   "source": [
    "dict_purpose = ['недвижимость', 'жилье', 'автомобиль', 'образование', 'свадьба']\n",
    "dict_purpose"
   ]
  },
  {
   "cell_type": "markdown",
   "metadata": {},
   "source": [
    "Придадим категории из словаря *dict_purpose* для каждой цели из столбца *purpose*"
   ]
  },
  {
   "cell_type": "code",
   "execution_count": 37,
   "metadata": {},
   "outputs": [
    {
     "data": {
      "text/html": [
       "<div>\n",
       "<style scoped>\n",
       "    .dataframe tbody tr th:only-of-type {\n",
       "        vertical-align: middle;\n",
       "    }\n",
       "\n",
       "    .dataframe tbody tr th {\n",
       "        vertical-align: top;\n",
       "    }\n",
       "\n",
       "    .dataframe thead th {\n",
       "        text-align: right;\n",
       "    }\n",
       "</style>\n",
       "<table border=\"1\" class=\"dataframe\">\n",
       "  <thead>\n",
       "    <tr style=\"text-align: right;\">\n",
       "      <th></th>\n",
       "      <th>children</th>\n",
       "      <th>days_employed</th>\n",
       "      <th>dob_years</th>\n",
       "      <th>education</th>\n",
       "      <th>education_id</th>\n",
       "      <th>family_status</th>\n",
       "      <th>family_status_id</th>\n",
       "      <th>gender</th>\n",
       "      <th>income_type</th>\n",
       "      <th>debt</th>\n",
       "      <th>total_income</th>\n",
       "      <th>purpose</th>\n",
       "      <th>purpose_lemma</th>\n",
       "      <th>category</th>\n",
       "    </tr>\n",
       "  </thead>\n",
       "  <tbody>\n",
       "    <tr>\n",
       "      <td>0</td>\n",
       "      <td>1</td>\n",
       "      <td>8437</td>\n",
       "      <td>42</td>\n",
       "      <td>высшее</td>\n",
       "      <td>0</td>\n",
       "      <td>женат / замужем</td>\n",
       "      <td>0</td>\n",
       "      <td>f</td>\n",
       "      <td>сотрудник</td>\n",
       "      <td>0</td>\n",
       "      <td>253875</td>\n",
       "      <td>покупка жилья</td>\n",
       "      <td>[покупка,  , жилье, \\n]</td>\n",
       "      <td>жилье</td>\n",
       "    </tr>\n",
       "    <tr>\n",
       "      <td>1</td>\n",
       "      <td>1</td>\n",
       "      <td>4024</td>\n",
       "      <td>36</td>\n",
       "      <td>среднее</td>\n",
       "      <td>1</td>\n",
       "      <td>женат / замужем</td>\n",
       "      <td>0</td>\n",
       "      <td>f</td>\n",
       "      <td>сотрудник</td>\n",
       "      <td>0</td>\n",
       "      <td>112080</td>\n",
       "      <td>приобретение автомобиля</td>\n",
       "      <td>[приобретение,  , автомобиль, \\n]</td>\n",
       "      <td>автомобиль</td>\n",
       "    </tr>\n",
       "    <tr>\n",
       "      <td>2</td>\n",
       "      <td>0</td>\n",
       "      <td>5623</td>\n",
       "      <td>33</td>\n",
       "      <td>среднее</td>\n",
       "      <td>1</td>\n",
       "      <td>женат / замужем</td>\n",
       "      <td>0</td>\n",
       "      <td>m</td>\n",
       "      <td>сотрудник</td>\n",
       "      <td>0</td>\n",
       "      <td>145885</td>\n",
       "      <td>покупка жилья</td>\n",
       "      <td>[покупка,  , жилье, \\n]</td>\n",
       "      <td>жилье</td>\n",
       "    </tr>\n",
       "    <tr>\n",
       "      <td>3</td>\n",
       "      <td>3</td>\n",
       "      <td>4124</td>\n",
       "      <td>32</td>\n",
       "      <td>среднее</td>\n",
       "      <td>1</td>\n",
       "      <td>женат / замужем</td>\n",
       "      <td>0</td>\n",
       "      <td>m</td>\n",
       "      <td>сотрудник</td>\n",
       "      <td>0</td>\n",
       "      <td>267628</td>\n",
       "      <td>дополнительное образование</td>\n",
       "      <td>[дополнительный,  , образование, \\n]</td>\n",
       "      <td>образование</td>\n",
       "    </tr>\n",
       "    <tr>\n",
       "      <td>4</td>\n",
       "      <td>0</td>\n",
       "      <td>926</td>\n",
       "      <td>27</td>\n",
       "      <td>высшее</td>\n",
       "      <td>0</td>\n",
       "      <td>гражданский брак</td>\n",
       "      <td>1</td>\n",
       "      <td>m</td>\n",
       "      <td>компаньон</td>\n",
       "      <td>0</td>\n",
       "      <td>255763</td>\n",
       "      <td>покупка жилья</td>\n",
       "      <td>[покупка,  , жилье, \\n]</td>\n",
       "      <td>жилье</td>\n",
       "    </tr>\n",
       "  </tbody>\n",
       "</table>\n",
       "</div>"
      ],
      "text/plain": [
       "   children  days_employed  dob_years education  education_id  \\\n",
       "0         1           8437         42    высшее             0   \n",
       "1         1           4024         36   среднее             1   \n",
       "2         0           5623         33   среднее             1   \n",
       "3         3           4124         32   среднее             1   \n",
       "4         0            926         27    высшее             0   \n",
       "\n",
       "      family_status  family_status_id gender income_type  debt  total_income  \\\n",
       "0   женат / замужем                 0      f   сотрудник     0        253875   \n",
       "1   женат / замужем                 0      f   сотрудник     0        112080   \n",
       "2   женат / замужем                 0      m   сотрудник     0        145885   \n",
       "3   женат / замужем                 0      m   сотрудник     0        267628   \n",
       "4  гражданский брак                 1      m   компаньон     0        255763   \n",
       "\n",
       "                      purpose                         purpose_lemma  \\\n",
       "0               покупка жилья               [покупка,  , жилье, \\n]   \n",
       "1     приобретение автомобиля     [приобретение,  , автомобиль, \\n]   \n",
       "2               покупка жилья               [покупка,  , жилье, \\n]   \n",
       "3  дополнительное образование  [дополнительный,  , образование, \\n]   \n",
       "4               покупка жилья               [покупка,  , жилье, \\n]   \n",
       "\n",
       "      category  \n",
       "0        жилье  \n",
       "1   автомобиль  \n",
       "2        жилье  \n",
       "3  образование  \n",
       "4        жилье  "
      ]
     },
     "execution_count": 37,
     "metadata": {},
     "output_type": "execute_result"
    }
   ],
   "source": [
    "def category(data):\n",
    "    if dict_purpose[0] in data:\n",
    "        return dict_purpose[0]\n",
    "    elif dict_purpose[1] in data:\n",
    "        return dict_purpose[1]\n",
    "    elif dict_purpose[2] in data:\n",
    "        return dict_purpose[2]\n",
    "    elif dict_purpose[3] in data:\n",
    "        return dict_purpose[3]\n",
    "    else:\n",
    "        return dict_purpose[4]\n",
    "    \n",
    "data['category'] = data['purpose_lemma'].apply(category)\n",
    "data.head(5)"
   ]
  },
  {
   "cell_type": "markdown",
   "metadata": {},
   "source": [
    "#### Вывод ####"
   ]
  },
  {
   "cell_type": "markdown",
   "metadata": {},
   "source": [
    "Предобработка данных выполнена.Теперь таблица полностью читаема и в ней отсуствуют некорректные значения. Можно переходить к исследования и выявлению зависимостей"
   ]
  },
  {
   "cell_type": "markdown",
   "metadata": {},
   "source": [
    "#### Этап 3. Отвечаем  на вопросы ####"
   ]
  },
  {
   "cell_type": "markdown",
   "metadata": {},
   "source": [
    "1.Есть ли зависимость между наличием детей и возвратом кредита в срок?\n"
   ]
  },
  {
   "cell_type": "markdown",
   "metadata": {},
   "source": [
    "Определим процент людей с детьми, которые имеют задолженности"
   ]
  },
  {
   "cell_type": "code",
   "execution_count": 38,
   "metadata": {},
   "outputs": [
    {
     "name": "stdout",
     "output_type": "stream",
     "text": [
      "Процент людей с детьми, которые имеют задолжности: 9.4%\n"
     ]
    }
   ],
   "source": [
    "data_with_children = data[data['children'] != 0]\n",
    "with_children_debt = data_with_children['debt'].sum() / len(data_with_children)\n",
    "print('Процент людей с детьми, которые имеют задолжности: {:.1%}'.format(with_children_debt))"
   ]
  },
  {
   "cell_type": "markdown",
   "metadata": {},
   "source": [
    "Определим среднюю зарплату среди них"
   ]
  },
  {
   "cell_type": "code",
   "execution_count": 39,
   "metadata": {},
   "outputs": [
    {
     "name": "stdout",
     "output_type": "stream",
     "text": [
      "Средняя зарплата людей с детьми: 155373.24472210254\n"
     ]
    }
   ],
   "source": [
    "print(\"Средняя зарплата людей с детьми:\",data_with_children['total_income'].mean())"
   ]
  },
  {
   "cell_type": "markdown",
   "metadata": {},
   "source": [
    "Определим процент людей без детей, которые имеют задолженности"
   ]
  },
  {
   "cell_type": "code",
   "execution_count": 40,
   "metadata": {},
   "outputs": [
    {
     "name": "stdout",
     "output_type": "stream",
     "text": [
      "Процент людей без детей, которые имеют задолжности: 8.2%\n"
     ]
    }
   ],
   "source": [
    "data_without_children = data[data['children'] == 0]\n",
    "without_children_debt = data_without_children['debt'].sum() / len(data_without_children)\n",
    "print('Процент людей без детей, которые имеют задолжности: {:.1%}'.format(without_children_debt))"
   ]
  },
  {
   "cell_type": "markdown",
   "metadata": {},
   "source": [
    "Определим среднюю зарплату среди них"
   ]
  },
  {
   "cell_type": "code",
   "execution_count": 41,
   "metadata": {},
   "outputs": [
    {
     "name": "stdout",
     "output_type": "stream",
     "text": [
      "Средняя зарплата людей без детей: 152612.84191277315\n"
     ]
    }
   ],
   "source": [
    "print(\"Средняя зарплата людей без детей:\",data_without_children['total_income'].mean())"
   ]
  },
  {
   "cell_type": "markdown",
   "metadata": {},
   "source": [
    "### Вывод: ###\n",
    "Процент людей с детьми, которые имеют задолжности 9.4%, а без детей 8.2%. На первый взягляд разница не такая большая, чтобы делать выводы. Однако при сравнение средней зарплаты в каждой из этих групп видно, что она примерно одинаковая- 155 тысяч против 152 тысячи.  \n",
    "Зависимость все же есть. Человек без детей более благонадежен для банка."
   ]
  },
  {
   "cell_type": "markdown",
   "metadata": {},
   "source": [
    "2.Есть ли зависимость между семейным положением и возвратом кредита в срок?"
   ]
  },
  {
   "cell_type": "markdown",
   "metadata": {},
   "source": [
    "Подготовим сводную таблицу для анализа:"
   ]
  },
  {
   "cell_type": "code",
   "execution_count": 42,
   "metadata": {
    "scrolled": true
   },
   "outputs": [
    {
     "name": "stdout",
     "output_type": "stream",
     "text": [
      "debt                      0    1          %\n",
      "family_status                              \n",
      "в разводе               919   73   7.943417\n",
      "вдовец / вдова          440   31   7.045455\n",
      "гражданский брак       3202  356  11.118051\n",
      "женат / замужем        9565  829   8.667015\n",
      "не женат / не замужем  2224  261  11.735612\n"
     ]
    }
   ],
   "source": [
    "data_pivot_FamilyStatus_and_debt = data.pivot_table(index='family_status', columns=['debt'], values='family_status_id', aggfunc='count')\n",
    "data_pivot_FamilyStatus_and_debt['%'] = (data_pivot_FamilyStatus_and_debt[1] / data_pivot_FamilyStatus_and_debt[0]) * 100\n",
    "print(data_pivot_FamilyStatus_and_debt)"
   ]
  },
  {
   "cell_type": "markdown",
   "metadata": {},
   "source": [
    "Проверим средний возраст в некоторых группах:"
   ]
  },
  {
   "cell_type": "code",
   "execution_count": 43,
   "metadata": {},
   "outputs": [
    {
     "name": "stdout",
     "output_type": "stream",
     "text": [
      "Средний возраст среди людей, живущих в гражданском браке 39.359190556492415\n",
      "Средний возраст среди людей, живущих в браке 40.79767173369252\n",
      "Средний возраст вдовцов 52.11677282377919\n"
     ]
    }
   ],
   "source": [
    "data_age= data[data['family_status'] =='гражданский брак']['dob_years'].mean()\n",
    "print('Средний возраст среди людей, живущих в гражданском браке',data_age)\n",
    "\n",
    "data_age= data[data['family_status'] =='женат / замужем']['dob_years'].mean()\n",
    "print('Средний возраст среди людей, живущих в браке',data_age)\n",
    "\n",
    "data_age= data[data['family_status'] =='вдовец / вдова']['dob_years'].mean()\n",
    "print('Средний возраст вдовцов',data_age)"
   ]
  },
  {
   "cell_type": "markdown",
   "metadata": {},
   "source": [
    "#### Вывод ####\n",
    "* Кто не был в официальном браке более склонен к задолжностям 11.7%\n",
    "* Люди в разводе 8% и вдовцы 7% менее склонны\n",
    "* Женатые 8.6% и люди,живущие в гражданском браке 11.1%\n",
    "\n",
    "Зависимость однозначно есть. Наиболее предпочтительно для банка давать кредит женатым 8.6% и людям в разводе 8%. К вдовцам с 7% стоит присмотреться внимательно, средний возраст в группе 52 года. Менее благонадежные для банка люди, живущие в гражанском браке 11.1% и холостяки 11.7%"
   ]
  },
  {
   "cell_type": "markdown",
   "metadata": {},
   "source": [
    "3.Как разные цели кредита влияют на его возврат в срок?"
   ]
  },
  {
   "cell_type": "markdown",
   "metadata": {},
   "source": [
    "Подготовим сводную таблицу для анализа:"
   ]
  },
  {
   "cell_type": "code",
   "execution_count": 44,
   "metadata": {},
   "outputs": [
    {
     "name": "stdout",
     "output_type": "stream",
     "text": [
      "debt             0    1          %\n",
      "category                          \n",
      "автомобиль    3210  357  11.121495\n",
      "жилье         3473  275   7.918226\n",
      "недвижимость  4883  427   8.744624\n",
      "образование   3009  327  10.867398\n",
      "свадьба       1775  164   9.239437\n"
     ]
    }
   ],
   "source": [
    "data_pivot_purpose_and_debt = data.pivot_table(index='category', columns='debt', values='purpose', aggfunc='count')\n",
    "data_pivot_purpose_and_debt['%'] = (data_pivot_purpose_and_debt[1] / data_pivot_purpose_and_debt[0]) * 100\n",
    "print(data_pivot_purpose_and_debt)"
   ]
  },
  {
   "cell_type": "markdown",
   "metadata": {},
   "source": [
    "#### Вывод ####\n",
    "* Люди, берущие кредит на дорогостоящие вещи менее склонны к задолженностям: 7.9% (жилье) и 8.7% (недвижимость)\n",
    "* На свадьбу 9.2%  и образование 10.8%\n",
    "* На автомобиль 11.12%\n"
   ]
  },
  {
   "cell_type": "markdown",
   "metadata": {},
   "source": [
    "4.Есть ли зависимость между уровнем дохода и возвратом кредита в срок?"
   ]
  },
  {
   "cell_type": "markdown",
   "metadata": {},
   "source": [
    "Выведем максимальную и минимальную з/п"
   ]
  },
  {
   "cell_type": "code",
   "execution_count": 45,
   "metadata": {},
   "outputs": [
    {
     "name": "stdout",
     "output_type": "stream",
     "text": [
      "2265604\n",
      "0\n"
     ]
    }
   ],
   "source": [
    "print(data['total_income'].max())\n",
    "print(data['total_income'].min())"
   ]
  },
  {
   "cell_type": "markdown",
   "metadata": {},
   "source": [
    "Напишем функцию, которая будет определять диапазон з/п. "
   ]
  },
  {
   "cell_type": "code",
   "execution_count": 46,
   "metadata": {},
   "outputs": [
    {
     "name": "stdout",
     "output_type": "stream",
     "text": [
      "   total_income total_income_pazprez\n",
      "0        253875             > 200000\n",
      "1        112080         80000-120000\n",
      "2        145885        120000-200000\n",
      "3        267628             > 200000\n",
      "4        255763             > 200000\n"
     ]
    }
   ],
   "source": [
    "def income(data):\n",
    "    if data == 0:\n",
    "        return '0'\n",
    "    elif data <= 20000:\n",
    "        #очень низкий доход\n",
    "        return '0-20000'\n",
    "    elif data <= 50000:\n",
    "        # средний доход\n",
    "        return '20000-50000'\n",
    "    elif data <= 80000:\n",
    "         # выше среднего доход\n",
    "        return '50000-80000'\n",
    "    elif data <= 120000:\n",
    "        # выше среднего доход\n",
    "        return '80000-120000'\n",
    "    elif data <= 200000:\n",
    "        # высокий доход\n",
    "        return '120000-200000'\n",
    "    else:\n",
    "       # очень высокий доход\n",
    "        return '> 200000'\n",
    "    \n",
    "data['total_income_pazprez'] = data['total_income'].apply(income)\n",
    "print(data.loc[:, ['total_income', 'total_income_pazprez']] .head(5))"
   ]
  },
  {
   "cell_type": "markdown",
   "metadata": {},
   "source": [
    "Подготовим сводную таблицу для анализа:"
   ]
  },
  {
   "cell_type": "code",
   "execution_count": 47,
   "metadata": {},
   "outputs": [
    {
     "name": "stdout",
     "output_type": "stream",
     "text": [
      "debt                     0    1    ratio %\n",
      "total_income_pazprez                      \n",
      "0                     1921  170   8.849558\n",
      "120000-200000         5660  590  10.424028\n",
      "20000-50000            178   14   7.865169\n",
      "50000-80000           1161  120  10.335917\n",
      "80000-120000          3270  331  10.122324\n",
      "> 200000              4160  325   7.812500\n"
     ]
    }
   ],
   "source": [
    "data_pivot_income = data.pivot_table(index='total_income_pazprez', columns='debt', values='total_income', aggfunc='count')\n",
    "#считаем процент должников\n",
    "data_pivot_income['ratio %'] = (data_pivot_income[1] / data_pivot_income[0]) * 100\n",
    "print(data_pivot_income)"
   ]
  },
  {
   "cell_type": "markdown",
   "metadata": {},
   "source": [
    "#### Вывод ####\n",
    "* Самые больше задолженности у людей с очень низким доходом (12-20к)-10.4%\n",
    "* Самые маленькие задолженности у людей с очень высоким доходом (>200к)-7.86%\n",
    "* Кто имеет заработок выше среднего(50-80к) и (80-120к)более склонны к задолжностям: 10.3% и 10.1%\n",
    "* А вот люди со средним доходом (20-50к)-молодцы:7.81%  \n",
    "\n",
    "    Для банка наиболее удобнее работать с людьми со средним(20-50к) и  очень восоким доходом (>200к)"
   ]
  },
  {
   "cell_type": "markdown",
   "metadata": {},
   "source": [
    "###  Общий вывод ###\n",
    " Сформулируем для банка  образ самого благонадежного клиента:\n",
    "* Женатый(замужем) или разведенный человек \n",
    "* Без детей\n",
    "* Со средним(20-50к) или очень высоким(>200к) доходом\n",
    "* С целью получения кредита на что-то очень дорогостоящее( недвижимость,жилье)\n",
    "\n",
    "Если в таблицу добавить столбцы срок кредита и сумма кредита,то исследование могли быть более глобальные\n"
   ]
  }
 ],
 "metadata": {
  "kernelspec": {
   "display_name": "Python 3",
   "language": "python",
   "name": "python3"
  },
  "language_info": {
   "codemirror_mode": {
    "name": "ipython",
    "version": 3
   },
   "file_extension": ".py",
   "mimetype": "text/x-python",
   "name": "python",
   "nbconvert_exporter": "python",
   "pygments_lexer": "ipython3",
   "version": "3.8.3"
  },
  "toc": {
   "base_numbering": 1,
   "nav_menu": {},
   "number_sections": true,
   "sideBar": true,
   "skip_h1_title": true,
   "title_cell": "Table of Contents",
   "title_sidebar": "Contents",
   "toc_cell": false,
   "toc_position": {},
   "toc_section_display": true,
   "toc_window_display": false
  }
 },
 "nbformat": 4,
 "nbformat_minor": 4
}
