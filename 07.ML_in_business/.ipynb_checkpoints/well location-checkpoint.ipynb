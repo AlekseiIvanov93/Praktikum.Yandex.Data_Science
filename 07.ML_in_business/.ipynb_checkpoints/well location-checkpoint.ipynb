{
 "cells": [
  {
   "cell_type": "markdown",
   "metadata": {},
   "source": [
    "# Выбор локации для скважины"
   ]
  },
  {
   "cell_type": "markdown",
   "metadata": {},
   "source": [
    "# Содержание:\n",
    "* Общая информация. Импорт библиотек и данных\n",
    "* Обучение и проверка модели для каждого региона\n",
    "* Подготовка к расчету прибыли\n",
    "* Функция для расчёта прибыли по выбранным скважинам и предсказаниям модели\n",
    "* Риски и прибыль для каждого региона\n",
    "* Вывод"
   ]
  },
  {
   "cell_type": "markdown",
   "metadata": {},
   "source": [
    "\n",
    "## Общая информация и импорт библиотек \n"
   ]
  },
  {
   "cell_type": "markdown",
   "metadata": {},
   "source": [
    "**Цель работы:** Нужно решить, где бурить новую скважину.\n",
    "\n",
    "**Цель применния**: Проанализирировать возможную прибыль и риски.  \n",
    "\n",
    "**Исходные данные**:Предоставлены пробы нефти в трёх регионах, характеристики для каждой скважины в регионе известны"
   ]
  },
  {
   "cell_type": "markdown",
   "metadata": {},
   "source": [
    "\n",
    "## Импорт библиотек\n"
   ]
  },
  {
   "cell_type": "code",
   "execution_count": 1,
   "metadata": {},
   "outputs": [],
   "source": [
    "# для работы со структурами данных\n",
    "import pandas as pd\n",
    "# разделение датасета на данные для обучения и тестирования\n",
    "from sklearn.model_selection import train_test_split\n",
    "# модель\n",
    "from sklearn.linear_model import LinearRegression\n",
    "# для расчета  mse\n",
    "from sklearn.metrics import  mean_squared_error\n",
    "# для использовоания RandomState\n",
    "import numpy as np\n",
    "from numpy.random import RandomState\n",
    "#для быстрого анализа и визуал.данных\n",
    "#import sweetviz as sv\n",
    "import sweetviz as sv\n",
    "# для выч. коэф.детерминации\n",
    "from sklearn.metrics import r2_score \n",
    "# для доверит. интерв         \n",
    "from scipy import stats as st"
   ]
  },
  {
   "cell_type": "markdown",
   "metadata": {},
   "source": [
    "\n",
    "##  Импорт данных \n"
   ]
  },
  {
   "cell_type": "code",
   "execution_count": 2,
   "metadata": {},
   "outputs": [
    {
     "name": "stdout",
     "output_type": "stream",
     "text": [
      "      id        f0        f1        f2     product\n",
      "0  txEyH  0.705745 -0.497823  1.221170  105.280062\n",
      "1  2acmU  1.334711 -0.340164  4.365080   73.037750\n",
      "2  409Wp  1.022732  0.151990  1.419926   85.265647\n",
      "3  iJLyR -0.032172  0.139033  2.978566  168.620776\n",
      "4  Xdl7t  1.988431  0.155413  4.751769  154.036647 \n",
      "\n",
      "      id         f0         f1        f2     product\n",
      "0  kBEdx -15.001348  -8.276000 -0.005876    3.179103\n",
      "1  62mP7  14.272088  -3.475083  0.999183   26.953261\n",
      "2  vyE1P   6.263187  -5.948386  5.001160  134.766305\n",
      "3  KcrkZ -13.081196 -11.506057  4.999415  137.945408\n",
      "4  AHL4O  12.702195  -8.147433  5.004363  134.766305 \n",
      "\n",
      "      id        f0        f1        f2     product\n",
      "0  fwXo0 -1.146987  0.963328 -0.828965   27.758673\n",
      "1  WJtFt  0.262778  0.269839 -2.530187   56.069697\n",
      "2  ovLUW  0.194587  0.289035 -5.586433   62.871910\n",
      "3  q6cA6  2.236060 -0.553760  0.930038  114.572842\n",
      "4  WPMUX -0.515993  1.716266  5.899011  149.600746 \n",
      "\n"
     ]
    }
   ],
   "source": [
    "data_1= pd.read_csv('geo_data_0.csv')\n",
    "data_2= pd.read_csv('geo_data_1.csv')\n",
    "data_3= pd.read_csv('geo_data_2.csv')\n",
    "\n",
    "for i in data_1,data_2,data_3:\n",
    "    print(i.head(), '\\n')"
   ]
  },
  {
   "cell_type": "markdown",
   "metadata": {},
   "source": [
    "**Существующие столбцы и информация, которую они содержат:**\n",
    "* id — уникальный идентификатор скважины\n",
    "* f0, f1, f2 — три признака точек \n",
    "* product — объём запасов в скважине (тыс. баррелей)"
   ]
  },
  {
   "cell_type": "markdown",
   "metadata": {},
   "source": [
    "**Рассмотрим данные геологоразведки более детально:**\n"
   ]
  },
  {
   "cell_type": "code",
   "execution_count": 3,
   "metadata": {},
   "outputs": [
    {
     "name": "stdout",
     "output_type": "stream",
     "text": [
      "<class 'pandas.core.frame.DataFrame'>\n",
      "RangeIndex: 100000 entries, 0 to 99999\n",
      "Data columns (total 5 columns):\n",
      " #   Column   Non-Null Count   Dtype  \n",
      "---  ------   --------------   -----  \n",
      " 0   id       100000 non-null  object \n",
      " 1   f0       100000 non-null  float64\n",
      " 2   f1       100000 non-null  float64\n",
      " 3   f2       100000 non-null  float64\n",
      " 4   product  100000 non-null  float64\n",
      "dtypes: float64(4), object(1)\n",
      "memory usage: 3.8+ MB\n",
      "None\n",
      "                  f0             f1             f2        product\n",
      "count  100000.000000  100000.000000  100000.000000  100000.000000\n",
      "mean        0.500419       0.250143       2.502647      92.500000\n",
      "std         0.871832       0.504433       3.248248      44.288691\n",
      "min        -1.408605      -0.848218     -12.088328       0.000000\n",
      "25%        -0.072580      -0.200881       0.287748      56.497507\n",
      "50%         0.502360       0.250252       2.515969      91.849972\n",
      "75%         1.073581       0.700646       4.715088     128.564089\n",
      "max         2.362331       1.343769      16.003790     185.364347\n"
     ]
    },
    {
     "data": {
      "text/plain": [
       "0"
      ]
     },
     "execution_count": 3,
     "metadata": {},
     "output_type": "execute_result"
    }
   ],
   "source": [
    "# Первый регион\n",
    "print(data_1.info())\n",
    "print(data_1.describe())\n",
    "data_1.duplicated().sum()"
   ]
  },
  {
   "cell_type": "markdown",
   "metadata": {},
   "source": [
    "В первом регионе пропуски отсутствуют, признаки имееют одинаковый масштаб данных, дубликатов нет"
   ]
  },
  {
   "cell_type": "code",
   "execution_count": 4,
   "metadata": {},
   "outputs": [
    {
     "name": "stdout",
     "output_type": "stream",
     "text": [
      "<class 'pandas.core.frame.DataFrame'>\n",
      "RangeIndex: 100000 entries, 0 to 99999\n",
      "Data columns (total 5 columns):\n",
      " #   Column   Non-Null Count   Dtype  \n",
      "---  ------   --------------   -----  \n",
      " 0   id       100000 non-null  object \n",
      " 1   f0       100000 non-null  float64\n",
      " 2   f1       100000 non-null  float64\n",
      " 3   f2       100000 non-null  float64\n",
      " 4   product  100000 non-null  float64\n",
      "dtypes: float64(4), object(1)\n",
      "memory usage: 3.8+ MB\n",
      "None\n",
      "                  f0             f1             f2        product\n",
      "count  100000.000000  100000.000000  100000.000000  100000.000000\n",
      "mean        1.141296      -4.796579       2.494541      68.825000\n",
      "std         8.965932       5.119872       1.703572      45.944423\n",
      "min       -31.609576     -26.358598      -0.018144       0.000000\n",
      "25%        -6.298551      -8.267985       1.000021      26.953261\n",
      "50%         1.153055      -4.813172       2.011479      57.085625\n",
      "75%         8.621015      -1.332816       3.999904     107.813044\n",
      "max        29.421755      18.734063       5.019721     137.945408\n"
     ]
    },
    {
     "data": {
      "text/plain": [
       "0"
      ]
     },
     "execution_count": 4,
     "metadata": {},
     "output_type": "execute_result"
    }
   ],
   "source": [
    "# Второй регион\n",
    "print(data_2.info())\n",
    "print(data_2.describe())\n",
    "data_2.duplicated().sum()"
   ]
  },
  {
   "cell_type": "markdown",
   "metadata": {},
   "source": [
    "Во втором регионе пропуски отсутствуют, признаки имееют одинаковый масштаб данных, дубликатов нет"
   ]
  },
  {
   "cell_type": "code",
   "execution_count": 5,
   "metadata": {},
   "outputs": [
    {
     "name": "stdout",
     "output_type": "stream",
     "text": [
      "<class 'pandas.core.frame.DataFrame'>\n",
      "RangeIndex: 100000 entries, 0 to 99999\n",
      "Data columns (total 5 columns):\n",
      " #   Column   Non-Null Count   Dtype  \n",
      "---  ------   --------------   -----  \n",
      " 0   id       100000 non-null  object \n",
      " 1   f0       100000 non-null  float64\n",
      " 2   f1       100000 non-null  float64\n",
      " 3   f2       100000 non-null  float64\n",
      " 4   product  100000 non-null  float64\n",
      "dtypes: float64(4), object(1)\n",
      "memory usage: 3.8+ MB\n",
      "None\n",
      "                  f0             f1             f2        product\n",
      "count  100000.000000  100000.000000  100000.000000  100000.000000\n",
      "mean        0.002023      -0.002081       2.495128      95.000000\n",
      "std         1.732045       1.730417       3.473445      44.749921\n",
      "min        -8.760004      -7.084020     -11.970335       0.000000\n",
      "25%        -1.162288      -1.174820       0.130359      59.450441\n",
      "50%         0.009424      -0.009482       2.484236      94.925613\n",
      "75%         1.158535       1.163678       4.858794     130.595027\n",
      "max         7.238262       7.844801      16.739402     190.029838\n"
     ]
    },
    {
     "data": {
      "text/plain": [
       "0"
      ]
     },
     "execution_count": 5,
     "metadata": {},
     "output_type": "execute_result"
    }
   ],
   "source": [
    "# Третий регион\n",
    "print(data_3.info())\n",
    "print(data_3.describe())\n",
    "data_3.duplicated().sum()"
   ]
  },
  {
   "cell_type": "markdown",
   "metadata": {},
   "source": [
    "Во третьем регионе пропуски отсутствуют, признаки имееют одинаковый масштаб данных, дубликатов нет"
   ]
  },
  {
   "cell_type": "code",
   "execution_count": 6,
   "metadata": {},
   "outputs": [
    {
     "data": {
      "application/vnd.jupyter.widget-view+json": {
       "model_id": "70d8c3c891454be18c3244d586776eec",
       "version_major": 2,
       "version_minor": 0
      },
      "text/plain": [
       "HBox(children=(FloatProgress(value=0.0, layout=Layout(flex='2'), max=6.0), HTML(value='')), layout=Layout(disp…"
      ]
     },
     "metadata": {},
     "output_type": "display_data"
    },
    {
     "name": "stdout",
     "output_type": "stream",
     "text": [
      "\n",
      "Report report1.html was generated! NOTEBOOK/COLAB USERS: the web browser MAY not pop up, regardless, the report IS saved in your notebook/colab files.\n"
     ]
    }
   ],
   "source": [
    "report=sv.analyze(data_1)\n",
    "report.show_html('report1.html')"
   ]
  },
  {
   "cell_type": "code",
   "execution_count": 7,
   "metadata": {},
   "outputs": [
    {
     "data": {
      "application/vnd.jupyter.widget-view+json": {
       "model_id": "951370a2deb349728380ad9ee9ceb819",
       "version_major": 2,
       "version_minor": 0
      },
      "text/plain": [
       "HBox(children=(FloatProgress(value=0.0, layout=Layout(flex='2'), max=6.0), HTML(value='')), layout=Layout(disp…"
      ]
     },
     "metadata": {},
     "output_type": "display_data"
    },
    {
     "name": "stdout",
     "output_type": "stream",
     "text": [
      "\n",
      "Report report2.html was generated! NOTEBOOK/COLAB USERS: the web browser MAY not pop up, regardless, the report IS saved in your notebook/colab files.\n"
     ]
    }
   ],
   "source": [
    "report=sv.analyze(data_2)\n",
    "report.show_html('report2.html')"
   ]
  },
  {
   "cell_type": "code",
   "execution_count": 8,
   "metadata": {},
   "outputs": [
    {
     "data": {
      "application/vnd.jupyter.widget-view+json": {
       "model_id": "379219eb41bf40569f332b60dc1fd014",
       "version_major": 2,
       "version_minor": 0
      },
      "text/plain": [
       "HBox(children=(FloatProgress(value=0.0, layout=Layout(flex='2'), max=6.0), HTML(value='')), layout=Layout(disp…"
      ]
     },
     "metadata": {},
     "output_type": "display_data"
    },
    {
     "name": "stdout",
     "output_type": "stream",
     "text": [
      "\n",
      "Report report3.html was generated! NOTEBOOK/COLAB USERS: the web browser MAY not pop up, regardless, the report IS saved in your notebook/colab files.\n"
     ]
    }
   ],
   "source": [
    "report=sv.analyze(data_3)\n",
    "report.show_html('report3.html')"
   ]
  },
  {
   "cell_type": "markdown",
   "metadata": {},
   "source": [
    "Все признаки имеют распределение схожее с нормальным.Высокая корр между целевым признаком и f2, но так как о признаках ничего не известно, оставим все как есть."
   ]
  },
  {
   "cell_type": "markdown",
   "metadata": {},
   "source": [
    "## Обучение и проверка модели для каждого региона "
   ]
  },
  {
   "cell_type": "markdown",
   "metadata": {},
   "source": [
    "Создадим две переменные \n",
    "* features — запишем в неё признаки\n",
    "* target —  запишем в нее целевой признак"
   ]
  },
  {
   "cell_type": "code",
   "execution_count": 9,
   "metadata": {},
   "outputs": [],
   "source": [
    "# признаки для 1 региона\n",
    "features_1 = data_1.drop(['id','product'] , axis = 1)\n",
    "target_1 = data_1['product']\n",
    "\n",
    "# признаки для 2 региона\n",
    "features_2 = data_2.drop(['id','product'] , axis = 1)\n",
    "target_2 = data_2['product']\n",
    "\n",
    "# признаки для 3 региона\n",
    "features_3 = data_3.drop(['id','product'] , axis = 1)\n",
    "target_3 = data_3['product']"
   ]
  },
  {
   "cell_type": "markdown",
   "metadata": {},
   "source": [
    "Разделим данные на обучающую и валидационную выборки в соотношении 75:25:"
   ]
  },
  {
   "cell_type": "code",
   "execution_count": 10,
   "metadata": {},
   "outputs": [
    {
     "name": "stdout",
     "output_type": "stream",
     "text": [
      "1 регион\n",
      "Доля обучающей выборки: 75%\n",
      "Количество элементов в обучающей выборке: 75000\n",
      "\n",
      "2 регион\n",
      "Доля обучающей выборки: 75%\n",
      "Количество элементов в обучающей выборке: 75000\n",
      "\n",
      "3 регион\n",
      "Доля обучающей выборки: 75%\n",
      "Количество элементов в обучающей выборке: 75000\n"
     ]
    }
   ],
   "source": [
    "features_train_1, features_valid_1, target_train_1, target_valid_1 = train_test_split(features_1, target_1,\n",
    "                                                                                        random_state=777,\n",
    "                                                                                        test_size = 0.25)\n",
    "print('1 регион')\n",
    "print('Доля обучающей выборки: {:.0%}'.format(len(features_train_1)/len(data_1)))\n",
    "print('Количество элементов в обучающей выборке: {}'.format(features_train_1.shape[0]))\n",
    "print()\n",
    "\n",
    "                                                                                        \n",
    "features_train_2, features_valid_2, target_train_2, target_valid_2 = train_test_split(features_2, target_2,\n",
    "                                                                                        random_state=777,\n",
    "                                                                                        test_size = 0.25)   \n",
    "print('2 регион')\n",
    "print('Доля обучающей выборки: {:.0%}'.format(len(features_train_2)/len(data_2)))\n",
    "print('Количество элементов в обучающей выборке: {}'.format(features_train_2.shape[0]))\n",
    "print()\n",
    "                                                                                        \n",
    "features_train_3, features_valid_3, target_train_3, target_valid_3 = train_test_split(features_3, target_3,\n",
    "                                                                                        random_state=777,\n",
    "                                                                                        test_size = 0.25)    \n",
    "print('3 регион')\n",
    "print('Доля обучающей выборки: {:.0%}'.format(len(features_train_3)/len(data_3)))\n",
    "print('Количество элементов в обучающей выборке: {}'.format(features_train_3.shape[0]))"
   ]
  },
  {
   "cell_type": "markdown",
   "metadata": {},
   "source": [
    "Для расчёта среднего запаса предсказанного сырья и RMSE напишем функцию **lin_model**, в качестве модели используем **линейную регрессию**:"
   ]
  },
  {
   "cell_type": "code",
   "execution_count": 11,
   "metadata": {},
   "outputs": [],
   "source": [
    "def lin_model(features_train, target_train, features_valid, target_valid):\n",
    "    model = LinearRegression()\n",
    "    model.fit(features_train, target_train)\n",
    "    predicted_valid = model.predict(features_valid)\n",
    "    mse = mean_squared_error(target_valid, predicted_valid)\n",
    "    rmse =mse**0.5\n",
    "    return predicted_valid, mse,rmse"
   ]
  },
  {
   "cell_type": "code",
   "execution_count": 12,
   "metadata": {},
   "outputs": [
    {
     "name": "stdout",
     "output_type": "stream",
     "text": [
      "1-ый регион:\n",
      "Средний запас предсказанного сырья: 92.7 тыс. баррелей\n",
      "MSE: 1443.4\n",
      "RMSE: 38.0\n",
      "R2: 0.27\n",
      "\n",
      "2-ой регион:\n",
      "Средний запас предсказанного сырья: 69.75 тыс. баррелей\n",
      "MSE: 0.8\n",
      "RMSE: 0.9\n",
      "R2: 0.9996232950483743\n",
      "\n",
      "3-ий регион:\n",
      "Средний запас предсказанного сырья: 95.0 тыс. баррелей\n",
      "MSE: 1618.5\n",
      "RMSE: 40.2\n",
      "R2: 0.2\n",
      "\n"
     ]
    }
   ],
   "source": [
    "predicted_valid_1,mse_1, rmse_1 = lin_model(features_train_1, target_train_1, features_valid_1, target_valid_1)\n",
    "print('1-ый регион:')\n",
    "print('Средний запас предсказанного сырья: {:.1f} тыс. баррелей'.format(predicted_valid_1.mean()))\n",
    "print('MSE: {:.1f}'.format(mse_1))\n",
    "print('RMSE: {:.1f}'.format(rmse_1))\n",
    "print(\"R2:\", round(r2_score(target_valid_1, predicted_valid_1),2))\n",
    "print()\n",
    "\n",
    "predicted_valid_2,mse_2, rmse_2 = lin_model(features_train_2, target_train_2, features_valid_2, target_valid_2)\n",
    "print('2-ой регион:')\n",
    "print('Средний запас предсказанного сырья: {:.2f} тыс. баррелей'.format(predicted_valid_2.mean()))\n",
    "print('MSE: {:.1f}'.format(mse_2))\n",
    "print('RMSE: {:.1f}'.format(rmse_2))\n",
    "print(\"R2:\", r2_score(target_valid_2, predicted_valid_2))\n",
    "print()\n",
    "\n",
    "\n",
    "predicted_valid_3,mse_3, rmse_3 = lin_model(features_train_3, target_train_3, features_valid_3, target_valid_3)\n",
    "print('3-ий регион:')\n",
    "print('Средний запас предсказанного сырья: {:.1f} тыс. баррелей'.format(predicted_valid_3.mean()))\n",
    "print('MSE: {:.1f}'.format(mse_3))\n",
    "print('RMSE: {:.1f}'.format(rmse_3))\n",
    "print(\"R2:\", round(r2_score(target_valid_3, predicted_valid_3),2))\n",
    "print()"
   ]
  },
  {
   "cell_type": "markdown",
   "metadata": {},
   "source": [
    "### Выводы:\n",
    "Высокий коэф. детерминации во втором регионе, говорит о том, что модель предсказывает идеально."
   ]
  },
  {
   "cell_type": "markdown",
   "metadata": {},
   "source": [
    "\n",
    "## Подготовка к расчету прибыли\n"
   ]
  },
  {
   "cell_type": "markdown",
   "metadata": {},
   "source": [
    "* При разведке региона исследуют 500 точек, из которых выбирают 200 лучших для расчёта прибыли.\n",
    "\n",
    "* Бюджет на разработку скважин в регионе — 10 млрд рублей.\n",
    "\n",
    "* Один баррель сырья приносит 450 рублей дохода.\n",
    "\n",
    "* Доход с каждой единицы продукта составляет 450 тыс. рублей, поскольку объём указан в тысячах баррелей.\n",
    "\n",
    "* После оценки рисков нужно оставить лишь те регионы, в которых вероятность убытков меньше 2.5%.\n",
    "\n",
    "* Среди них выбирают регион с наибольшей средней прибылью."
   ]
  },
  {
   "cell_type": "markdown",
   "metadata": {},
   "source": [
    "Все ключевые значения для расчётов сохраним в отдельных переменных:"
   ]
  },
  {
   "cell_type": "code",
   "execution_count": 13,
   "metadata": {},
   "outputs": [
    {
     "name": "stdout",
     "output_type": "stream",
     "text": [
      "Достаточный объём сырья для безубыточной разработки новой скважины: 111.1 тыс. баррелей\n"
     ]
    }
   ],
   "source": [
    "BASE_POINTS= 500\n",
    "BEST_BASE_POINTS = 200\n",
    "BUDGET = 10000000000\n",
    "OIL_COST = 450000\n",
    "RISK_POINT = 0.025\n",
    "\n",
    "required_volume = (BUDGET/BEST_BASE_POINTS)/OIL_COST\n",
    "\n",
    "print('Достаточный объём сырья для безубыточной разработки новой скважины: {:.1f} тыс. баррелей'.format(required_volume))\n"
   ]
  },
  {
   "cell_type": "markdown",
   "metadata": {},
   "source": [
    "Достаточный объём сырья для безубыточной разработки новой скважины: 111 тыс. баррелей  \n",
    "\n",
    "Этот показатель больше средних значений запасов сырья для каждого из трёх регионов."
   ]
  },
  {
   "cell_type": "markdown",
   "metadata": {},
   "source": [
    "## Функция для расчёта прибыли по выбранным скважинам и предсказаниям модели"
   ]
  },
  {
   "cell_type": "markdown",
   "metadata": {},
   "source": [
    "Создадим df и добавим к нему признаки с валид. выборки"
   ]
  },
  {
   "cell_type": "code",
   "execution_count": 14,
   "metadata": {},
   "outputs": [
    {
     "data": {
      "text/html": [
       "<div>\n",
       "<style scoped>\n",
       "    .dataframe tbody tr th:only-of-type {\n",
       "        vertical-align: middle;\n",
       "    }\n",
       "\n",
       "    .dataframe tbody tr th {\n",
       "        vertical-align: top;\n",
       "    }\n",
       "\n",
       "    .dataframe thead th {\n",
       "        text-align: right;\n",
       "    }\n",
       "</style>\n",
       "<table border=\"1\" class=\"dataframe\">\n",
       "  <thead>\n",
       "    <tr style=\"text-align: right;\">\n",
       "      <th></th>\n",
       "      <th>f0</th>\n",
       "      <th>f1</th>\n",
       "      <th>f2</th>\n",
       "    </tr>\n",
       "  </thead>\n",
       "  <tbody>\n",
       "    <tr>\n",
       "      <th>96275</th>\n",
       "      <td>0.113718</td>\n",
       "      <td>1.088792</td>\n",
       "      <td>1.652847</td>\n",
       "    </tr>\n",
       "    <tr>\n",
       "      <th>22712</th>\n",
       "      <td>-0.964788</td>\n",
       "      <td>0.168978</td>\n",
       "      <td>1.157154</td>\n",
       "    </tr>\n",
       "    <tr>\n",
       "      <th>31942</th>\n",
       "      <td>1.047647</td>\n",
       "      <td>0.368769</td>\n",
       "      <td>6.921124</td>\n",
       "    </tr>\n",
       "    <tr>\n",
       "      <th>87283</th>\n",
       "      <td>2.041288</td>\n",
       "      <td>0.418637</td>\n",
       "      <td>-0.718987</td>\n",
       "    </tr>\n",
       "    <tr>\n",
       "      <th>13342</th>\n",
       "      <td>0.510126</td>\n",
       "      <td>0.822430</td>\n",
       "      <td>7.980055</td>\n",
       "    </tr>\n",
       "  </tbody>\n",
       "</table>\n",
       "</div>"
      ],
      "text/plain": [
       "             f0        f1        f2\n",
       "96275  0.113718  1.088792  1.652847\n",
       "22712 -0.964788  0.168978  1.157154\n",
       "31942  1.047647  0.368769  6.921124\n",
       "87283  2.041288  0.418637 -0.718987\n",
       "13342  0.510126  0.822430  7.980055"
      ]
     },
     "execution_count": 14,
     "metadata": {},
     "output_type": "execute_result"
    }
   ],
   "source": [
    "data_profit_1 = features_valid_1\n",
    "data_profit_1.head()"
   ]
  },
  {
   "cell_type": "markdown",
   "metadata": {},
   "source": [
    "Добавим целевой признак"
   ]
  },
  {
   "cell_type": "code",
   "execution_count": 15,
   "metadata": {},
   "outputs": [
    {
     "name": "stderr",
     "output_type": "stream",
     "text": [
      "<ipython-input-15-a55a509c9801>:1: SettingWithCopyWarning: \n",
      "A value is trying to be set on a copy of a slice from a DataFrame.\n",
      "Try using .loc[row_indexer,col_indexer] = value instead\n",
      "\n",
      "See the caveats in the documentation: https://pandas.pydata.org/pandas-docs/stable/user_guide/indexing.html#returning-a-view-versus-a-copy\n",
      "  data_profit_1['product'] = target_valid_1\n"
     ]
    },
    {
     "data": {
      "text/html": [
       "<div>\n",
       "<style scoped>\n",
       "    .dataframe tbody tr th:only-of-type {\n",
       "        vertical-align: middle;\n",
       "    }\n",
       "\n",
       "    .dataframe tbody tr th {\n",
       "        vertical-align: top;\n",
       "    }\n",
       "\n",
       "    .dataframe thead th {\n",
       "        text-align: right;\n",
       "    }\n",
       "</style>\n",
       "<table border=\"1\" class=\"dataframe\">\n",
       "  <thead>\n",
       "    <tr style=\"text-align: right;\">\n",
       "      <th></th>\n",
       "      <th>f0</th>\n",
       "      <th>f1</th>\n",
       "      <th>f2</th>\n",
       "      <th>product</th>\n",
       "    </tr>\n",
       "  </thead>\n",
       "  <tbody>\n",
       "    <tr>\n",
       "      <th>96275</th>\n",
       "      <td>0.113718</td>\n",
       "      <td>1.088792</td>\n",
       "      <td>1.652847</td>\n",
       "      <td>103.823665</td>\n",
       "    </tr>\n",
       "    <tr>\n",
       "      <th>22712</th>\n",
       "      <td>-0.964788</td>\n",
       "      <td>0.168978</td>\n",
       "      <td>1.157154</td>\n",
       "      <td>127.148609</td>\n",
       "    </tr>\n",
       "    <tr>\n",
       "      <th>31942</th>\n",
       "      <td>1.047647</td>\n",
       "      <td>0.368769</td>\n",
       "      <td>6.921124</td>\n",
       "      <td>151.007768</td>\n",
       "    </tr>\n",
       "    <tr>\n",
       "      <th>87283</th>\n",
       "      <td>2.041288</td>\n",
       "      <td>0.418637</td>\n",
       "      <td>-0.718987</td>\n",
       "      <td>176.320797</td>\n",
       "    </tr>\n",
       "    <tr>\n",
       "      <th>13342</th>\n",
       "      <td>0.510126</td>\n",
       "      <td>0.822430</td>\n",
       "      <td>7.980055</td>\n",
       "      <td>109.722362</td>\n",
       "    </tr>\n",
       "  </tbody>\n",
       "</table>\n",
       "</div>"
      ],
      "text/plain": [
       "             f0        f1        f2     product\n",
       "96275  0.113718  1.088792  1.652847  103.823665\n",
       "22712 -0.964788  0.168978  1.157154  127.148609\n",
       "31942  1.047647  0.368769  6.921124  151.007768\n",
       "87283  2.041288  0.418637 -0.718987  176.320797\n",
       "13342  0.510126  0.822430  7.980055  109.722362"
      ]
     },
     "execution_count": 15,
     "metadata": {},
     "output_type": "execute_result"
    }
   ],
   "source": [
    "data_profit_1['product'] = target_valid_1\n",
    "data_profit_1.head()"
   ]
  },
  {
   "cell_type": "markdown",
   "metadata": {},
   "source": [
    "Добавим предсказанный признак"
   ]
  },
  {
   "cell_type": "code",
   "execution_count": 16,
   "metadata": {},
   "outputs": [
    {
     "name": "stderr",
     "output_type": "stream",
     "text": [
      "<ipython-input-16-11c91548f6fe>:1: SettingWithCopyWarning: \n",
      "A value is trying to be set on a copy of a slice from a DataFrame.\n",
      "Try using .loc[row_indexer,col_indexer] = value instead\n",
      "\n",
      "See the caveats in the documentation: https://pandas.pydata.org/pandas-docs/stable/user_guide/indexing.html#returning-a-view-versus-a-copy\n",
      "  data_profit_1['product_predict'] = predicted_valid_1\n"
     ]
    },
    {
     "data": {
      "text/html": [
       "<div>\n",
       "<style scoped>\n",
       "    .dataframe tbody tr th:only-of-type {\n",
       "        vertical-align: middle;\n",
       "    }\n",
       "\n",
       "    .dataframe tbody tr th {\n",
       "        vertical-align: top;\n",
       "    }\n",
       "\n",
       "    .dataframe thead th {\n",
       "        text-align: right;\n",
       "    }\n",
       "</style>\n",
       "<table border=\"1\" class=\"dataframe\">\n",
       "  <thead>\n",
       "    <tr style=\"text-align: right;\">\n",
       "      <th></th>\n",
       "      <th>f0</th>\n",
       "      <th>f1</th>\n",
       "      <th>f2</th>\n",
       "      <th>product</th>\n",
       "      <th>product_predict</th>\n",
       "    </tr>\n",
       "  </thead>\n",
       "  <tbody>\n",
       "    <tr>\n",
       "      <th>96275</th>\n",
       "      <td>0.113718</td>\n",
       "      <td>1.088792</td>\n",
       "      <td>1.652847</td>\n",
       "      <td>103.823665</td>\n",
       "      <td>73.602223</td>\n",
       "    </tr>\n",
       "    <tr>\n",
       "      <th>22712</th>\n",
       "      <td>-0.964788</td>\n",
       "      <td>0.168978</td>\n",
       "      <td>1.157154</td>\n",
       "      <td>127.148609</td>\n",
       "      <td>79.131512</td>\n",
       "    </tr>\n",
       "    <tr>\n",
       "      <th>31942</th>\n",
       "      <td>1.047647</td>\n",
       "      <td>0.368769</td>\n",
       "      <td>6.921124</td>\n",
       "      <td>151.007768</td>\n",
       "      <td>122.033246</td>\n",
       "    </tr>\n",
       "    <tr>\n",
       "      <th>87283</th>\n",
       "      <td>2.041288</td>\n",
       "      <td>0.418637</td>\n",
       "      <td>-0.718987</td>\n",
       "      <td>176.320797</td>\n",
       "      <td>74.697464</td>\n",
       "    </tr>\n",
       "    <tr>\n",
       "      <th>13342</th>\n",
       "      <td>0.510126</td>\n",
       "      <td>0.822430</td>\n",
       "      <td>7.980055</td>\n",
       "      <td>109.722362</td>\n",
       "      <td>120.607144</td>\n",
       "    </tr>\n",
       "  </tbody>\n",
       "</table>\n",
       "</div>"
      ],
      "text/plain": [
       "             f0        f1        f2     product  product_predict\n",
       "96275  0.113718  1.088792  1.652847  103.823665        73.602223\n",
       "22712 -0.964788  0.168978  1.157154  127.148609        79.131512\n",
       "31942  1.047647  0.368769  6.921124  151.007768       122.033246\n",
       "87283  2.041288  0.418637 -0.718987  176.320797        74.697464\n",
       "13342  0.510126  0.822430  7.980055  109.722362       120.607144"
      ]
     },
     "execution_count": 16,
     "metadata": {},
     "output_type": "execute_result"
    }
   ],
   "source": [
    "data_profit_1['product_predict'] = predicted_valid_1\n",
    "data_profit_1.head()"
   ]
  },
  {
   "cell_type": "markdown",
   "metadata": {},
   "source": [
    "Аналогично для 2 и 3 региона"
   ]
  },
  {
   "cell_type": "code",
   "execution_count": 17,
   "metadata": {},
   "outputs": [
    {
     "name": "stderr",
     "output_type": "stream",
     "text": [
      "<ipython-input-17-880de282fa66>:2: SettingWithCopyWarning: \n",
      "A value is trying to be set on a copy of a slice from a DataFrame.\n",
      "Try using .loc[row_indexer,col_indexer] = value instead\n",
      "\n",
      "See the caveats in the documentation: https://pandas.pydata.org/pandas-docs/stable/user_guide/indexing.html#returning-a-view-versus-a-copy\n",
      "  data_profit_2['product'] = target_valid_2\n",
      "<ipython-input-17-880de282fa66>:3: SettingWithCopyWarning: \n",
      "A value is trying to be set on a copy of a slice from a DataFrame.\n",
      "Try using .loc[row_indexer,col_indexer] = value instead\n",
      "\n",
      "See the caveats in the documentation: https://pandas.pydata.org/pandas-docs/stable/user_guide/indexing.html#returning-a-view-versus-a-copy\n",
      "  data_profit_2['product_predict'] = predicted_valid_2\n",
      "<ipython-input-17-880de282fa66>:6: SettingWithCopyWarning: \n",
      "A value is trying to be set on a copy of a slice from a DataFrame.\n",
      "Try using .loc[row_indexer,col_indexer] = value instead\n",
      "\n",
      "See the caveats in the documentation: https://pandas.pydata.org/pandas-docs/stable/user_guide/indexing.html#returning-a-view-versus-a-copy\n",
      "  data_profit_3['product'] = target_valid_3\n",
      "<ipython-input-17-880de282fa66>:7: SettingWithCopyWarning: \n",
      "A value is trying to be set on a copy of a slice from a DataFrame.\n",
      "Try using .loc[row_indexer,col_indexer] = value instead\n",
      "\n",
      "See the caveats in the documentation: https://pandas.pydata.org/pandas-docs/stable/user_guide/indexing.html#returning-a-view-versus-a-copy\n",
      "  data_profit_3['product_predict'] = predicted_valid_3\n"
     ]
    }
   ],
   "source": [
    "data_profit_2 = features_valid_2\n",
    "data_profit_2['product'] = target_valid_2\n",
    "data_profit_2['product_predict'] = predicted_valid_2\n",
    "\n",
    "data_profit_3 = features_valid_3\n",
    "data_profit_3['product'] = target_valid_3\n",
    "data_profit_3['product_predict'] = predicted_valid_3"
   ]
  },
  {
   "cell_type": "code",
   "execution_count": 18,
   "metadata": {},
   "outputs": [],
   "source": [
    "def func_profit(data):\n",
    "    data.sample(500,replace=True)\n",
    "    data_list200 =(data.sort_values(by='product_predict', ascending=False)).head(200)\n",
    "    profit = (data_list200['product'].sum())*OIL_COST - BUDGET\n",
    "    return round(profit,2)"
   ]
  },
  {
   "cell_type": "code",
   "execution_count": 19,
   "metadata": {},
   "outputs": [
    {
     "name": "stdout",
     "output_type": "stream",
     "text": [
      "Прибыль для 1 регоина по выбранным скважинам: 3428943543.81\n",
      "Прибыль для 2 регоина по выбранным скважинам: 2415086696.68\n",
      "Прибыль для 3 регоина по выбранным скважинам: 2272190444.81\n"
     ]
    }
   ],
   "source": [
    "print(\"Прибыль для 1 регоина по выбранным скважинам:\",func_profit(data_profit_1))\n",
    "print(\"Прибыль для 2 регоина по выбранным скважинам:\",func_profit(data_profit_2))\n",
    "print(\"Прибыль для 3 регоина по выбранным скважинам:\",func_profit(data_profit_3))"
   ]
  },
  {
   "cell_type": "markdown",
   "metadata": {},
   "source": [
    "## Риски и прибыль для каждого региона"
   ]
  },
  {
   "cell_type": "code",
   "execution_count": 20,
   "metadata": {},
   "outputs": [],
   "source": [
    "state = np.random.RandomState(12345)\n",
    "values_1 = []\n",
    "\n",
    "#Процедурой бутстреп создаем 1000 подвыборок\n",
    "for i in range(1000):\n",
    "    subsample = data_profit_1.sample(n=500, replace=True, random_state=state)\n",
    "    values_1.append(func_profit(subsample))\n",
    "values_1 = pd.Series(values_1)"
   ]
  },
  {
   "cell_type": "code",
   "execution_count": 21,
   "metadata": {},
   "outputs": [
    {
     "name": "stdout",
     "output_type": "stream",
     "text": [
      "Доверительный интервал 95% от -44989841.57 до 1011837967.13\n"
     ]
    }
   ],
   "source": [
    "lower = values_1.quantile(0.025)\n",
    "upper = values_1.quantile(0.975)\n",
    "print('Доверительный интервал 95% от {:.2f} до {:.2f}'.format(lower, upper))"
   ]
  },
  {
   "cell_type": "code",
   "execution_count": 22,
   "metadata": {},
   "outputs": [
    {
     "name": "stdout",
     "output_type": "stream",
     "text": [
      "Средняя прибыль: 457865193.14 руб.\n"
     ]
    }
   ],
   "source": [
    "print('Средняя прибыль: {:.2f} руб.'.format(values_1.mean()))"
   ]
  },
  {
   "cell_type": "code",
   "execution_count": 23,
   "metadata": {},
   "outputs": [
    {
     "name": "stdout",
     "output_type": "stream",
     "text": [
      "Предполагаемый риск: 3.90%\n"
     ]
    }
   ],
   "source": [
    "print('Предполагаемый риск: {:.2%}'.format((values_1 < 0).mean()))"
   ]
  },
  {
   "cell_type": "markdown",
   "metadata": {},
   "source": [
    "Аналогично для 2 региона"
   ]
  },
  {
   "cell_type": "code",
   "execution_count": 24,
   "metadata": {},
   "outputs": [
    {
     "name": "stdout",
     "output_type": "stream",
     "text": [
      "Доверительный интервал 95% от 135221787.40 до 899393387.51\n",
      "Средняя прибыль: 520072307.83 руб.\n",
      "Предполагаемый риск: 0.40%\n"
     ]
    }
   ],
   "source": [
    "state = np.random.RandomState(12345)\n",
    "values_2 = []\n",
    "\n",
    "#Процедурой бутстреп создаем 1000 подвыборок\n",
    "for i in range(1000):\n",
    "    subsample = data_profit_2.sample(n=500, replace=True, random_state=state)\n",
    "    values_2.append(func_profit(subsample))\n",
    "values_2 = pd.Series(values_2)\n",
    "lower = values_2.quantile(0.025)\n",
    "upper = values_2.quantile(0.975)\n",
    "print('Доверительный интервал 95% от {:.2f} до {:.2f}'.format(lower, upper))\n",
    "print('Средняя прибыль: {:.2f} руб.'.format(values_2.mean()))\n",
    "print('Предполагаемый риск: {:.2%}'.format((values_2 < 0).mean()))\n"
   ]
  },
  {
   "cell_type": "markdown",
   "metadata": {},
   "source": [
    "Для 3-его региона"
   ]
  },
  {
   "cell_type": "code",
   "execution_count": 25,
   "metadata": {},
   "outputs": [
    {
     "name": "stdout",
     "output_type": "stream",
     "text": [
      "Доверительный интервал 95% от -184291547.44 до 862003926.64\n",
      "Средняя прибыль: 334265276.34 руб.\n",
      "Предполагаемый риск: 11.40%\n"
     ]
    }
   ],
   "source": [
    "values_3 = []\n",
    "\n",
    "#Процедурой бутстреп создаем 1000 подвыборок\n",
    "for i in range(1000):\n",
    "    subsample = data_profit_3.sample(n=500, replace=True, random_state=state)\n",
    "    values_3.append(func_profit(subsample))\n",
    "values_3 = pd.Series(values_3)\n",
    "lower = values_3.quantile(0.025)\n",
    "upper = values_3.quantile(0.975)\n",
    "print('Доверительный интервал 95% от {:.2f} до {:.2f}'.format(lower, upper))\n",
    "print('Средняя прибыль: {:.2f} руб.'.format(values_3.mean()))\n",
    "print('Предполагаемый риск: {:.2%}'.format((values_3 < 0).mean()))"
   ]
  },
  {
   "cell_type": "markdown",
   "metadata": {},
   "source": [
    "\n",
    "## Вывод\n"
   ]
  },
  {
   "cell_type": "markdown",
   "metadata": {},
   "source": [
    "Наилучшее место- 2 регион: прибыль больше чем в других регоинах,риск убытков меньше чем в других и меньше установленного 2.5%"
   ]
  }
 ],
 "metadata": {
  "kernelspec": {
   "display_name": "Python 3",
   "language": "python",
   "name": "python3"
  },
  "language_info": {
   "codemirror_mode": {
    "name": "ipython",
    "version": 3
   },
   "file_extension": ".py",
   "mimetype": "text/x-python",
   "name": "python",
   "nbconvert_exporter": "python",
   "pygments_lexer": "ipython3",
   "version": "3.8.3"
  },
  "toc": {
   "base_numbering": 1,
   "nav_menu": {},
   "number_sections": true,
   "sideBar": true,
   "skip_h1_title": true,
   "title_cell": "Table of Contents",
   "title_sidebar": "Contents",
   "toc_cell": false,
   "toc_position": {},
   "toc_section_display": true,
   "toc_window_display": false
  }
 },
 "nbformat": 4,
 "nbformat_minor": 4
}
